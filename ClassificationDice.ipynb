{
 "cells": [
  {
   "metadata": {},
   "cell_type": "markdown",
   "source": "## 1. DataSet import",
   "id": "6fac86fdd08104cf"
  },
  {
   "metadata": {
    "ExecuteTime": {
     "end_time": "2025-06-15T20:27:49.628254Z",
     "start_time": "2025-06-15T20:27:43.543237Z"
    }
   },
   "cell_type": "code",
   "source": [
    "import torch\n",
    "from torch import nn\n",
    "from sklearn.model_selection import train_test_split\n",
    "from prepare_datasets import *\n",
    "\n",
    "X, y , feature_names , categorical_features, continuous_features, actionable_features= get_and_prepare_german_dataset()\n",
    "\n",
    "X = torch.from_numpy(X).type(torch.float)\n",
    "y = torch.from_numpy(y).type(torch.float)\n",
    "X_train, X_test, y_train, y_test = train_test_split(X,\n",
    "                                                    y,\n",
    "                                                    test_size=0.2,\n",
    "                                                    random_state=42)"
   ],
   "id": "b198930cd4e722f1",
   "outputs": [],
   "execution_count": 1
  },
  {
   "metadata": {
    "ExecuteTime": {
     "end_time": "2025-06-15T20:27:50.582352Z",
     "start_time": "2025-06-15T20:27:50.573084Z"
    }
   },
   "cell_type": "code",
   "source": [
    "# Make device agnostic code\n",
    "device = \"cuda\" if torch.cuda.is_available() else \"cpu\"\n",
    "device"
   ],
   "id": "5b6ebf6cf2d1007f",
   "outputs": [
    {
     "data": {
      "text/plain": [
       "'cpu'"
      ]
     },
     "execution_count": 2,
     "metadata": {},
     "output_type": "execute_result"
    }
   ],
   "execution_count": 2
  },
  {
   "metadata": {},
   "cell_type": "markdown",
   "source": "## 2. Model",
   "id": "39a5e6d451351f60"
  },
  {
   "metadata": {
    "ExecuteTime": {
     "end_time": "2025-06-15T20:27:50.685629Z",
     "start_time": "2025-06-15T20:27:50.679080Z"
    }
   },
   "cell_type": "code",
   "source": [
    "# Taken from https://github.com/dylan-slack/manipulating-cfes/blob/main/train_models.py\n",
    "# wanted to use this the same model as in the paper\n",
    "class NeuralNetwork(nn.Module):\n",
    "    def __init__(self, input_size, hidden_size, num_classes):\n",
    "        super(NeuralNetwork, self).__init__()\n",
    "        self.fc1 = nn.Linear(input_size, hidden_size)\n",
    "        self.tanh1 = nn.Tanh()\n",
    "        self.fc2 = nn.Linear(hidden_size, hidden_size)\n",
    "        self.tanh2 = nn.Tanh()\n",
    "        self.fc3 = nn.Linear(hidden_size, hidden_size)\n",
    "        self.tanh3 = nn.Tanh()\n",
    "        self.fc4 = nn.Linear(hidden_size, num_classes)\n",
    "\n",
    "    def forward(self, x, return_logit=False):\n",
    "        out = self.fc1(x)\n",
    "        out = self.tanh1(out)\n",
    "        out = self.fc2(out)\n",
    "        out = self.tanh2(out)\n",
    "        out = self.fc3(out)\n",
    "        out = self.tanh3(out)\n",
    "        out = self.fc4(out)\n",
    "        return out\n"
   ],
   "id": "f0bffed6d44ac7ff",
   "outputs": [],
   "execution_count": 3
  },
  {
   "metadata": {
    "ExecuteTime": {
     "end_time": "2025-06-15T20:27:50.770566Z",
     "start_time": "2025-06-15T20:27:50.760923Z"
    }
   },
   "cell_type": "code",
   "source": "model = NeuralNetwork(X.shape[1], 200, 2)",
   "id": "d2e207fb18179fbe",
   "outputs": [],
   "execution_count": 4
  },
  {
   "metadata": {},
   "cell_type": "markdown",
   "source": "## 3. Training",
   "id": "fef0acb46f1e4679"
  },
  {
   "metadata": {
    "ExecuteTime": {
     "end_time": "2025-06-15T20:27:53.453715Z",
     "start_time": "2025-06-15T20:27:50.820408Z"
    }
   },
   "cell_type": "code",
   "source": [
    "loss_fn = nn.CrossEntropyLoss()\n",
    "optimizer = torch.optim.Adam(model.parameters(), lr=0.0001)"
   ],
   "id": "4736629e9c649f92",
   "outputs": [],
   "execution_count": 5
  },
  {
   "metadata": {
    "ExecuteTime": {
     "end_time": "2025-06-15T20:28:01.078528Z",
     "start_time": "2025-06-15T20:27:53.495457Z"
    }
   },
   "cell_type": "code",
   "source": [
    "from sklearn.metrics import f1_score, accuracy_score\n",
    "\n",
    "epochs = 600\n",
    "X_train, y_train = X_train.to(device), y_train.to(device)\n",
    "X_test, y_test = X_test.to(device), y_test.to(device)\n",
    "model.to(device)\n",
    "\n",
    "train_losses = []\n",
    "test_losses = []\n",
    "train_f1_scores = []\n",
    "test_f1_scores = []\n",
    "\n",
    "for epoch in range(epochs):\n",
    "    model.train()\n",
    "    y_logits = model(X_train)\n",
    "    y_pred = torch.argmax(y_logits, dim=1)\n",
    "    loss = loss_fn(y_logits, y_train.long())\n",
    "\n",
    "    f1_score_training = f1_score(\n",
    "        y_true=y_train.cpu().detach().numpy(),\n",
    "        y_pred=y_pred.cpu().detach().numpy()\n",
    "    )\n",
    "\n",
    "    optimizer.zero_grad()\n",
    "    loss.backward()\n",
    "    optimizer.step()\n",
    "\n",
    "    ### Testing\n",
    "    model.eval()\n",
    "    with torch.inference_mode():\n",
    "        test_logits = model(X_test)\n",
    "        test_pred = torch.argmax(test_logits, dim=1)\n",
    "        test_loss = loss_fn(test_logits, y_test.long())\n",
    "\n",
    "        f1_score_test = f1_score(\n",
    "            y_true=y_test.cpu().detach().numpy(),\n",
    "            y_pred=test_pred.cpu().detach().numpy()\n",
    "        )\n",
    "\n",
    "    train_losses.append(loss.item())\n",
    "    test_losses.append(test_loss.item())\n",
    "    train_f1_scores.append(f1_score_training)\n",
    "    test_f1_scores.append(f1_score_test)\n",
    "\n",
    "    if epoch % 100 == 0:\n",
    "        print(f\"Epoch: {epoch} | Loss: {loss:.5f}, F1-Training: {f1_score_training:.2f}% | Test loss: {test_loss:.5f}, F1-Testing: {f1_score_test:.2f}%\")"
   ],
   "id": "600de58273123c17",
   "outputs": [
    {
     "name": "stdout",
     "output_type": "stream",
     "text": [
      "Epoch: 0 | Loss: 0.66293, F1-Training: 0.82% | Test loss: 0.64132, F1-Testing: 0.83%\n",
      "Epoch: 100 | Loss: 0.58798, F1-Training: 0.82% | Test loss: 0.60628, F1-Testing: 0.83%\n",
      "Epoch: 200 | Loss: 0.57623, F1-Training: 0.82% | Test loss: 0.60809, F1-Testing: 0.84%\n",
      "Epoch: 300 | Loss: 0.56109, F1-Training: 0.82% | Test loss: 0.60010, F1-Testing: 0.83%\n",
      "Epoch: 400 | Loss: 0.55088, F1-Training: 0.82% | Test loss: 0.59784, F1-Testing: 0.83%\n",
      "Epoch: 500 | Loss: 0.53521, F1-Training: 0.83% | Test loss: 0.58117, F1-Testing: 0.83%\n"
     ]
    }
   ],
   "execution_count": 6
  },
  {
   "metadata": {
    "ExecuteTime": {
     "end_time": "2025-06-15T20:28:01.967001Z",
     "start_time": "2025-06-15T20:28:01.148599Z"
    }
   },
   "cell_type": "code",
   "source": [
    "import matplotlib.pyplot as plt\n",
    "\n",
    "\n",
    "plt.figure(figsize=(12, 5))\n",
    "\n",
    "# Plot Loss\n",
    "plt.subplot(1, 2, 1)\n",
    "plt.plot(train_losses, label=\"Train Loss\")\n",
    "plt.plot(test_losses, label=\"Test Loss\")\n",
    "plt.xlabel(\"Epochs\")\n",
    "plt.ylabel(\"Loss\")\n",
    "plt.title(\"Training vs. Test Loss\")\n",
    "plt.legend()\n",
    "\n",
    "# Plot F1 Score\n",
    "plt.subplot(1, 2, 2)\n",
    "plt.plot(train_f1_scores, label=\"Train F1\")\n",
    "plt.plot(test_f1_scores, label=\"Test F1\")\n",
    "plt.xlabel(\"Epochs\")\n",
    "plt.ylabel(\"F1 Score\")\n",
    "plt.title(\"Training vs. Test F1 Score\")\n",
    "plt.legend()\n",
    "\n",
    "plt.tight_layout()\n",
    "plt.show()"
   ],
   "id": "73a0eb3de9528d75",
   "outputs": [
    {
     "data": {
      "text/plain": [
       "<Figure size 1200x500 with 2 Axes>"
      ],
      "image/png": "[encoded data removed]"
     },
     "metadata": {},
     "output_type": "display_data"
    }
   ],
   "execution_count": 7
  },
  {
   "metadata": {},
   "cell_type": "markdown",
   "source": [
    "## 4. Counterfactual generation:\n",
    "### 4.1. of one Instance"
   ],
   "id": "15b98b87d61ce7c9"
  },
  {
   "metadata": {
    "ExecuteTime": {
     "end_time": "2025-06-15T20:28:02.541491Z",
     "start_time": "2025-06-15T20:28:02.021697Z"
    }
   },
   "cell_type": "code",
   "source": [
    "import dice_ml\n",
    "\n",
    "df = pd.DataFrame(X, columns=feature_names)\n",
    "df['target'] = y\n",
    "\n",
    "dice_data = dice_ml.Data(\n",
    "    dataframe=df,\n",
    "    continuous_features=continuous_features,\n",
    "    categorical_features=categorical_features,\n",
    "    outcome_name='target'\n",
    ")"
   ],
   "id": "507fccedc56932c2",
   "outputs": [],
   "execution_count": 8
  },
  {
   "metadata": {
    "ExecuteTime": {
     "end_time": "2025-06-15T20:28:02.764991Z",
     "start_time": "2025-06-15T20:28:02.629227Z"
    }
   },
   "cell_type": "code",
   "source": [
    "class PyTorchModelWrapper:\n",
    "    def __init__(self, model):\n",
    "        self.model = model\n",
    "\n",
    "    def predict_proba(self, x):\n",
    "        self.model.eval()\n",
    "        with torch.no_grad():\n",
    "            x = x.values\n",
    "            x = x.astype(np.float64)\n",
    "            x_tensor = torch.FloatTensor(x)\n",
    "            logits = self.model(x_tensor)\n",
    "            probabilities = torch.softmax(logits, dim=1)  \n",
    "            return probabilities.cpu().numpy()\n",
    "\n",
    "dice_model = dice_ml.Model(\n",
    "    model=PyTorchModelWrapper(model),\n",
    "    backend=\"sklearn\",\n",
    "    model_type='classifier'\n",
    ")\n",
    "\n",
    "exp = dice_ml.Dice(\n",
    "    dice_data,\n",
    "    dice_model,\n",
    "    method=\"genetic\"\n",
    ")\n"
   ],
   "id": "b750abba2d68706",
   "outputs": [],
   "execution_count": 9
  },
  {
   "metadata": {
    "ExecuteTime": {
     "end_time": "2025-06-15T20:28:03.437198Z",
     "start_time": "2025-06-15T20:28:02.851270Z"
    }
   },
   "cell_type": "code",
   "source": [
    "\n",
    "query_instance = X[11:12]\n",
    "query_df = pd.DataFrame(query_instance, columns=feature_names)\n",
    "\n",
    "\n",
    "#  generate counterfactuals\n",
    "dice_exp = exp.generate_counterfactuals(\n",
    "    query_df,\n",
    "    total_CFs=1,\n",
    "    desired_class=\"opposite\",\n",
    "    features_to_vary = actionable_features\n",
    ")\n",
    "\n",
    "print(\"\\nCounterfactuals:\")\n",
    "dice_exp.visualize_as_dataframe(show_only_changes=True)\n"
   ],
   "id": "f69818bcdc5f9b89",
   "outputs": [
    {
     "name": "stderr",
     "output_type": "stream",
     "text": [
      "100%|██████████| 1/1 [00:00<00:00,  1.88it/s]"
     ]
    },
    {
     "name": "stdout",
     "output_type": "stream",
     "text": [
      "\n",
      "Counterfactuals:\n",
      "Query instance (original outcome : 0)\n"
     ]
    },
    {
     "name": "stderr",
     "output_type": "stream",
     "text": [
      "\n"
     ]
    },
    {
     "data": {
      "text/plain": [
       "   Gender  ForeignWorker  Single   Age  LoanDuration  LoanAmount  \\\n",
       "0     1.0            0.0     0.0  24.0          48.0      4308.0   \n",
       "\n",
       "   LoanRateAsPercentOfIncome  YearsAtCurrentHome  NumberOfOtherLoansAtBank  \\\n",
       "0                        3.0                 4.0                       1.0   \n",
       "\n",
       "   NumberOfLiableIndividuals  ...  OtherLoansAtBank  HasCoapplicant  \\\n",
       "0                        1.0  ...               0.0             0.0   \n",
       "\n",
       "   HasGuarantor  OwnsHouse  RentsHouse  Unemployed  YearsAtCurrentJob_lt_1  \\\n",
       "0           0.0        0.0         1.0         0.0                     1.0   \n",
       "\n",
       "   YearsAtCurrentJob_geq_4  JobClassIsSkilled  target  \n",
       "0                      0.0                1.0       0  \n",
       "\n",
       "[1 rows x 28 columns]"
      ],
      "text/html": [
       "<div>\n",
       "<style scoped>\n",
       "    .dataframe tbody tr th:only-of-type {\n",
       "        vertical-align: middle;\n",
       "    }\n",
       "\n",
       "    .dataframe tbody tr th {\n",
       "        vertical-align: top;\n",
       "    }\n",
       "\n",
       "    .dataframe thead th {\n",
       "        text-align: right;\n",
       "    }\n",
       "</style>\n",
       "<table border=\"1\" class=\"dataframe\">\n",
       "  <thead>\n",
       "    <tr style=\"text-align: right;\">\n",
       "      <th></th>\n",
       "      <th>Gender</th>\n",
       "      <th>ForeignWorker</th>\n",
       "      <th>Single</th>\n",
       "      <th>Age</th>\n",
       "      <th>LoanDuration</th>\n",
       "      <th>LoanAmount</th>\n",
       "      <th>LoanRateAsPercentOfIncome</th>\n",
       "      <th>YearsAtCurrentHome</th>\n",
       "      <th>NumberOfOtherLoansAtBank</th>\n",
       "      <th>NumberOfLiableIndividuals</th>\n",
       "      <th>...</th>\n",
       "      <th>OtherLoansAtBank</th>\n",
       "      <th>HasCoapplicant</th>\n",
       "      <th>HasGuarantor</th>\n",
       "      <th>OwnsHouse</th>\n",
       "      <th>RentsHouse</th>\n",
       "      <th>Unemployed</th>\n",
       "      <th>YearsAtCurrentJob_lt_1</th>\n",
       "      <th>YearsAtCurrentJob_geq_4</th>\n",
       "      <th>JobClassIsSkilled</th>\n",
       "      <th>target</th>\n",
       "    </tr>\n",
       "  </thead>\n",
       "  <tbody>\n",
       "    <tr>\n",
       "      <th>0</th>\n",
       "      <td>1.0</td>\n",
       "      <td>0.0</td>\n",
       "      <td>0.0</td>\n",
       "      <td>24.0</td>\n",
       "      <td>48.0</td>\n",
       "      <td>4308.0</td>\n",
       "      <td>3.0</td>\n",
       "      <td>4.0</td>\n",
       "      <td>1.0</td>\n",
       "      <td>1.0</td>\n",
       "      <td>...</td>\n",
       "      <td>0.0</td>\n",
       "      <td>0.0</td>\n",
       "      <td>0.0</td>\n",
       "      <td>0.0</td>\n",
       "      <td>1.0</td>\n",
       "      <td>0.0</td>\n",
       "      <td>1.0</td>\n",
       "      <td>0.0</td>\n",
       "      <td>1.0</td>\n",
       "      <td>0</td>\n",
       "    </tr>\n",
       "  </tbody>\n",
       "</table>\n",
       "<p>1 rows × 28 columns</p>\n",
       "</div>"
      ]
     },
     "metadata": {},
     "output_type": "display_data"
    },
    {
     "name": "stdout",
     "output_type": "stream",
     "text": [
      "\n",
      "Diverse Counterfactual set (new outcome: 1.0)\n"
     ]
    },
    {
     "data": {
      "text/plain": [
       "  Gender ForeignWorker Single Age LoanDuration LoanAmount  \\\n",
       "0      -             -      -   -         18.0          -   \n",
       "\n",
       "  LoanRateAsPercentOfIncome YearsAtCurrentHome NumberOfOtherLoansAtBank  \\\n",
       "0                         -                  -                        -   \n",
       "\n",
       "  NumberOfLiableIndividuals  ... OtherLoansAtBank HasCoapplicant HasGuarantor  \\\n",
       "0                         -  ...                -              -            -   \n",
       "\n",
       "  OwnsHouse RentsHouse Unemployed YearsAtCurrentJob_lt_1  \\\n",
       "0       1.0        0.0          -                    0.0   \n",
       "\n",
       "  YearsAtCurrentJob_geq_4 JobClassIsSkilled target  \n",
       "0                       -                 -    1.0  \n",
       "\n",
       "[1 rows x 28 columns]"
      ],
      "text/html": [
       "<div>\n",
       "<style scoped>\n",
       "    .dataframe tbody tr th:only-of-type {\n",
       "        vertical-align: middle;\n",
       "    }\n",
       "\n",
       "    .dataframe tbody tr th {\n",
       "        vertical-align: top;\n",
       "    }\n",
       "\n",
       "    .dataframe thead th {\n",
       "        text-align: right;\n",
       "    }\n",
       "</style>\n",
       "<table border=\"1\" class=\"dataframe\">\n",
       "  <thead>\n",
       "    <tr style=\"text-align: right;\">\n",
       "      <th></th>\n",
       "      <th>Gender</th>\n",
       "      <th>ForeignWorker</th>\n",
       "      <th>Single</th>\n",
       "      <th>Age</th>\n",
       "      <th>LoanDuration</th>\n",
       "      <th>LoanAmount</th>\n",
       "      <th>LoanRateAsPercentOfIncome</th>\n",
       "      <th>YearsAtCurrentHome</th>\n",
       "      <th>NumberOfOtherLoansAtBank</th>\n",
       "      <th>NumberOfLiableIndividuals</th>\n",
       "      <th>...</th>\n",
       "      <th>OtherLoansAtBank</th>\n",
       "      <th>HasCoapplicant</th>\n",
       "      <th>HasGuarantor</th>\n",
       "      <th>OwnsHouse</th>\n",
       "      <th>RentsHouse</th>\n",
       "      <th>Unemployed</th>\n",
       "      <th>YearsAtCurrentJob_lt_1</th>\n",
       "      <th>YearsAtCurrentJob_geq_4</th>\n",
       "      <th>JobClassIsSkilled</th>\n",
       "      <th>target</th>\n",
       "    </tr>\n",
       "  </thead>\n",
       "  <tbody>\n",
       "    <tr>\n",
       "      <th>0</th>\n",
       "      <td>-</td>\n",
       "      <td>-</td>\n",
       "      <td>-</td>\n",
       "      <td>-</td>\n",
       "      <td>18.0</td>\n",
       "      <td>-</td>\n",
       "      <td>-</td>\n",
       "      <td>-</td>\n",
       "      <td>-</td>\n",
       "      <td>-</td>\n",
       "      <td>...</td>\n",
       "      <td>-</td>\n",
       "      <td>-</td>\n",
       "      <td>-</td>\n",
       "      <td>1.0</td>\n",
       "      <td>0.0</td>\n",
       "      <td>-</td>\n",
       "      <td>0.0</td>\n",
       "      <td>-</td>\n",
       "      <td>-</td>\n",
       "      <td>1.0</td>\n",
       "    </tr>\n",
       "  </tbody>\n",
       "</table>\n",
       "<p>1 rows × 28 columns</p>\n",
       "</div>"
      ]
     },
     "metadata": {},
     "output_type": "display_data"
    }
   ],
   "execution_count": 10
  },
  {
   "metadata": {},
   "cell_type": "markdown",
   "source": "### 4.2. calculating L1 Distance",
   "id": "633cde6f43ed7e55"
  },
  {
   "metadata": {
    "ExecuteTime": {
     "end_time": "2025-06-15T20:28:03.629897Z",
     "start_time": "2025-06-15T20:28:03.614703Z"
    }
   },
   "cell_type": "code",
   "source": [
    "# get counterfactuals as list\n",
    "cf_list = dice_exp.cf_examples_list[0].final_cfs_df.values.tolist()\n",
    "\n",
    "# Convert query_instance to tensor\n",
    "if isinstance(query_instance, np.ndarray):\n",
    "    query_instance = torch.from_numpy(query_instance).float()\n",
    "\n",
    "for cf in cf_list:\n",
    "    # Convert cf to tensor\n",
    "    if isinstance(cf, list):\n",
    "        cf = np.array(cf)\n",
    "    if isinstance(cf, np.ndarray):\n",
    "        cf = torch.from_numpy(cf).float()\n",
    "\n",
    "    cf_features = cf[:-1]  # all features except the last one which is the target\n",
    "    query_features = query_instance.squeeze()\n",
    "\n",
    "    with torch.no_grad():\n",
    "        # Calculate L1 distance between feature vectors\n",
    "        distance = torch.norm(query_features - cf_features, p=1)\n",
    "        print(f\"L1 distance between query and counterfactual: {distance.item()}\")"
   ],
   "id": "717d253e06637e4b",
   "outputs": [
    {
     "name": "stdout",
     "output_type": "stream",
     "text": [
      "L1 distance between query and counterfactual: 106.0\n"
     ]
    }
   ],
   "execution_count": 11
  },
  {
   "metadata": {},
   "cell_type": "markdown",
   "source": "## 4.3. Calculating the mean value of all L1 Distances of negatively classified instances",
   "id": "525f1c492a354578"
  },
  {
   "metadata": {
    "ExecuteTime": {
     "end_time": "2025-06-15T20:28:03.898028Z",
     "start_time": "2025-06-15T20:28:03.883923Z"
    }
   },
   "cell_type": "code",
   "source": [
    "from Helper_functions import *\n",
    "\n",
    "X_positive, X_negative, pos_indices, neg_indices = split_by_classification(model, X)\n"
   ],
   "id": "7951a15018a562e5",
   "outputs": [],
   "execution_count": 12
  },
  {
   "metadata": {
    "ExecuteTime": {
     "end_time": "2025-06-15T20:30:09.935187Z",
     "start_time": "2025-06-15T20:28:03.994682Z"
    }
   },
   "cell_type": "code",
   "source": [
    "query_df = pd.DataFrame(X_negative.cpu().numpy(), columns=feature_names)\n",
    "\n",
    "dice_exp = exp.generate_counterfactuals(\n",
    "    query_df,\n",
    "    total_CFs=1,\n",
    "    desired_class=\"opposite\",\n",
    "    features_to_vary=actionable_features\n",
    ")"
   ],
   "id": "a23f3c2cb44af321",
   "outputs": [
    {
     "name": "stderr",
     "output_type": "stream",
     "text": [
      "100%|██████████| 177/177 [02:05<00:00,  1.41it/s]\n"
     ]
    }
   ],
   "execution_count": 13
  },
  {
   "metadata": {
    "ExecuteTime": {
     "end_time": "2025-06-15T20:30:10.283986Z",
     "start_time": "2025-06-15T20:30:10.058526Z"
    }
   },
   "cell_type": "code",
   "source": [
    "l1_distances = []\n",
    "for i in range(len(X_negative)):\n",
    "    original = X_negative[i]\n",
    "    cf_df = dice_exp.cf_examples_list[i].final_cfs_df#\n",
    "    if cf_df is None or cf_df.empty:\n",
    "        continue\n",
    "    cf_values = cf_df[feature_names].values\n",
    "    cf_tensor = torch.from_numpy(cf_values).float().to(device)\n",
    "    distance = torch.norm(original - cf_tensor, p=1).item()\n",
    "    l1_distances.append(distance)\n",
    "\n",
    "# Compute mean L1 distance\n",
    "mean_l1 = np.mean(l1_distances)\n",
    "print(f\"Mean L1 distance for negatively classified data using DiCE: {mean_l1:.2f}\")"
   ],
   "id": "e196acdab8e0e11f",
   "outputs": [
    {
     "name": "stdout",
     "output_type": "stream",
     "text": [
      "Mean L1 distance for negatively classified data using DiCE: 2107.70\n"
     ]
    }
   ],
   "execution_count": 14
  },
  {
   "metadata": {},
   "cell_type": "markdown",
   "source": "## 5. Saving the model",
   "id": "b891c4dabbf46529"
  },
  {
   "metadata": {
    "ExecuteTime": {
     "end_time": "2025-06-15T20:30:10.395976Z",
     "start_time": "2025-06-15T20:30:10.370454Z"
    }
   },
   "cell_type": "code",
   "source": [
    "from pathlib import Path\n",
    "\n",
    "# 1. Create models directory\n",
    "MODEL_PATH = Path(\"models\")\n",
    "MODEL_PATH.mkdir(parents=True, exist_ok=True)\n",
    "\n",
    "# 2. Create model save path\n",
    "MODEL_NAME = \"01_pytorch_workflow_model_0.pth\"\n",
    "MODEL_SAVE_PATH = MODEL_PATH / MODEL_NAME\n",
    "\n",
    "# 3. Save the model state dict\n",
    "print(f\"Saving model to: {MODEL_SAVE_PATH}\")\n",
    "torch.save(obj=model.state_dict(), # only saving the state_dict() only saves the models learned parameters\n",
    "           f=MODEL_SAVE_PATH)"
   ],
   "id": "f30eada59b56177c",
   "outputs": [
    {
     "name": "stdout",
     "output_type": "stream",
     "text": [
      "Saving model to: models\\01_pytorch_workflow_model_0.pth\n"
     ]
    }
   ],
   "execution_count": 15
  },
  {
   "metadata": {},
   "cell_type": "markdown",
   "source": "## Calculating the initial approximation of recourse",
   "id": "60d749a33f8cf2ca"
  },
  {
   "metadata": {
    "ExecuteTime": {
     "end_time": "2025-06-15T20:30:10.540745Z",
     "start_time": "2025-06-15T20:30:10.513676Z"
    }
   },
   "cell_type": "code",
   "source": [
    "loaded_model = NeuralNetwork(X.shape[1], 200, 2)\n",
    "loaded_model.load_state_dict(torch.load(f=MODEL_SAVE_PATH))\n",
    "\n",
    "X_positive, X_negative, pos_indices, neg_indices = split_by_classification(loaded_model, X)\n",
    "\n",
    "y_logits_negative = loaded_model(X_negative)\n",
    "abs_differences = torch.abs(y_logits_negative[:, 0] - y_logits_negative[:, 1])\n",
    "recourse_Approximation = torch.mean(abs_differences)\n",
    "\n",
    "\n",
    "print(f\"initial Recourse Approximation: {recourse_Approximation:.2f}\")"
   ],
   "id": "bd34a385b4675b4d",
   "outputs": [
    {
     "name": "stdout",
     "output_type": "stream",
     "text": [
      "initial Recourse Approximation: 0.52\n"
     ]
    }
   ],
   "execution_count": 16
  },
  {
   "metadata": {},
   "cell_type": "markdown",
   "source": "## 5. Approximating the Cost of Recourse:\n",
   "id": "95d41ff54d8bfcd2"
  },
  {
   "metadata": {},
   "cell_type": "markdown",
   "source": "## 5. Modifying the Cost function:",
   "id": "7843316f24bfeab8"
  },
  {
   "metadata": {},
   "cell_type": "markdown",
   "source": [
    "the cost function has this formula\n",
    "\n",
    "$$  L (X) = BinaryCrossEntropy(D {\\scriptstyle train}) -  \\frac{\\lambda}{|D {\\scriptstyle negative}|} \\cdot \\sum_{x \\in D {\\scriptstyle negative}} C(x)  $$\n",
    "\n",
    "\n",
    "with C(x) is an approximation of the Cost of Recourse set to be\n",
    "$$ C(x) = |G{\\scriptstyle class 1} - G{\\scriptstyle class 2} |$$\n",
    "\n",
    "G being the logit of that specific class and the approximation being the difference of the logits"
   ],
   "id": "a400c9aa6cbdc39c"
  },
  {
   "metadata": {},
   "cell_type": "markdown",
   "source": "Calculating the counterfactuals for the negatively classified instances mutiple times during the training loop can be very costly. That justifies the use of use of an approximation",
   "id": "385044583f0e61a0"
  },
  {
   "metadata": {
    "ExecuteTime": {
     "end_time": "2025-06-15T20:30:21.666848Z",
     "start_time": "2025-06-15T20:30:10.664927Z"
    }
   },
   "cell_type": "code",
   "source": [
    "from sklearn.metrics import accuracy_score\n",
    "\n",
    "lamda = 0.1\n",
    "epochs = 1000\n",
    "\n",
    "loaded_model = NeuralNetwork(X.shape[1], 200, 2)\n",
    "loaded_model.load_state_dict(torch.load(f=MODEL_SAVE_PATH))\n",
    "\n",
    "initial_accuracy = accuracy_score(y, torch.argmax(loaded_model(X), dim=1))\n",
    "print(f\"Initial Accuracy: {initial_accuracy:.2f}\")\n",
    "\n",
    "X_train, X_test, y_train, y_test = train_test_split(X,\n",
    "                                                    y,\n",
    "                                                    test_size=0.3,\n",
    "                                                    random_state=42)\n",
    "\n",
    "X_train_positive, X_train_negative, pos_indices, neg_indices = split_by_classification(loaded_model,X_train)\n",
    "\n",
    "X_test_positive, X_test_negative, pos_indices, neg_indices = split_by_classification(loaded_model,X_test)\n",
    "\n",
    "loss_fn_1 = nn.CrossEntropyLoss()\n",
    "optimizer = torch.optim.Adam(loaded_model.parameters(), lr=0.0001)\n",
    "accuracies = []\n",
    "for epoch in range(epochs):\n",
    "    loaded_model.train()\n",
    "\n",
    "    y_logits = loaded_model(X_train)\n",
    "    y_pred = torch.argmax(y_logits, dim=1)\n",
    "    loss_1 = loss_fn_1(y_logits, y_train.long())\n",
    "\n",
    "    y_logits_negative = loaded_model(X_train_negative)\n",
    "\n",
    "    abs_differences = torch.abs (y_logits_negative[:, 0] - y_logits_negative[:, 1])\n",
    "    loss_2 = torch.mean(abs_differences)\n",
    "    loss = loss_1 - lamda * loss_2\n",
    "\n",
    "    optimizer.zero_grad()\n",
    "    loss.backward()\n",
    "    optimizer.step()\n",
    "\n",
    "    loaded_model.eval()\n",
    "    with torch.inference_mode():\n",
    "        test_logits = loaded_model(X_test)\n",
    "        test_pred = torch.argmax(test_logits, dim=1)\n",
    "        test_loss_1 = loss_fn_1(test_logits, y_test.long())\n",
    "\n",
    "        y_logits_negative = loaded_model(X_test_negative)\n",
    "\n",
    "        abs_differences = torch.abs (y_logits_negative[:, 0] - y_logits_negative[:, 1])\n",
    "        test_loss_2 = torch.mean(abs_differences)\n",
    "\n",
    "        test_loss = test_loss_1 - lamda * test_loss_2\n",
    "\n",
    "        accuracy = accuracy_score(y_test, torch.argmax(loaded_model(X_test), dim=1))\n",
    "\n",
    "    if epoch % 10 == 0:\n",
    "        X_train_positive, X_train_negative, pos_indices, neg_indices = split_by_classification(loaded_model,X_train)\n",
    "\n",
    "        X_test_positive, X_test_negative, pos_indices, neg_indices = split_by_classification(loaded_model,X_test)\n",
    "\n",
    "    if epoch % 100 == 0:\n",
    "        print(f\"Epoch: {epoch} | Loss: {loss:.5f}| Test loss: {test_loss:.5f}| Accuracy: {accuracy:.5f}\")"
   ],
   "id": "cc0cd7dcbeaa621e",
   "outputs": [
    {
     "name": "stdout",
     "output_type": "stream",
     "text": [
      "Initial Accuracy: 0.75\n",
      "Epoch: 0 | Loss: 0.47045| Test loss: 0.52980| Accuracy: 0.62000\n",
      "Epoch: 100 | Loss: 0.45509| Test loss: 0.49250| Accuracy: 0.72333\n",
      "Epoch: 200 | Loss: 0.44746| Test loss: 0.48905| Accuracy: 0.74000\n",
      "Epoch: 300 | Loss: 0.43421| Test loss: 0.47094| Accuracy: 0.72333\n",
      "Epoch: 400 | Loss: 0.42095| Test loss: 0.46660| Accuracy: 0.72667\n",
      "Epoch: 500 | Loss: 0.39942| Test loss: 0.46055| Accuracy: 0.71667\n",
      "Epoch: 600 | Loss: 0.39184| Test loss: 0.46343| Accuracy: 0.72333\n",
      "Epoch: 700 | Loss: 0.40398| Test loss: 0.46301| Accuracy: 0.74667\n",
      "Epoch: 800 | Loss: 0.36997| Test loss: 0.46848| Accuracy: 0.75000\n",
      "Epoch: 900 | Loss: 0.33040| Test loss: 0.43407| Accuracy: 0.74667\n"
     ]
    }
   ],
   "execution_count": 17
  },
  {
   "metadata": {},
   "cell_type": "markdown",
   "source": "## Testing for different Lamdas\n",
   "id": "7e38460e0605ad5e"
  },
  {
   "metadata": {
    "ExecuteTime": {
     "end_time": "2025-06-15T23:08:36.957562Z",
     "start_time": "2025-06-15T20:30:21.779157Z"
    }
   },
   "cell_type": "code",
   "source": [
    "import numpy as np\n",
    "import matplotlib.pyplot as plt\n",
    "from sklearn.metrics import accuracy_score\n",
    "\n",
    "lambdas = np.linspace(0.01, 1, 40)\n",
    "epochs = 250\n",
    "mean_accuracies = []\n",
    "mean_recourse_approximations = []\n",
    "mean_recourses = []\n",
    "\n",
    "for lamda in lambdas:\n",
    "    print(f\"\\nTraining for lambda = {lamda:.3f}\")\n",
    "\n",
    "    loaded_model = NeuralNetwork(X.shape[1], 200, 2)\n",
    "    loaded_model.load_state_dict(torch.load(f=MODEL_SAVE_PATH))\n",
    "\n",
    "    initial_accuracy = accuracy_score(y, torch.argmax(loaded_model(X), dim=1))\n",
    "    print(f\"Initial Accuracy: {initial_accuracy:.2f}\")\n",
    "\n",
    "    X_train_positive, X_train_negative, pos_indices, neg_indices = split_by_classification(loaded_model,X_train)\n",
    "\n",
    "    X_test_positive, X_test_negative, pos_indices, neg_indices = split_by_classification(loaded_model,X_test)\n",
    "\n",
    "    loss_fn_1 = nn.CrossEntropyLoss()\n",
    "    optimizer = torch.optim.Adam(loaded_model.parameters(), lr=0.0001)\n",
    "\n",
    "    epoch_accuracies = []\n",
    "    epoch_recourse = []\n",
    "\n",
    "    for epoch in range(epochs):\n",
    "        loaded_model.train()\n",
    "\n",
    "        y_logits = loaded_model(X_train)\n",
    "        loss_1 = loss_fn_1(y_logits, y_train.long())\n",
    "\n",
    "        y_logits_negative = loaded_model(X_train_negative)\n",
    "        abs_differences = torch.abs(y_logits_negative[:, 0] - y_logits_negative[:, 1])\n",
    "        loss_2 = torch.mean(abs_differences)\n",
    "\n",
    "        loss = loss_1 - lamda * loss_2\n",
    "\n",
    "        optimizer.zero_grad()\n",
    "        loss.backward()\n",
    "        optimizer.step()\n",
    "\n",
    "        loaded_model.eval()\n",
    "        with torch.inference_mode():\n",
    "            test_logits = loaded_model(X_test)\n",
    "            test_loss_1 = loss_fn_1(test_logits, y_test.long())\n",
    "\n",
    "            y_logits_negative = loaded_model(X_test_negative)\n",
    "            abs_differences = torch.abs(y_logits_negative[:, 0] - y_logits_negative[:, 1])\n",
    "            test_loss_2 = torch.mean(abs_differences)\n",
    "\n",
    "            test_loss = test_loss_1 - lamda * test_loss_2\n",
    "\n",
    "            accuracy = accuracy_score(y_test, torch.argmax(test_logits, dim=1))\n",
    "            epoch_accuracies.append(accuracy)\n",
    "            if not torch.isnan(test_loss_2):\n",
    "                epoch_recourse.append(test_loss_2.item())\n",
    "\n",
    "        if epoch % 10 == 0:\n",
    "\n",
    "            X_train_positive, X_train_negative, pos_indices, neg_indices = split_by_classification(loaded_model,X_train)\n",
    "            X_test_positive, X_test_negative, pos_indices, neg_indices = split_by_classification(loaded_model,X_test)\n",
    "\n",
    "        if epoch % 100 == 0:\n",
    "            print(f\"Epoch: {epoch} | Loss: {loss:.5f} | Test loss: {test_loss:.5f} | Accuracy: {accuracy:.5f} | Recourse loss: {test_loss_2:.5f}\")\n",
    "\n",
    "    mean_accuracy = np.mean(epoch_accuracies)\n",
    "    mean_recourse = np.mean(epoch_recourse)\n",
    "\n",
    "    mean_accuracies.append(mean_accuracy)\n",
    "    mean_recourse_approximations.append(mean_recourse)\n",
    "\n",
    "    # calculating the Recourse for all\n",
    "    X_positive, X_negative, pos_indices, neg_indices = split_by_classification(loaded_model,X)\n",
    "\n",
    "    dice_model = dice_ml.Model(\n",
    "        model=PyTorchModelWrapper(loaded_model),\n",
    "        backend=\"sklearn\",\n",
    "        model_type='classifier'\n",
    "    )\n",
    "\n",
    "    exp = dice_ml.Dice(\n",
    "        dice_data,\n",
    "        dice_model,\n",
    "        method=\"genetic\"\n",
    "    )\n",
    "\n",
    "    query_df = pd.DataFrame(X_negative.cpu().numpy(), columns=feature_names)\n",
    "\n",
    "    dice_exp = exp.generate_counterfactuals(\n",
    "        query_df,\n",
    "        total_CFs=1,\n",
    "        desired_class=\"opposite\",\n",
    "        features_to_vary=actionable_features\n",
    "    )\n",
    "\n",
    "    l1_distances = []\n",
    "    for i in range(len(X_negative)):\n",
    "        original = X_negative[i]\n",
    "        cf_df = dice_exp.cf_examples_list[i].final_cfs_df\n",
    "        if cf_df is None or cf_df.empty:\n",
    "            continue\n",
    "        cf_values = cf_df[feature_names].values\n",
    "        cf_tensor = torch.from_numpy(cf_values).float().to(device)\n",
    "        distance = torch.norm(original - cf_tensor, p=1).item()\n",
    "        l1_distances.append(distance)\n",
    "\n",
    "    # Compute mean L1 distance\n",
    "    mean_l1 = np.mean(l1_distances)\n",
    "\n",
    "    print(f\"Mean L1 distance for negatively classified data using DiCE: {mean_l1:.2f}\")\n",
    "    mean_recourses.append(mean_l1)\n",
    "\n",
    "    print(f\"Lambda = {lamda:.3f} | Mean Accuracy: {mean_accuracy:.4f} | Mean Recourse Approximations: {mean_recourse:.4f}\")\n",
    "\n",
    "\n",
    "\n"
   ],
   "id": "dd0be63aad74e053",
   "outputs": [
    {
     "name": "stdout",
     "output_type": "stream",
     "text": [
      "\n",
      "Training for lambda = 0.010\n",
      "Initial Accuracy: 0.75\n",
      "Epoch: 0 | Loss: 0.51661 | Test loss: 0.61747 | Accuracy: 0.72000 | Recourse loss: 0.61583\n",
      "Epoch: 100 | Loss: 0.51049 | Test loss: 0.55101 | Accuracy: 0.75667 | Recourse loss: 0.64269\n",
      "Epoch: 200 | Loss: 0.50440 | Test loss: 0.55115 | Accuracy: 0.76000 | Recourse loss: 0.76373\n"
     ]
    },
    {
     "name": "stderr",
     "output_type": "stream",
     "text": [
      "100%|██████████| 187/187 [02:47<00:00,  1.12it/s]\n"
     ]
    },
    {
     "name": "stdout",
     "output_type": "stream",
     "text": [
      "Mean L1 distance for negatively classified data using DiCE: 1838.78\n",
      "Lambda = 0.010 | Mean Accuracy: 0.7575 | Mean Recourse Approximations: 0.6901\n",
      "\n",
      "Training for lambda = 0.035\n",
      "Initial Accuracy: 0.75\n",
      "Epoch: 0 | Loss: 0.50359 | Test loss: 0.60470 | Accuracy: 0.63333 | Recourse loss: 1.47449\n",
      "Epoch: 100 | Loss: 0.49739 | Test loss: 0.53202 | Accuracy: 0.74667 | Recourse loss: 0.78914\n",
      "Epoch: 200 | Loss: 0.49067 | Test loss: 0.53204 | Accuracy: 0.76000 | Recourse loss: 0.91873\n"
     ]
    },
    {
     "name": "stderr",
     "output_type": "stream",
     "text": [
      "100%|██████████| 242/242 [02:08<00:00,  1.89it/s]\n"
     ]
    },
    {
     "name": "stdout",
     "output_type": "stream",
     "text": [
      "Mean L1 distance for negatively classified data using DiCE: 1707.48\n",
      "Lambda = 0.035 | Mean Accuracy: 0.7506 | Mean Recourse Approximations: 0.8415\n",
      "\n",
      "Training for lambda = 0.061\n",
      "Initial Accuracy: 0.75\n",
      "Epoch: 0 | Loss: 0.49057 | Test loss: 0.58927 | Accuracy: 0.61667 | Recourse loss: 1.51933\n",
      "Epoch: 100 | Loss: 0.48145 | Test loss: 0.52428 | Accuracy: 0.74333 | Recourse loss: 1.03000\n",
      "Epoch: 200 | Loss: 0.47238 | Test loss: 0.51897 | Accuracy: 0.74000 | Recourse loss: 1.14241\n"
     ]
    },
    {
     "name": "stderr",
     "output_type": "stream",
     "text": [
      "100%|██████████| 276/276 [04:43<00:00,  1.03s/it]\n"
     ]
    },
    {
     "name": "stdout",
     "output_type": "stream",
     "text": [
      "Mean L1 distance for negatively classified data using DiCE: 2069.95\n",
      "Lambda = 0.061 | Mean Accuracy: 0.7379 | Mean Recourse Approximations: 1.0925\n",
      "\n",
      "Training for lambda = 0.086\n",
      "Initial Accuracy: 0.75\n",
      "Epoch: 0 | Loss: 0.47756 | Test loss: 0.55078 | Accuracy: 0.62000 | Recourse loss: 1.51924\n",
      "Epoch: 100 | Loss: 0.46570 | Test loss: 0.49547 | Accuracy: 0.72667 | Recourse loss: 1.09151\n",
      "Epoch: 200 | Loss: 0.45500 | Test loss: 0.47545 | Accuracy: 0.74000 | Recourse loss: 1.34068\n"
     ]
    },
    {
     "name": "stderr",
     "output_type": "stream",
     "text": [
      "100%|██████████| 319/319 [04:57<00:00,  1.07it/s]\n"
     ]
    },
    {
     "name": "stdout",
     "output_type": "stream",
     "text": [
      "Mean L1 distance for negatively classified data using DiCE: 2390.55\n",
      "Lambda = 0.086 | Mean Accuracy: 0.7312 | Mean Recourse Approximations: 1.2411\n",
      "\n",
      "Training for lambda = 0.112\n",
      "Initial Accuracy: 0.75\n",
      "Epoch: 0 | Loss: 0.46454 | Test loss: 0.51226 | Accuracy: 0.62000 | Recourse loss: 1.52006\n",
      "Epoch: 100 | Loss: 0.45809 | Test loss: 0.50702 | Accuracy: 0.73667 | Recourse loss: 0.87238\n",
      "Epoch: 200 | Loss: 0.44283 | Test loss: 0.48276 | Accuracy: 0.74333 | Recourse loss: 1.17790\n"
     ]
    },
    {
     "name": "stderr",
     "output_type": "stream",
     "text": [
      "100%|██████████| 356/356 [04:20<00:00,  1.37it/s]\n"
     ]
    },
    {
     "name": "stdout",
     "output_type": "stream",
     "text": [
      "Mean L1 distance for negatively classified data using DiCE: 1972.22\n",
      "Lambda = 0.112 | Mean Accuracy: 0.7070 | Mean Recourse Approximations: 1.5223\n",
      "\n",
      "Training for lambda = 0.137\n",
      "Initial Accuracy: 0.75\n",
      "Epoch: 0 | Loss: 0.45152 | Test loss: 0.47351 | Accuracy: 0.62000 | Recourse loss: 1.52046\n",
      "Epoch: 100 | Loss: 0.28432 | Test loss: 0.36413 | Accuracy: 0.56333 | Recourse loss: 3.38405\n",
      "Epoch: 200 | Loss: 0.30025 | Test loss: 0.33936 | Accuracy: 0.54667 | Recourse loss: 3.91314\n"
     ]
    },
    {
     "name": "stderr",
     "output_type": "stream",
     "text": [
      "100%|██████████| 125/125 [00:52<00:00,  2.37it/s]\n"
     ]
    },
    {
     "name": "stdout",
     "output_type": "stream",
     "text": [
      "Mean L1 distance for negatively classified data using DiCE: 180.30\n",
      "Lambda = 0.137 | Mean Accuracy: 0.6661 | Mean Recourse Approximations: 1.6791\n",
      "\n",
      "Training for lambda = 0.162\n",
      "Initial Accuracy: 0.75\n",
      "Epoch: 0 | Loss: 0.43850 | Test loss: 0.43528 | Accuracy: 0.62000 | Recourse loss: 1.52106\n",
      "Epoch: 100 | Loss: 0.37250 | Test loss: 0.39326 | Accuracy: 0.64667 | Recourse loss: 2.36290\n",
      "Epoch: 200 | Loss: 0.18135 | Test loss: 0.13860 | Accuracy: 0.64667 | Recourse loss: 3.58878\n"
     ]
    },
    {
     "name": "stderr",
     "output_type": "stream",
     "text": [
      "100%|██████████| 464/464 [05:23<00:00,  1.44it/s]\n"
     ]
    },
    {
     "name": "stdout",
     "output_type": "stream",
     "text": [
      "Mean L1 distance for negatively classified data using DiCE: 1578.41\n",
      "Lambda = 0.162 | Mean Accuracy: 0.6672 | Mean Recourse Approximations: 1.8968\n",
      "\n",
      "Training for lambda = 0.188\n",
      "Initial Accuracy: 0.75\n",
      "Epoch: 0 | Loss: 0.42548 | Test loss: 0.39666 | Accuracy: 0.62000 | Recourse loss: 1.52102\n",
      "Epoch: 100 | Loss: 0.38156 | Test loss: 0.41533 | Accuracy: 0.72000 | Recourse loss: 1.83473\n",
      "Epoch: 200 | Loss: 0.42012 | Test loss: 0.40689 | Accuracy: 0.71000 | Recourse loss: 1.83294\n"
     ]
    },
    {
     "name": "stderr",
     "output_type": "stream",
     "text": [
      "100%|██████████| 442/442 [05:15<00:00,  1.40it/s]\n"
     ]
    },
    {
     "name": "stdout",
     "output_type": "stream",
     "text": [
      "Mean L1 distance for negatively classified data using DiCE: 1827.49\n",
      "Lambda = 0.188 | Mean Accuracy: 0.6629 | Mean Recourse Approximations: 2.2718\n",
      "\n",
      "Training for lambda = 0.213\n",
      "Initial Accuracy: 0.75\n",
      "Epoch: 0 | Loss: 0.41246 | Test loss: 0.35807 | Accuracy: 0.62000 | Recourse loss: 1.52094\n",
      "Epoch: 100 | Loss: 0.36295 | Test loss: 0.35461 | Accuracy: 0.71000 | Recourse loss: 1.49506\n",
      "Epoch: 200 | Loss: 0.10888 | Test loss: -0.02031 | Accuracy: 0.59667 | Recourse loss: 4.78011\n"
     ]
    },
    {
     "name": "stderr",
     "output_type": "stream",
     "text": [
      "100%|██████████| 208/208 [03:57<00:00,  1.14s/it]\n"
     ]
    },
    {
     "name": "stdout",
     "output_type": "stream",
     "text": [
      "Mean L1 distance for negatively classified data using DiCE: 1630.82\n",
      "Lambda = 0.213 | Mean Accuracy: 0.6447 | Mean Recourse Approximations: 2.3916\n",
      "\n",
      "Training for lambda = 0.238\n",
      "Initial Accuracy: 0.75\n",
      "Epoch: 0 | Loss: 0.39944 | Test loss: 0.31946 | Accuracy: 0.62000 | Recourse loss: 1.52092\n",
      "Epoch: 100 | Loss: 0.24333 | Test loss: 0.21480 | Accuracy: 0.72667 | Recourse loss: 2.20603\n",
      "Epoch: 200 | Loss: -0.05545 | Test loss: -0.18960 | Accuracy: 0.48333 | Recourse loss: 6.48176\n"
     ]
    },
    {
     "name": "stderr",
     "output_type": "stream",
     "text": [
      "100%|██████████| 428/428 [03:45<00:00,  1.90it/s]\n"
     ]
    },
    {
     "name": "stdout",
     "output_type": "stream",
     "text": [
      "Mean L1 distance for negatively classified data using DiCE: 1569.68\n",
      "Lambda = 0.238 | Mean Accuracy: 0.6335 | Mean Recourse Approximations: 2.6011\n",
      "\n",
      "Training for lambda = 0.264\n",
      "Initial Accuracy: 0.75\n",
      "Epoch: 0 | Loss: 0.38642 | Test loss: 0.28087 | Accuracy: 0.62000 | Recourse loss: 1.52088\n",
      "Epoch: 100 | Loss: -0.07681 | Test loss: -0.18208 | Accuracy: 0.37000 | Recourse loss: 6.24722\n",
      "Epoch: 200 | Loss: 0.31343 | Test loss: 0.26084 | Accuracy: 0.71333 | Recourse loss: 2.17331\n"
     ]
    },
    {
     "name": "stderr",
     "output_type": "stream",
     "text": [
      "100%|██████████| 378/378 [03:44<00:00,  1.69it/s]\n"
     ]
    },
    {
     "name": "stdout",
     "output_type": "stream",
     "text": [
      "Mean L1 distance for negatively classified data using DiCE: 2164.19\n",
      "Lambda = 0.264 | Mean Accuracy: 0.6217 | Mean Recourse Approximations: 2.7635\n",
      "\n",
      "Training for lambda = 0.289\n",
      "Initial Accuracy: 0.75\n",
      "Epoch: 0 | Loss: 0.37340 | Test loss: 0.24226 | Accuracy: 0.62000 | Recourse loss: 1.52088\n",
      "Epoch: 100 | Loss: 0.11413 | Test loss: 0.09031 | Accuracy: 0.74000 | Recourse loss: 2.53134\n",
      "Epoch: 200 | Loss: -0.29114 | Test loss: -0.45307 | Accuracy: 0.42000 | Recourse loss: 7.59616\n"
     ]
    },
    {
     "name": "stderr",
     "output_type": "stream",
     "text": [
      "100%|██████████| 320/320 [03:35<00:00,  1.48it/s]\n"
     ]
    },
    {
     "name": "stdout",
     "output_type": "stream",
     "text": [
      "Mean L1 distance for negatively classified data using DiCE: 636.79\n",
      "Lambda = 0.289 | Mean Accuracy: 0.6118 | Mean Recourse Approximations: 2.9488\n",
      "\n",
      "Training for lambda = 0.315\n",
      "Initial Accuracy: 0.75\n",
      "Epoch: 0 | Loss: 0.36038 | Test loss: 0.20366 | Accuracy: 0.62000 | Recourse loss: 1.52087\n",
      "Epoch: 100 | Loss: 0.30035 | Test loss: 0.30176 | Accuracy: 0.63333 | Recourse loss: 1.90596\n",
      "Epoch: 200 | Loss: -1.16747 | Test loss: -1.14227 | Accuracy: 0.36333 | Recourse loss: 11.19561\n"
     ]
    },
    {
     "name": "stderr",
     "output_type": "stream",
     "text": [
      "100%|██████████| 774/774 [06:56<00:00,  1.86it/s]  \n"
     ]
    },
    {
     "name": "stdout",
     "output_type": "stream",
     "text": [
      "Mean L1 distance for negatively classified data using DiCE: 2610.50\n",
      "Lambda = 0.315 | Mean Accuracy: 0.6027 | Mean Recourse Approximations: 3.5304\n",
      "\n",
      "Training for lambda = 0.340\n",
      "Initial Accuracy: 0.75\n",
      "Epoch: 0 | Loss: 0.34736 | Test loss: 0.16489 | Accuracy: 0.62000 | Recourse loss: 1.52106\n",
      "Epoch: 100 | Loss: -0.35149 | Test loss: -0.36885 | Accuracy: 0.48333 | Recourse loss: 6.79802\n",
      "Epoch: 200 | Loss: -0.03233 | Test loss: -0.10126 | Accuracy: 0.71667 | Recourse loss: 3.17984\n"
     ]
    },
    {
     "name": "stderr",
     "output_type": "stream",
     "text": [
      "100%|██████████| 705/705 [08:19<00:00,  1.41it/s]  \n"
     ]
    },
    {
     "name": "stdout",
     "output_type": "stream",
     "text": [
      "Mean L1 distance for negatively classified data using DiCE: 2071.68\n",
      "Lambda = 0.340 | Mean Accuracy: 0.5942 | Mean Recourse Approximations: 3.7642\n",
      "\n",
      "Training for lambda = 0.365\n",
      "Initial Accuracy: 0.75\n",
      "Epoch: 0 | Loss: 0.33434 | Test loss: 0.12631 | Accuracy: 0.62000 | Recourse loss: 1.52101\n",
      "Epoch: 100 | Loss: -0.75312 | Test loss: -0.78583 | Accuracy: 0.53667 | Recourse loss: 7.37144\n",
      "Epoch: 200 | Loss: -0.64100 | Test loss: -0.83492 | Accuracy: 0.53000 | Recourse loss: 8.36183\n"
     ]
    },
    {
     "name": "stderr",
     "output_type": "stream",
     "text": [
      "100%|██████████| 372/372 [03:21<00:00,  1.84it/s]\n"
     ]
    },
    {
     "name": "stdout",
     "output_type": "stream",
     "text": [
      "Mean L1 distance for negatively classified data using DiCE: 1825.77\n",
      "Lambda = 0.365 | Mean Accuracy: 0.5777 | Mean Recourse Approximations: 4.0690\n",
      "\n",
      "Training for lambda = 0.391\n",
      "Initial Accuracy: 0.75\n",
      "Epoch: 0 | Loss: 0.32132 | Test loss: 0.08772 | Accuracy: 0.62000 | Recourse loss: 1.52096\n",
      "Epoch: 100 | Loss: -0.39324 | Test loss: -0.44281 | Accuracy: 0.50000 | Recourse loss: 6.65941\n",
      "Epoch: 200 | Loss: 0.04766 | Test loss: -0.07189 | Accuracy: 0.66333 | Recourse loss: 3.31849\n"
     ]
    },
    {
     "name": "stderr",
     "output_type": "stream",
     "text": [
      "100%|██████████| 409/409 [02:58<00:00,  2.29it/s]\n"
     ]
    },
    {
     "name": "stdout",
     "output_type": "stream",
     "text": [
      "Mean L1 distance for negatively classified data using DiCE: 2104.63\n",
      "Lambda = 0.391 | Mean Accuracy: 0.5685 | Mean Recourse Approximations: 4.2156\n",
      "\n",
      "Training for lambda = 0.416\n",
      "Initial Accuracy: 0.75\n",
      "Epoch: 0 | Loss: 0.30830 | Test loss: 0.04911 | Accuracy: 0.62000 | Recourse loss: 1.52096\n",
      "Epoch: 100 | Loss: -0.35938 | Test loss: -0.41790 | Accuracy: 0.55333 | Recourse loss: 5.74259\n",
      "Epoch: 200 | Loss: 0.02078 | Test loss: -0.12010 | Accuracy: 0.66333 | Recourse loss: 3.66933\n"
     ]
    },
    {
     "name": "stderr",
     "output_type": "stream",
     "text": [
      "100%|██████████| 753/753 [07:34<00:00,  1.66it/s]  \n"
     ]
    },
    {
     "name": "stdout",
     "output_type": "stream",
     "text": [
      "Mean L1 distance for negatively classified data using DiCE: 1863.16\n",
      "Lambda = 0.416 | Mean Accuracy: 0.5606 | Mean Recourse Approximations: 5.1106\n",
      "\n",
      "Training for lambda = 0.442\n",
      "Initial Accuracy: 0.75\n",
      "Epoch: 0 | Loss: 0.29529 | Test loss: 0.01050 | Accuracy: 0.62000 | Recourse loss: 1.52098\n",
      "Epoch: 100 | Loss: -0.03809 | Test loss: 0.00293 | Accuracy: 0.61333 | Recourse loss: 2.93556\n",
      "Epoch: 200 | Loss: -0.14072 | Test loss: -0.32029 | Accuracy: 0.54333 | Recourse loss: 7.93114\n"
     ]
    },
    {
     "name": "stderr",
     "output_type": "stream",
     "text": [
      "100%|██████████| 303/303 [02:10<00:00,  2.33it/s]\n"
     ]
    },
    {
     "name": "stdout",
     "output_type": "stream",
     "text": [
      "Mean L1 distance for negatively classified data using DiCE: 619.31\n",
      "Lambda = 0.442 | Mean Accuracy: 0.5501 | Mean Recourse Approximations: 5.1966\n",
      "\n",
      "Training for lambda = 0.467\n",
      "Initial Accuracy: 0.75\n",
      "Epoch: 0 | Loss: 0.28227 | Test loss: -0.02812 | Accuracy: 0.62000 | Recourse loss: 1.52099\n",
      "Epoch: 100 | Loss: 0.04452 | Test loss: 0.04471 | Accuracy: 0.48333 | Recourse loss: 5.90138\n",
      "Epoch: 200 | Loss: -0.68063 | Test loss: -0.88870 | Accuracy: 0.72667 | Recourse loss: 4.75070\n"
     ]
    },
    {
     "name": "stderr",
     "output_type": "stream",
     "text": [
      "100%|██████████| 762/762 [07:56<00:00,  1.60it/s]  \n"
     ]
    },
    {
     "name": "stdout",
     "output_type": "stream",
     "text": [
      "Mean L1 distance for negatively classified data using DiCE: 2410.53\n",
      "Lambda = 0.467 | Mean Accuracy: 0.5363 | Mean Recourse Approximations: 5.6646\n",
      "\n",
      "Training for lambda = 0.492\n",
      "Initial Accuracy: 0.75\n",
      "Epoch: 0 | Loss: 0.26925 | Test loss: -0.06673 | Accuracy: 0.62000 | Recourse loss: 1.52099\n",
      "Epoch: 100 | Loss: 0.05256 | Test loss: -0.00961 | Accuracy: 0.46667 | Recourse loss: 6.20503\n",
      "Epoch: 200 | Loss: -0.67999 | Test loss: -0.97563 | Accuracy: 0.71333 | Recourse loss: 4.84585\n"
     ]
    },
    {
     "name": "stderr",
     "output_type": "stream",
     "text": [
      "100%|██████████| 719/719 [05:42<00:00,  2.10it/s] \n"
     ]
    },
    {
     "name": "stdout",
     "output_type": "stream",
     "text": [
      "Mean L1 distance for negatively classified data using DiCE: 2629.25\n",
      "Lambda = 0.492 | Mean Accuracy: 0.5226 | Mean Recourse Approximations: 6.1200\n",
      "\n",
      "Training for lambda = 0.518\n",
      "Initial Accuracy: 0.75\n",
      "Epoch: 0 | Loss: 0.25623 | Test loss: -0.10534 | Accuracy: 0.62000 | Recourse loss: 1.52099\n",
      "Epoch: 100 | Loss: 0.10859 | Test loss: 0.03325 | Accuracy: 0.46333 | Recourse loss: 5.57630\n",
      "Epoch: 200 | Loss: -1.28231 | Test loss: -1.51202 | Accuracy: 0.43667 | Recourse loss: 12.60886\n"
     ]
    },
    {
     "name": "stderr",
     "output_type": "stream",
     "text": [
      "100%|██████████| 250/250 [01:49<00:00,  2.28it/s]\n"
     ]
    },
    {
     "name": "stdout",
     "output_type": "stream",
     "text": [
      "Mean L1 distance for negatively classified data using DiCE: 1037.06\n",
      "Lambda = 0.518 | Mean Accuracy: 0.5056 | Mean Recourse Approximations: 6.7182\n",
      "\n",
      "Training for lambda = 0.543\n",
      "Initial Accuracy: 0.75\n",
      "Epoch: 0 | Loss: 0.24321 | Test loss: -0.14396 | Accuracy: 0.62000 | Recourse loss: 1.52101\n",
      "Epoch: 100 | Loss: 0.00699 | Test loss: 0.02424 | Accuracy: 0.46000 | Recourse loss: 5.43528\n",
      "Epoch: 200 | Loss: -2.45373 | Test loss: -2.94821 | Accuracy: 0.46667 | Recourse loss: 15.16786\n"
     ]
    },
    {
     "name": "stderr",
     "output_type": "stream",
     "text": [
      "100%|██████████| 796/796 [05:24<00:00,  2.45it/s]\n"
     ]
    },
    {
     "name": "stdout",
     "output_type": "stream",
     "text": [
      "Mean L1 distance for negatively classified data using DiCE: 2379.00\n",
      "Lambda = 0.543 | Mean Accuracy: 0.4913 | Mean Recourse Approximations: 7.7595\n",
      "\n",
      "Training for lambda = 0.568\n",
      "Initial Accuracy: 0.75\n",
      "Epoch: 0 | Loss: 0.23019 | Test loss: -0.18257 | Accuracy: 0.62000 | Recourse loss: 1.52101\n",
      "Epoch: 100 | Loss: -0.21657 | Test loss: -0.20019 | Accuracy: 0.55667 | Recourse loss: 4.37325\n",
      "Epoch: 200 | Loss: -1.42612 | Test loss: -1.37181 | Accuracy: 0.66333 | Recourse loss: 6.31643\n"
     ]
    },
    {
     "name": "stderr",
     "output_type": "stream",
     "text": [
      "100%|██████████| 788/788 [06:13<00:00,  2.11it/s]\n"
     ]
    },
    {
     "name": "stdout",
     "output_type": "stream",
     "text": [
      "Mean L1 distance for negatively classified data using DiCE: 2454.05\n",
      "Lambda = 0.568 | Mean Accuracy: 0.4769 | Mean Recourse Approximations: 8.6314\n",
      "\n",
      "Training for lambda = 0.594\n",
      "Initial Accuracy: 0.75\n",
      "Epoch: 0 | Loss: 0.21717 | Test loss: -0.22118 | Accuracy: 0.62000 | Recourse loss: 1.52101\n",
      "Epoch: 100 | Loss: -0.20846 | Test loss: -0.25877 | Accuracy: 0.46333 | Recourse loss: 6.53942\n",
      "Epoch: 200 | Loss: -0.94548 | Test loss: -0.68158 | Accuracy: 0.43000 | Recourse loss: 10.65817\n"
     ]
    },
    {
     "name": "stderr",
     "output_type": "stream",
     "text": [
      "100%|██████████| 748/748 [05:13<00:00,  2.39it/s]\n"
     ]
    },
    {
     "name": "stdout",
     "output_type": "stream",
     "text": [
      "Mean L1 distance for negatively classified data using DiCE: 2541.30\n",
      "Lambda = 0.594 | Mean Accuracy: 0.4445 | Mean Recourse Approximations: 8.5679\n",
      "\n",
      "Training for lambda = 0.619\n",
      "Initial Accuracy: 0.75\n",
      "Epoch: 0 | Loss: 0.20415 | Test loss: -0.25979 | Accuracy: 0.62000 | Recourse loss: 1.52101\n",
      "Epoch: 100 | Loss: -0.38532 | Test loss: -0.39395 | Accuracy: 0.53000 | Recourse loss: 5.08729\n",
      "Epoch: 200 | Loss: -1.23171 | Test loss: -1.25257 | Accuracy: 0.52667 | Recourse loss: 11.80713\n"
     ]
    },
    {
     "name": "stderr",
     "output_type": "stream",
     "text": [
      "100%|██████████| 852/852 [05:41<00:00,  2.50it/s]\n"
     ]
    },
    {
     "name": "stdout",
     "output_type": "stream",
     "text": [
      "Mean L1 distance for negatively classified data using DiCE: 2779.85\n",
      "Lambda = 0.619 | Mean Accuracy: 0.4227 | Mean Recourse Approximations: 9.6012\n",
      "\n",
      "Training for lambda = 0.645\n",
      "Initial Accuracy: 0.75\n",
      "Epoch: 0 | Loss: 0.19113 | Test loss: -0.29840 | Accuracy: 0.62000 | Recourse loss: 1.52101\n",
      "Epoch: 100 | Loss: -0.41569 | Test loss: -0.34234 | Accuracy: 0.36333 | Recourse loss: 7.56413\n",
      "Epoch: 200 | Loss: -1.62362 | Test loss: -1.69582 | Accuracy: 0.41000 | Recourse loss: 14.55875\n"
     ]
    },
    {
     "name": "stderr",
     "output_type": "stream",
     "text": [
      "100%|██████████| 866/866 [06:53<00:00,  2.09it/s]\n"
     ]
    },
    {
     "name": "stdout",
     "output_type": "stream",
     "text": [
      "Mean L1 distance for negatively classified data using DiCE: 2928.93\n",
      "Lambda = 0.645 | Mean Accuracy: 0.3764 | Mean Recourse Approximations: 9.6625\n",
      "\n",
      "Training for lambda = 0.670\n",
      "Initial Accuracy: 0.75\n",
      "Epoch: 0 | Loss: 0.17811 | Test loss: -0.33701 | Accuracy: 0.62000 | Recourse loss: 1.52101\n",
      "Epoch: 100 | Loss: -0.45155 | Test loss: -0.32986 | Accuracy: 0.32667 | Recourse loss: 7.40591\n",
      "Epoch: 200 | Loss: -2.01505 | Test loss: -2.09698 | Accuracy: 0.42667 | Recourse loss: 13.55028\n"
     ]
    },
    {
     "name": "stderr",
     "output_type": "stream",
     "text": [
      "100%|██████████| 880/880 [08:04<00:00,  1.81it/s]  \n"
     ]
    },
    {
     "name": "stdout",
     "output_type": "stream",
     "text": [
      "Mean L1 distance for negatively classified data using DiCE: 2933.16\n",
      "Lambda = 0.670 | Mean Accuracy: 0.3469 | Mean Recourse Approximations: 9.3799\n",
      "\n",
      "Training for lambda = 0.695\n",
      "Initial Accuracy: 0.75\n",
      "Epoch: 0 | Loss: 0.16509 | Test loss: -0.37562 | Accuracy: 0.62000 | Recourse loss: 1.52101\n",
      "Epoch: 100 | Loss: -0.69966 | Test loss: -0.56614 | Accuracy: 0.32333 | Recourse loss: 9.21480\n",
      "Epoch: 200 | Loss: -2.09576 | Test loss: -2.26753 | Accuracy: 0.38667 | Recourse loss: 16.06993\n"
     ]
    },
    {
     "name": "stderr",
     "output_type": "stream",
     "text": [
      "100%|██████████| 898/898 [07:24<00:00,  2.02it/s]\n"
     ]
    },
    {
     "name": "stdout",
     "output_type": "stream",
     "text": [
      "Mean L1 distance for negatively classified data using DiCE: 2924.46\n",
      "Lambda = 0.695 | Mean Accuracy: 0.3386 | Mean Recourse Approximations: 10.8788\n",
      "\n",
      "Training for lambda = 0.721\n",
      "Initial Accuracy: 0.75\n",
      "Epoch: 0 | Loss: 0.15207 | Test loss: -0.41423 | Accuracy: 0.62000 | Recourse loss: 1.52101\n",
      "Epoch: 100 | Loss: -0.90913 | Test loss: -0.73232 | Accuracy: 0.30667 | Recourse loss: 10.42022\n",
      "Epoch: 200 | Loss: -1.54637 | Test loss: -1.31057 | Accuracy: 0.32333 | Recourse loss: 14.38951\n"
     ]
    },
    {
     "name": "stderr",
     "output_type": "stream",
     "text": [
      "100%|██████████| 914/914 [07:32<00:00,  2.02it/s]\n"
     ]
    },
    {
     "name": "stdout",
     "output_type": "stream",
     "text": [
      "Mean L1 distance for negatively classified data using DiCE: 2917.86\n",
      "Lambda = 0.721 | Mean Accuracy: 0.3199 | Mean Recourse Approximations: 11.6734\n",
      "\n",
      "Training for lambda = 0.746\n",
      "Initial Accuracy: 0.75\n",
      "Epoch: 0 | Loss: 0.13905 | Test loss: -0.45281 | Accuracy: 0.62000 | Recourse loss: 1.52096\n",
      "Epoch: 100 | Loss: -1.18980 | Test loss: -0.99129 | Accuracy: 0.30333 | Recourse loss: 12.89540\n",
      "Epoch: 200 | Loss: -1.78014 | Test loss: -1.50668 | Accuracy: 0.30667 | Recourse loss: 15.04253\n"
     ]
    },
    {
     "name": "stderr",
     "output_type": "stream",
     "text": [
      "100%|██████████| 978/978 [09:24<00:00,  1.73it/s]\n"
     ]
    },
    {
     "name": "stdout",
     "output_type": "stream",
     "text": [
      "Mean L1 distance for negatively classified data using DiCE: 3038.87\n",
      "Lambda = 0.746 | Mean Accuracy: 0.3075 | Mean Recourse Approximations: 12.8630\n",
      "\n",
      "Training for lambda = 0.772\n",
      "Initial Accuracy: 0.75\n",
      "Epoch: 0 | Loss: 0.12604 | Test loss: -0.49142 | Accuracy: 0.62000 | Recourse loss: 1.52096\n",
      "Epoch: 100 | Loss: -1.44292 | Test loss: -1.28620 | Accuracy: 0.30333 | Recourse loss: 14.69071\n",
      "Epoch: 200 | Loss: -2.16413 | Test loss: -1.80969 | Accuracy: 0.30333 | Recourse loss: 18.27797\n"
     ]
    },
    {
     "name": "stderr",
     "output_type": "stream",
     "text": [
      " 17%|█▋        | 162/978 [02:11<11:00,  1.23it/s]\n"
     ]
    },
    {
     "ename": "KeyboardInterrupt",
     "evalue": "",
     "output_type": "error",
     "traceback": [
      "\u001B[31m---------------------------------------------------------------------------\u001B[39m",
      "\u001B[31mKeyboardInterrupt\u001B[39m                         Traceback (most recent call last)",
      "\u001B[36mCell\u001B[39m\u001B[36m \u001B[39m\u001B[32mIn[18]\u001B[39m\u001B[32m, line 93\u001B[39m\n\u001B[32m     85\u001B[39m exp = dice_ml.Dice(\n\u001B[32m     86\u001B[39m     dice_data,\n\u001B[32m     87\u001B[39m     dice_model,\n\u001B[32m     88\u001B[39m     method=\u001B[33m\"\u001B[39m\u001B[33mgenetic\u001B[39m\u001B[33m\"\u001B[39m\n\u001B[32m     89\u001B[39m )\n\u001B[32m     91\u001B[39m query_df = pd.DataFrame(X_negative.cpu().numpy(), columns=feature_names)\n\u001B[32m---> \u001B[39m\u001B[32m93\u001B[39m dice_exp = \u001B[43mexp\u001B[49m\u001B[43m.\u001B[49m\u001B[43mgenerate_counterfactuals\u001B[49m\u001B[43m(\u001B[49m\n\u001B[32m     94\u001B[39m \u001B[43m    \u001B[49m\u001B[43mquery_df\u001B[49m\u001B[43m,\u001B[49m\n\u001B[32m     95\u001B[39m \u001B[43m    \u001B[49m\u001B[43mtotal_CFs\u001B[49m\u001B[43m=\u001B[49m\u001B[32;43m1\u001B[39;49m\u001B[43m,\u001B[49m\n\u001B[32m     96\u001B[39m \u001B[43m    \u001B[49m\u001B[43mdesired_class\u001B[49m\u001B[43m=\u001B[49m\u001B[33;43m\"\u001B[39;49m\u001B[33;43mopposite\u001B[39;49m\u001B[33;43m\"\u001B[39;49m\u001B[43m,\u001B[49m\n\u001B[32m     97\u001B[39m \u001B[43m    \u001B[49m\u001B[43mfeatures_to_vary\u001B[49m\u001B[43m=\u001B[49m\u001B[43mactionable_features\u001B[49m\n\u001B[32m     98\u001B[39m \u001B[43m\u001B[49m\u001B[43m)\u001B[49m\n\u001B[32m    100\u001B[39m l1_distances = []\n\u001B[32m    101\u001B[39m \u001B[38;5;28;01mfor\u001B[39;00m i \u001B[38;5;129;01min\u001B[39;00m \u001B[38;5;28mrange\u001B[39m(\u001B[38;5;28mlen\u001B[39m(X_negative)):\n",
      "\u001B[36mFile \u001B[39m\u001B[32m~\\PycharmProjects\\Project\\.venv\\Lib\\site-packages\\dice_ml\\explainer_interfaces\\explainer_base.py:186\u001B[39m, in \u001B[36mExplainerBase.generate_counterfactuals\u001B[39m\u001B[34m(self, query_instances, total_CFs, desired_class, desired_range, permitted_range, features_to_vary, stopping_threshold, posthoc_sparsity_param, proximity_weight, sparsity_weight, diversity_weight, categorical_penalty, posthoc_sparsity_algorithm, verbose, **kwargs)\u001B[39m\n\u001B[32m    184\u001B[39m \u001B[38;5;28;01mfor\u001B[39;00m query_instance \u001B[38;5;129;01min\u001B[39;00m tqdm(query_instances_list):\n\u001B[32m    185\u001B[39m     \u001B[38;5;28mself\u001B[39m.data_interface.set_continuous_feature_indexes(query_instance)\n\u001B[32m--> \u001B[39m\u001B[32m186\u001B[39m     res = \u001B[38;5;28;43mself\u001B[39;49m\u001B[43m.\u001B[49m\u001B[43m_generate_counterfactuals\u001B[49m\u001B[43m(\u001B[49m\n\u001B[32m    187\u001B[39m \u001B[43m        \u001B[49m\u001B[43mquery_instance\u001B[49m\u001B[43m,\u001B[49m\u001B[43m \u001B[49m\u001B[43mtotal_CFs\u001B[49m\u001B[43m,\u001B[49m\n\u001B[32m    188\u001B[39m \u001B[43m        \u001B[49m\u001B[43mdesired_class\u001B[49m\u001B[43m=\u001B[49m\u001B[43mdesired_class\u001B[49m\u001B[43m,\u001B[49m\n\u001B[32m    189\u001B[39m \u001B[43m        \u001B[49m\u001B[43mdesired_range\u001B[49m\u001B[43m=\u001B[49m\u001B[43mdesired_range\u001B[49m\u001B[43m,\u001B[49m\n\u001B[32m    190\u001B[39m \u001B[43m        \u001B[49m\u001B[43mpermitted_range\u001B[49m\u001B[43m=\u001B[49m\u001B[43mpermitted_range\u001B[49m\u001B[43m,\u001B[49m\n\u001B[32m    191\u001B[39m \u001B[43m        \u001B[49m\u001B[43mfeatures_to_vary\u001B[49m\u001B[43m=\u001B[49m\u001B[43mfeatures_to_vary\u001B[49m\u001B[43m,\u001B[49m\n\u001B[32m    192\u001B[39m \u001B[43m        \u001B[49m\u001B[43mstopping_threshold\u001B[49m\u001B[43m=\u001B[49m\u001B[43mstopping_threshold\u001B[49m\u001B[43m,\u001B[49m\n\u001B[32m    193\u001B[39m \u001B[43m        \u001B[49m\u001B[43mposthoc_sparsity_param\u001B[49m\u001B[43m=\u001B[49m\u001B[43mposthoc_sparsity_param\u001B[49m\u001B[43m,\u001B[49m\n\u001B[32m    194\u001B[39m \u001B[43m        \u001B[49m\u001B[43mposthoc_sparsity_algorithm\u001B[49m\u001B[43m=\u001B[49m\u001B[43mposthoc_sparsity_algorithm\u001B[49m\u001B[43m,\u001B[49m\n\u001B[32m    195\u001B[39m \u001B[43m        \u001B[49m\u001B[43mverbose\u001B[49m\u001B[43m=\u001B[49m\u001B[43mverbose\u001B[49m\u001B[43m,\u001B[49m\n\u001B[32m    196\u001B[39m \u001B[43m        \u001B[49m\u001B[43m*\u001B[49m\u001B[43m*\u001B[49m\u001B[43mkwargs\u001B[49m\u001B[43m)\u001B[49m\n\u001B[32m    197\u001B[39m     res.test_instance_df = \u001B[38;5;28mself\u001B[39m.data_interface.ensure_consistent_type(\n\u001B[32m    198\u001B[39m             res.test_instance_df, query_instance)\n\u001B[32m    199\u001B[39m     \u001B[38;5;28;01mif\u001B[39;00m res.final_cfs_df \u001B[38;5;129;01mis\u001B[39;00m \u001B[38;5;129;01mnot\u001B[39;00m \u001B[38;5;28;01mNone\u001B[39;00m \u001B[38;5;129;01mand\u001B[39;00m \u001B[38;5;28mlen\u001B[39m(res.final_cfs_df) > \u001B[32m0\u001B[39m:\n",
      "\u001B[36mFile \u001B[39m\u001B[32m~\\PycharmProjects\\Project\\.venv\\Lib\\site-packages\\dice_ml\\explainer_interfaces\\dice_genetic.py:292\u001B[39m, in \u001B[36mDiceGenetic._generate_counterfactuals\u001B[39m\u001B[34m(self, query_instance, total_CFs, initialization, desired_range, desired_class, proximity_weight, sparsity_weight, diversity_weight, categorical_penalty, algorithm, features_to_vary, permitted_range, yloss_type, diversity_loss_type, feature_weights, stopping_threshold, posthoc_sparsity_param, posthoc_sparsity_algorithm, maxiterations, thresh, verbose)\u001B[39m\n\u001B[32m    285\u001B[39m         query_instance_df_dummies[col] = \u001B[32m0\u001B[39m\n\u001B[32m    287\u001B[39m \u001B[38;5;28mself\u001B[39m.do_param_initializations(total_CFs, initialization, desired_range, desired_class, query_instance,\n\u001B[32m    288\u001B[39m                               query_instance_df_dummies, algorithm, features_to_vary, permitted_range,\n\u001B[32m    289\u001B[39m                               yloss_type, diversity_loss_type, feature_weights, proximity_weight,\n\u001B[32m    290\u001B[39m                               sparsity_weight, diversity_weight, categorical_penalty, verbose)\n\u001B[32m--> \u001B[39m\u001B[32m292\u001B[39m query_instance_df = \u001B[38;5;28;43mself\u001B[39;49m\u001B[43m.\u001B[49m\u001B[43mfind_counterfactuals\u001B[49m\u001B[43m(\u001B[49m\u001B[43mquery_instance\u001B[49m\u001B[43m,\u001B[49m\u001B[43m \u001B[49m\u001B[43mdesired_range\u001B[49m\u001B[43m,\u001B[49m\u001B[43m \u001B[49m\u001B[43mdesired_class\u001B[49m\u001B[43m,\u001B[49m\u001B[43m \u001B[49m\u001B[43mfeatures_to_vary\u001B[49m\u001B[43m,\u001B[49m\n\u001B[32m    293\u001B[39m \u001B[43m                                              \u001B[49m\u001B[43mmaxiterations\u001B[49m\u001B[43m,\u001B[49m\u001B[43m \u001B[49m\u001B[43mthresh\u001B[49m\u001B[43m,\u001B[49m\u001B[43m \u001B[49m\u001B[43mverbose\u001B[49m\u001B[43m)\u001B[49m\n\u001B[32m    295\u001B[39m desired_class_param = \u001B[38;5;28mself\u001B[39m.decode_model_output(pd.Series(\u001B[38;5;28mself\u001B[39m.target_cf_class[\u001B[32m0\u001B[39m]))[\u001B[32m0\u001B[39m] \\\n\u001B[32m    296\u001B[39m     \u001B[38;5;28;01mif\u001B[39;00m \u001B[38;5;28mhasattr\u001B[39m(\u001B[38;5;28mself\u001B[39m, \u001B[33m'\u001B[39m\u001B[33mtarget_cf_class\u001B[39m\u001B[33m'\u001B[39m) \u001B[38;5;28;01melse\u001B[39;00m desired_class\n\u001B[32m    297\u001B[39m \u001B[38;5;28;01mreturn\u001B[39;00m exp.CounterfactualExamples(data_interface=\u001B[38;5;28mself\u001B[39m.data_interface,\n\u001B[32m    298\u001B[39m                                   test_instance_df=query_instance_df,\n\u001B[32m    299\u001B[39m                                   final_cfs_df=\u001B[38;5;28mself\u001B[39m.final_cfs_df,\n\u001B[32m   (...)\u001B[39m\u001B[32m    303\u001B[39m                                   desired_class=desired_class_param,\n\u001B[32m    304\u001B[39m                                   model_type=\u001B[38;5;28mself\u001B[39m.model.model_type)\n",
      "\u001B[36mFile \u001B[39m\u001B[32m~\\PycharmProjects\\Project\\.venv\\Lib\\site-packages\\dice_ml\\explainer_interfaces\\dice_genetic.py:457\u001B[39m, in \u001B[36mDiceGenetic.find_counterfactuals\u001B[39m\u001B[34m(self, query_instance, desired_range, desired_class, features_to_vary, maxiterations, thresh, verbose)\u001B[39m\n\u001B[32m    454\u001B[39m previous_best_loss = current_best_loss\n\u001B[32m    455\u001B[39m population = np.unique(\u001B[38;5;28mtuple\u001B[39m(\u001B[38;5;28mmap\u001B[39m(\u001B[38;5;28mtuple\u001B[39m, population)), axis=\u001B[32m0\u001B[39m)\n\u001B[32m--> \u001B[39m\u001B[32m457\u001B[39m population_fitness = \u001B[38;5;28;43mself\u001B[39;49m\u001B[43m.\u001B[49m\u001B[43mcompute_loss\u001B[49m\u001B[43m(\u001B[49m\u001B[43mpopulation\u001B[49m\u001B[43m,\u001B[49m\u001B[43m \u001B[49m\u001B[43mdesired_range\u001B[49m\u001B[43m,\u001B[49m\u001B[43m \u001B[49m\u001B[43mdesired_class\u001B[49m\u001B[43m)\u001B[49m\n\u001B[32m    458\u001B[39m population_fitness = population_fitness[population_fitness[:, \u001B[32m1\u001B[39m].argsort()]\n\u001B[32m    460\u001B[39m current_best_loss = population_fitness[\u001B[32m0\u001B[39m][\u001B[32m1\u001B[39m]\n",
      "\u001B[36mFile \u001B[39m\u001B[32m~\\PycharmProjects\\Project\\.venv\\Lib\\site-packages\\dice_ml\\explainer_interfaces\\dice_genetic.py:390\u001B[39m, in \u001B[36mDiceGenetic.compute_loss\u001B[39m\u001B[34m(self, cfs, desired_range, desired_class)\u001B[39m\n\u001B[32m    388\u001B[39m \u001B[38;5;28;01mdef\u001B[39;00m\u001B[38;5;250m \u001B[39m\u001B[34mcompute_loss\u001B[39m(\u001B[38;5;28mself\u001B[39m, cfs, desired_range, desired_class):\n\u001B[32m    389\u001B[39m \u001B[38;5;250m    \u001B[39m\u001B[33;03m\"\"\"Computes the overall loss\"\"\"\u001B[39;00m\n\u001B[32m--> \u001B[39m\u001B[32m390\u001B[39m     \u001B[38;5;28mself\u001B[39m.yloss = \u001B[38;5;28;43mself\u001B[39;49m\u001B[43m.\u001B[49m\u001B[43mcompute_yloss\u001B[49m\u001B[43m(\u001B[49m\u001B[43mcfs\u001B[49m\u001B[43m,\u001B[49m\u001B[43m \u001B[49m\u001B[43mdesired_range\u001B[49m\u001B[43m,\u001B[49m\u001B[43m \u001B[49m\u001B[43mdesired_class\u001B[49m\u001B[43m)\u001B[49m\n\u001B[32m    391\u001B[39m     \u001B[38;5;28mself\u001B[39m.proximity_loss = \u001B[38;5;28mself\u001B[39m.compute_proximity_loss(cfs, \u001B[38;5;28mself\u001B[39m.query_instance_normalized) \\\n\u001B[32m    392\u001B[39m         \u001B[38;5;28;01mif\u001B[39;00m \u001B[38;5;28mself\u001B[39m.proximity_weight > \u001B[32m0\u001B[39m \u001B[38;5;28;01melse\u001B[39;00m \u001B[32m0.0\u001B[39m\n\u001B[32m    393\u001B[39m     \u001B[38;5;28mself\u001B[39m.sparsity_loss = \u001B[38;5;28mself\u001B[39m.compute_sparsity_loss(cfs) \u001B[38;5;28;01mif\u001B[39;00m \u001B[38;5;28mself\u001B[39m.sparsity_weight > \u001B[32m0\u001B[39m \u001B[38;5;28;01melse\u001B[39;00m \u001B[32m0.0\u001B[39m\n",
      "\u001B[36mFile \u001B[39m\u001B[32m~\\PycharmProjects\\Project\\.venv\\Lib\\site-packages\\dice_ml\\explainer_interfaces\\dice_genetic.py:349\u001B[39m, in \u001B[36mDiceGenetic.compute_yloss\u001B[39m\u001B[34m(self, cfs, desired_range, desired_class)\u001B[39m\n\u001B[32m    347\u001B[39m yloss = \u001B[32m0.0\u001B[39m\n\u001B[32m    348\u001B[39m \u001B[38;5;28;01mif\u001B[39;00m \u001B[38;5;28mself\u001B[39m.model.model_type == ModelTypes.Classifier:\n\u001B[32m--> \u001B[39m\u001B[32m349\u001B[39m     predicted_value = np.array(\u001B[38;5;28;43mself\u001B[39;49m\u001B[43m.\u001B[49m\u001B[43mpredict_fn_scores\u001B[49m\u001B[43m(\u001B[49m\u001B[43mcfs\u001B[49m\u001B[43m)\u001B[49m)\n\u001B[32m    350\u001B[39m     \u001B[38;5;28;01mif\u001B[39;00m \u001B[38;5;28mself\u001B[39m.yloss_type == \u001B[33m'\u001B[39m\u001B[33mhinge_loss\u001B[39m\u001B[33m'\u001B[39m:\n\u001B[32m    351\u001B[39m         maxvalue = np.full((\u001B[38;5;28mlen\u001B[39m(predicted_value)), -np.inf)\n",
      "\u001B[36mFile \u001B[39m\u001B[32m~\\PycharmProjects\\Project\\.venv\\Lib\\site-packages\\dice_ml\\explainer_interfaces\\dice_genetic.py:308\u001B[39m, in \u001B[36mDiceGenetic.predict_fn_scores\u001B[39m\u001B[34m(self, input_instance)\u001B[39m\n\u001B[32m    306\u001B[39m \u001B[38;5;28;01mdef\u001B[39;00m\u001B[38;5;250m \u001B[39m\u001B[34mpredict_fn_scores\u001B[39m(\u001B[38;5;28mself\u001B[39m, input_instance):\n\u001B[32m    307\u001B[39m \u001B[38;5;250m    \u001B[39m\u001B[33;03m\"\"\"Returns prediction scores.\"\"\"\u001B[39;00m\n\u001B[32m--> \u001B[39m\u001B[32m308\u001B[39m     input_instance = \u001B[38;5;28;43mself\u001B[39;49m\u001B[43m.\u001B[49m\u001B[43mlabel_decode\u001B[49m\u001B[43m(\u001B[49m\u001B[43minput_instance\u001B[49m\u001B[43m)\u001B[49m\n\u001B[32m    309\u001B[39m     out = \u001B[38;5;28mself\u001B[39m.model.get_output(input_instance)\n\u001B[32m    310\u001B[39m     \u001B[38;5;28;01mif\u001B[39;00m \u001B[38;5;28mself\u001B[39m.model.model_type == ModelTypes.Classifier \u001B[38;5;129;01mand\u001B[39;00m out.shape[\u001B[32m1\u001B[39m] == \u001B[32m1\u001B[39m:\n\u001B[32m    311\u001B[39m         \u001B[38;5;66;03m# DL models return only 1 for binary classification\u001B[39;00m\n",
      "\u001B[36mFile \u001B[39m\u001B[32m~\\PycharmProjects\\Project\\.venv\\Lib\\site-packages\\dice_ml\\explainer_interfaces\\dice_genetic.py:560\u001B[39m, in \u001B[36mDiceGenetic.label_decode\u001B[39m\u001B[34m(self, labelled_input)\u001B[39m\n\u001B[32m    558\u001B[39m \u001B[38;5;28;01mif\u001B[39;00m \u001B[38;5;28mself\u001B[39m.data_interface.feature_names[i] \u001B[38;5;129;01min\u001B[39;00m \u001B[38;5;28mself\u001B[39m.data_interface.categorical_feature_names:\n\u001B[32m    559\u001B[39m     enc = \u001B[38;5;28mself\u001B[39m.labelencoder[\u001B[38;5;28mself\u001B[39m.data_interface.feature_names[i]]\n\u001B[32m--> \u001B[39m\u001B[32m560\u001B[39m     val = \u001B[43menc\u001B[49m\u001B[43m.\u001B[49m\u001B[43minverse_transform\u001B[49m\u001B[43m(\u001B[49m\u001B[43mnp\u001B[49m\u001B[43m.\u001B[49m\u001B[43marray\u001B[49m\u001B[43m(\u001B[49m\u001B[43m[\u001B[49m\u001B[43mlabelled_input\u001B[49m\u001B[43m[\u001B[49m\u001B[43mj\u001B[49m\u001B[43m]\u001B[49m\u001B[43m[\u001B[49m\u001B[43mi\u001B[49m\u001B[43m]\u001B[49m\u001B[43m]\u001B[49m\u001B[43m,\u001B[49m\u001B[43m \u001B[49m\u001B[43mdtype\u001B[49m\u001B[43m=\u001B[49m\u001B[43mnp\u001B[49m\u001B[43m.\u001B[49m\u001B[43mint32\u001B[49m\u001B[43m)\u001B[49m\u001B[43m)\u001B[49m\n\u001B[32m    561\u001B[39m     temp[\u001B[38;5;28mself\u001B[39m.data_interface.feature_names[i]] = val[\u001B[32m0\u001B[39m]\n\u001B[32m    562\u001B[39m \u001B[38;5;28;01melse\u001B[39;00m:\n",
      "\u001B[36mFile \u001B[39m\u001B[32m~\\PycharmProjects\\Project\\.venv\\Lib\\site-packages\\sklearn\\preprocessing\\_label.py:156\u001B[39m, in \u001B[36mLabelEncoder.inverse_transform\u001B[39m\u001B[34m(self, y)\u001B[39m\n\u001B[32m    153\u001B[39m \u001B[38;5;28;01mif\u001B[39;00m _num_samples(y) == \u001B[32m0\u001B[39m:\n\u001B[32m    154\u001B[39m     \u001B[38;5;28;01mreturn\u001B[39;00m xp.asarray([])\n\u001B[32m--> \u001B[39m\u001B[32m156\u001B[39m diff = \u001B[43m_setdiff1d\u001B[49m\u001B[43m(\u001B[49m\n\u001B[32m    157\u001B[39m \u001B[43m    \u001B[49m\u001B[43mar1\u001B[49m\u001B[43m=\u001B[49m\u001B[43my\u001B[49m\u001B[43m,\u001B[49m\n\u001B[32m    158\u001B[39m \u001B[43m    \u001B[49m\u001B[43mar2\u001B[49m\u001B[43m=\u001B[49m\u001B[43mxp\u001B[49m\u001B[43m.\u001B[49m\u001B[43marange\u001B[49m\u001B[43m(\u001B[49m\u001B[38;5;28;43mself\u001B[39;49m\u001B[43m.\u001B[49m\u001B[43mclasses_\u001B[49m\u001B[43m.\u001B[49m\u001B[43mshape\u001B[49m\u001B[43m[\u001B[49m\u001B[32;43m0\u001B[39;49m\u001B[43m]\u001B[49m\u001B[43m,\u001B[49m\u001B[43m \u001B[49m\u001B[43mdevice\u001B[49m\u001B[43m=\u001B[49m\u001B[43mdevice\u001B[49m\u001B[43m(\u001B[49m\u001B[43my\u001B[49m\u001B[43m)\u001B[49m\u001B[43m)\u001B[49m\u001B[43m,\u001B[49m\n\u001B[32m    159\u001B[39m \u001B[43m    \u001B[49m\u001B[43mxp\u001B[49m\u001B[43m=\u001B[49m\u001B[43mxp\u001B[49m\u001B[43m,\u001B[49m\n\u001B[32m    160\u001B[39m \u001B[43m\u001B[49m\u001B[43m)\u001B[49m\n\u001B[32m    161\u001B[39m \u001B[38;5;28;01mif\u001B[39;00m diff.shape[\u001B[32m0\u001B[39m]:\n\u001B[32m    162\u001B[39m     \u001B[38;5;28;01mraise\u001B[39;00m \u001B[38;5;167;01mValueError\u001B[39;00m(\u001B[33m\"\u001B[39m\u001B[33my contains previously unseen labels: \u001B[39m\u001B[38;5;132;01m%s\u001B[39;00m\u001B[33m\"\u001B[39m % \u001B[38;5;28mstr\u001B[39m(diff))\n",
      "\u001B[36mFile \u001B[39m\u001B[32m~\\PycharmProjects\\Project\\.venv\\Lib\\site-packages\\sklearn\\utils\\_array_api.py:959\u001B[39m, in \u001B[36m_setdiff1d\u001B[39m\u001B[34m(ar1, ar2, xp, assume_unique)\u001B[39m\n\u001B[32m    953\u001B[39m \u001B[38;5;250m\u001B[39m\u001B[33;03m\"\"\"Find the set difference of two arrays.\u001B[39;00m\n\u001B[32m    954\u001B[39m \n\u001B[32m    955\u001B[39m \u001B[33;03mReturn the unique values in `ar1` that are not in `ar2`.\u001B[39;00m\n\u001B[32m    956\u001B[39m \u001B[33;03m\"\"\"\u001B[39;00m\n\u001B[32m    957\u001B[39m \u001B[38;5;28;01mif\u001B[39;00m _is_numpy_namespace(xp):\n\u001B[32m    958\u001B[39m     \u001B[38;5;28;01mreturn\u001B[39;00m xp.asarray(\n\u001B[32m--> \u001B[39m\u001B[32m959\u001B[39m         \u001B[43mnumpy\u001B[49m\u001B[43m.\u001B[49m\u001B[43msetdiff1d\u001B[49m\u001B[43m(\u001B[49m\n\u001B[32m    960\u001B[39m \u001B[43m            \u001B[49m\u001B[43mar1\u001B[49m\u001B[43m=\u001B[49m\u001B[43mar1\u001B[49m\u001B[43m,\u001B[49m\n\u001B[32m    961\u001B[39m \u001B[43m            \u001B[49m\u001B[43mar2\u001B[49m\u001B[43m=\u001B[49m\u001B[43mar2\u001B[49m\u001B[43m,\u001B[49m\n\u001B[32m    962\u001B[39m \u001B[43m            \u001B[49m\u001B[43massume_unique\u001B[49m\u001B[43m=\u001B[49m\u001B[43massume_unique\u001B[49m\u001B[43m,\u001B[49m\n\u001B[32m    963\u001B[39m \u001B[43m        \u001B[49m\u001B[43m)\u001B[49m\n\u001B[32m    964\u001B[39m     )\n\u001B[32m    966\u001B[39m \u001B[38;5;28;01mif\u001B[39;00m assume_unique:\n\u001B[32m    967\u001B[39m     ar1 = xp.reshape(ar1, (-\u001B[32m1\u001B[39m,))\n",
      "\u001B[36mFile \u001B[39m\u001B[32m~\\PycharmProjects\\Project\\.venv\\Lib\\site-packages\\numpy\\lib\\_arraysetops_impl.py:1214\u001B[39m, in \u001B[36msetdiff1d\u001B[39m\u001B[34m(ar1, ar2, assume_unique)\u001B[39m\n\u001B[32m   1212\u001B[39m \u001B[38;5;28;01melse\u001B[39;00m:\n\u001B[32m   1213\u001B[39m     ar1 = unique(ar1)\n\u001B[32m-> \u001B[39m\u001B[32m1214\u001B[39m     ar2 = \u001B[43munique\u001B[49m\u001B[43m(\u001B[49m\u001B[43mar2\u001B[49m\u001B[43m)\u001B[49m\n\u001B[32m   1215\u001B[39m \u001B[38;5;28;01mreturn\u001B[39;00m ar1[_in1d(ar1, ar2, assume_unique=\u001B[38;5;28;01mTrue\u001B[39;00m, invert=\u001B[38;5;28;01mTrue\u001B[39;00m)]\n",
      "\u001B[36mFile \u001B[39m\u001B[32m~\\PycharmProjects\\Project\\.venv\\Lib\\site-packages\\numpy\\lib\\_arraysetops_impl.py:286\u001B[39m, in \u001B[36munique\u001B[39m\u001B[34m(ar, return_index, return_inverse, return_counts, axis, equal_nan)\u001B[39m\n\u001B[32m    284\u001B[39m ar = np.asanyarray(ar)\n\u001B[32m    285\u001B[39m \u001B[38;5;28;01mif\u001B[39;00m axis \u001B[38;5;129;01mis\u001B[39;00m \u001B[38;5;28;01mNone\u001B[39;00m:\n\u001B[32m--> \u001B[39m\u001B[32m286\u001B[39m     ret = \u001B[43m_unique1d\u001B[49m\u001B[43m(\u001B[49m\u001B[43mar\u001B[49m\u001B[43m,\u001B[49m\u001B[43m \u001B[49m\u001B[43mreturn_index\u001B[49m\u001B[43m,\u001B[49m\u001B[43m \u001B[49m\u001B[43mreturn_inverse\u001B[49m\u001B[43m,\u001B[49m\u001B[43m \u001B[49m\u001B[43mreturn_counts\u001B[49m\u001B[43m,\u001B[49m\n\u001B[32m    287\u001B[39m \u001B[43m                    \u001B[49m\u001B[43mequal_nan\u001B[49m\u001B[43m=\u001B[49m\u001B[43mequal_nan\u001B[49m\u001B[43m,\u001B[49m\u001B[43m \u001B[49m\u001B[43minverse_shape\u001B[49m\u001B[43m=\u001B[49m\u001B[43mar\u001B[49m\u001B[43m.\u001B[49m\u001B[43mshape\u001B[49m\u001B[43m,\u001B[49m\u001B[43m \u001B[49m\u001B[43maxis\u001B[49m\u001B[43m=\u001B[49m\u001B[38;5;28;43;01mNone\u001B[39;49;00m\u001B[43m)\u001B[49m\n\u001B[32m    288\u001B[39m     \u001B[38;5;28;01mreturn\u001B[39;00m _unpack_tuple(ret)\n\u001B[32m    290\u001B[39m \u001B[38;5;66;03m# axis was specified and not None\u001B[39;00m\n",
      "\u001B[36mFile \u001B[39m\u001B[32m~\\PycharmProjects\\Project\\.venv\\Lib\\site-packages\\numpy\\lib\\_arraysetops_impl.py:353\u001B[39m, in \u001B[36m_unique1d\u001B[39m\u001B[34m(ar, return_index, return_inverse, return_counts, equal_nan, inverse_shape, axis)\u001B[39m\n\u001B[32m    351\u001B[39m     aux = ar[perm]\n\u001B[32m    352\u001B[39m \u001B[38;5;28;01melse\u001B[39;00m:\n\u001B[32m--> \u001B[39m\u001B[32m353\u001B[39m     \u001B[43mar\u001B[49m\u001B[43m.\u001B[49m\u001B[43msort\u001B[49m\u001B[43m(\u001B[49m\u001B[43m)\u001B[49m\n\u001B[32m    354\u001B[39m     aux = ar\n\u001B[32m    355\u001B[39m mask = np.empty(aux.shape, dtype=np.bool)\n",
      "\u001B[31mKeyboardInterrupt\u001B[39m: "
     ]
    }
   ],
   "execution_count": 18
  },
  {
   "metadata": {
    "ExecuteTime": {
     "end_time": "2025-06-15T23:09:33.637989Z",
     "start_time": "2025-06-15T23:09:32.466083Z"
    }
   },
   "cell_type": "code",
   "source": [
    "plt.figure(figsize=(10, 5))\n",
    "lambdas = np.linspace(0.01, 1, 40)\n",
    "lambdas = lambdas[:31]\n",
    "# Accuracy plot\n",
    "plt.subplot(1, 2, 1)\n",
    "plt.plot(lambdas, mean_accuracies, marker='o', color='blue')\n",
    "plt.title(\"Mean Accuracy vs Lambda\")\n",
    "plt.xlabel(\"Lambda\")\n",
    "plt.ylabel(\"Mean Accuracy\")\n",
    "plt.grid(True)\n",
    "\n",
    "# Recourse loss plot\n",
    "plt.subplot(1, 2, 2)\n",
    "plt.plot(lambdas, mean_recourse_approximations, marker='o', color='green')\n",
    "plt.title(\"Mean Recourse Approximation vs Lambda\")\n",
    "plt.xlabel(\"Lambda\")\n",
    "plt.ylabel(\"Mean Recourse (test_loss_2)\")\n",
    "plt.grid(True)\n",
    "\n",
    "plt.tight_layout()\n",
    "plt.show()\n"
   ],
   "id": "b03241712c175311",
   "outputs": [
    {
     "data": {
      "text/plain": [
       "<Figure size 1000x500 with 2 Axes>"
      ],
      "image/png": "[encoded data removed]"
     },
     "metadata": {},
     "output_type": "display_data"
    }
   ],
   "execution_count": 21
  },
  {
   "metadata": {
    "ExecuteTime": {
     "end_time": "2025-06-15T23:10:08.803385Z",
     "start_time": "2025-06-15T23:10:08.497226Z"
    }
   },
   "cell_type": "code",
   "source": [
    "  ## Plotting of the mean of Recourse genereated by dice After the Training with different Lambdas\n",
    "plt.figure(figsize=(5, 5))\n",
    "lambdas = np.linspace(0.01, 1, 40)\n",
    "lambdas = lambdas[:30]\n",
    "plt.plot(lambdas, mean_recourses, marker='o', color='red')\n",
    "plt.title(\"Mean Recourse calculated by DiCE vs Lambda\")\n",
    "plt.xlabel(\"Lambda\")\n",
    "plt.ylabel(\"Mean Recourse \")\n",
    "plt.grid(True)"
   ],
   "id": "bf6fd570c521b9a3",
   "outputs": [
    {
     "data": {
      "text/plain": [
       "<Figure size 500x500 with 1 Axes>"
      ],
      "image/png": "[encoded data removed]"
     },
     "metadata": {},
     "output_type": "display_data"
    }
   ],
   "execution_count": 23
  },
  {
   "metadata": {},
   "cell_type": "markdown",
   "source": "i think for lambda = 0.1 the results are ideal . for this lambda the mean recourse loss is 4.0515. here the recouse has doubled around 2.7 times which is a high improvement. But the accuracy took a hard hit sitting around which is not ideal Mean Accuracy: 0.7007",
   "id": "fd42a7e86c800465"
  },
  {
   "metadata": {},
   "cell_type": "markdown",
   "source": [
    "Why cant we use the actual recourse in the training .\n",
    "Because the recourse given by dice is not differentiable."
   ],
   "id": "1012c35d937f4d1f"
  }
 ],
 "metadata": {
  "kernelspec": {
   "display_name": "Python 3",
   "language": "python",
   "name": "python3"
  },
  "language_info": {
   "codemirror_mode": {
    "name": "ipython",
    "version": 2
   },
   "file_extension": ".py",
   "mimetype": "text/x-python",
   "name": "python",
   "nbconvert_exporter": "python",
   "pygments_lexer": "ipython2",
   "version": "2.7.6"
  }
 },
 "nbformat": 4,
 "nbformat_minor": 5
}
