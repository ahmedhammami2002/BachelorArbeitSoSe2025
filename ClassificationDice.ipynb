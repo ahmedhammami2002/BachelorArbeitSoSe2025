{
 "cells": [
  {
   "metadata": {},
   "cell_type": "markdown",
   "source": "## 1. DataSet import",
   "id": "6fac86fdd08104cf"
  },
  {
   "metadata": {
    "ExecuteTime": {
     "end_time": "2025-06-12T00:28:14.091908Z",
     "start_time": "2025-06-12T00:28:14.082153Z"
    }
   },
   "cell_type": "code",
   "source": [
    "import torch\n",
    "from torch import nn\n",
    "from sklearn.model_selection import train_test_split\n",
    "from prepare_datasets import *\n",
    "\n",
    "X, y , feature_names , categorical_features, continuous_features, actionable_features= get_and_prepare_german_dataset()\n",
    "\n",
    "X = torch.from_numpy(X).type(torch.float)\n",
    "y = torch.from_numpy(y).type(torch.float)\n",
    "X_train, X_test, y_train, y_test = train_test_split(X,\n",
    "                                                    y,\n",
    "                                                    test_size=0.2,\n",
    "                                                    random_state=42)"
   ],
   "id": "b198930cd4e722f1",
   "outputs": [],
   "execution_count": 26
  },
  {
   "metadata": {
    "ExecuteTime": {
     "end_time": "2025-06-12T00:28:14.193141Z",
     "start_time": "2025-06-12T00:28:14.187259Z"
    }
   },
   "cell_type": "code",
   "source": [
    "# Make device agnostic code\n",
    "device = \"cuda\" if torch.cuda.is_available() else \"cpu\"\n",
    "device"
   ],
   "id": "5b6ebf6cf2d1007f",
   "outputs": [
    {
     "data": {
      "text/plain": [
       "'cpu'"
      ]
     },
     "execution_count": 27,
     "metadata": {},
     "output_type": "execute_result"
    }
   ],
   "execution_count": 27
  },
  {
   "metadata": {},
   "cell_type": "markdown",
   "source": "## 2. Model",
   "id": "39a5e6d451351f60"
  },
  {
   "metadata": {
    "ExecuteTime": {
     "end_time": "2025-06-12T00:28:14.293966Z",
     "start_time": "2025-06-12T00:28:14.287688Z"
    }
   },
   "cell_type": "code",
   "source": [
    "# Taken from https://github.com/dylan-slack/manipulating-cfes/blob/main/train_models.py\n",
    "# wanted to use this the same model as in the paper\n",
    "class NeuralNetwork(nn.Module):\n",
    "    def __init__(self, input_size, hidden_size, num_classes):\n",
    "        super(NeuralNetwork, self).__init__()\n",
    "        self.fc1 = nn.Linear(input_size, hidden_size)\n",
    "        self.tanh1 = nn.Tanh()\n",
    "        self.fc2 = nn.Linear(hidden_size, hidden_size)\n",
    "        self.tanh2 = nn.Tanh()\n",
    "        self.fc3 = nn.Linear(hidden_size, hidden_size)\n",
    "        self.tanh3 = nn.Tanh()\n",
    "        self.fc4 = nn.Linear(hidden_size, num_classes)\n",
    "\n",
    "    def forward(self, x, return_logit=False):\n",
    "        out = self.fc1(x)\n",
    "        out = self.tanh1(out)\n",
    "        out = self.fc2(out)\n",
    "        out = self.tanh2(out)\n",
    "        out = self.fc3(out)\n",
    "        out = self.tanh3(out)\n",
    "        out = self.fc4(out)\n",
    "        return out\n"
   ],
   "id": "f0bffed6d44ac7ff",
   "outputs": [],
   "execution_count": 28
  },
  {
   "metadata": {
    "ExecuteTime": {
     "end_time": "2025-06-12T00:28:14.369523Z",
     "start_time": "2025-06-12T00:28:14.365253Z"
    }
   },
   "cell_type": "code",
   "source": "model = NeuralNetwork(X.shape[1], 200, 2)",
   "id": "d2e207fb18179fbe",
   "outputs": [],
   "execution_count": 29
  },
  {
   "metadata": {},
   "cell_type": "markdown",
   "source": "## 3. Training",
   "id": "fef0acb46f1e4679"
  },
  {
   "metadata": {
    "ExecuteTime": {
     "end_time": "2025-06-12T00:28:14.447368Z",
     "start_time": "2025-06-12T00:28:14.442937Z"
    }
   },
   "cell_type": "code",
   "source": [
    "loss_fn = nn.CrossEntropyLoss()\n",
    "optimizer = torch.optim.Adam(model.parameters(), lr=0.0001)"
   ],
   "id": "4736629e9c649f92",
   "outputs": [],
   "execution_count": 30
  },
  {
   "metadata": {
    "ExecuteTime": {
     "end_time": "2025-06-12T00:28:35.534636Z",
     "start_time": "2025-06-12T00:28:14.527349Z"
    }
   },
   "cell_type": "code",
   "source": [
    "from sklearn.metrics import f1_score, accuracy_score\n",
    "\n",
    "epochs = 2000\n",
    "X_train, y_train = X_train.to(device), y_train.to(device)\n",
    "X_test, y_test = X_test.to(device), y_test.to(device)\n",
    "model.to(device)\n",
    "\n",
    "train_losses = []\n",
    "test_losses = []\n",
    "train_f1_scores = []\n",
    "test_f1_scores = []\n",
    "\n",
    "for epoch in range(epochs):\n",
    "    model.train()\n",
    "    y_logits = model(X_train)\n",
    "    y_pred = torch.argmax(y_logits, dim=1)\n",
    "    loss = loss_fn(y_logits, y_train.long())\n",
    "\n",
    "    f1_score_training = f1_score(\n",
    "        y_true=y_train.cpu().detach().numpy(),\n",
    "        y_pred=y_pred.cpu().detach().numpy()\n",
    "    )\n",
    "\n",
    "    optimizer.zero_grad()\n",
    "    loss.backward()\n",
    "    optimizer.step()\n",
    "\n",
    "    ### Testing\n",
    "    model.eval()\n",
    "    with torch.inference_mode():\n",
    "        test_logits = model(X_test)\n",
    "        test_pred = torch.argmax(test_logits, dim=1)\n",
    "        test_loss = loss_fn(test_logits, y_test.long())\n",
    "\n",
    "        f1_score_test = f1_score(\n",
    "            y_true=y_test.cpu().detach().numpy(),\n",
    "            y_pred=test_pred.cpu().detach().numpy()\n",
    "        )\n",
    "\n",
    "    train_losses.append(loss.item())\n",
    "    test_losses.append(test_loss.item())\n",
    "    train_f1_scores.append(f1_score_training)\n",
    "    test_f1_scores.append(f1_score_test)\n",
    "\n",
    "    if epoch % 100 == 0:\n",
    "        print(f\"Epoch: {epoch} | Loss: {loss:.5f}, F1-Training: {f1_score_training:.2f}% | Test loss: {test_loss:.5f}, F1-Testing: {f1_score_test:.2f}%\")"
   ],
   "id": "600de58273123c17",
   "outputs": [
    {
     "name": "stdout",
     "output_type": "stream",
     "text": [
      "Epoch: 0 | Loss: 0.67509, F1-Training: 0.82% | Test loss: 0.64846, F1-Testing: 0.83%\n",
      "Epoch: 100 | Loss: 0.57938, F1-Training: 0.82% | Test loss: 0.58522, F1-Testing: 0.83%\n",
      "Epoch: 200 | Loss: 0.55606, F1-Training: 0.82% | Test loss: 0.57284, F1-Testing: 0.83%\n",
      "Epoch: 300 | Loss: 0.54250, F1-Training: 0.82% | Test loss: 0.57369, F1-Testing: 0.84%\n",
      "Epoch: 400 | Loss: 0.52682, F1-Training: 0.82% | Test loss: 0.57776, F1-Testing: 0.83%\n",
      "Epoch: 500 | Loss: 0.51499, F1-Training: 0.83% | Test loss: 0.57794, F1-Testing: 0.84%\n",
      "Epoch: 600 | Loss: 0.49932, F1-Training: 0.83% | Test loss: 0.56785, F1-Testing: 0.83%\n",
      "Epoch: 700 | Loss: 0.48692, F1-Training: 0.84% | Test loss: 0.56500, F1-Testing: 0.83%\n",
      "Epoch: 800 | Loss: 0.47693, F1-Training: 0.84% | Test loss: 0.56451, F1-Testing: 0.82%\n",
      "Epoch: 900 | Loss: 0.46768, F1-Training: 0.84% | Test loss: 0.56628, F1-Testing: 0.83%\n",
      "Epoch: 1000 | Loss: 0.46220, F1-Training: 0.85% | Test loss: 0.57542, F1-Testing: 0.83%\n",
      "Epoch: 1100 | Loss: 0.45286, F1-Training: 0.85% | Test loss: 0.57354, F1-Testing: 0.83%\n",
      "Epoch: 1200 | Loss: 0.44385, F1-Training: 0.85% | Test loss: 0.58007, F1-Testing: 0.83%\n",
      "Epoch: 1300 | Loss: 0.43681, F1-Training: 0.86% | Test loss: 0.58645, F1-Testing: 0.83%\n",
      "Epoch: 1400 | Loss: 0.42992, F1-Training: 0.86% | Test loss: 0.58825, F1-Testing: 0.84%\n",
      "Epoch: 1500 | Loss: 0.42588, F1-Training: 0.86% | Test loss: 0.59810, F1-Testing: 0.84%\n",
      "Epoch: 1600 | Loss: 0.41692, F1-Training: 0.86% | Test loss: 0.60879, F1-Testing: 0.84%\n",
      "Epoch: 1700 | Loss: 0.41230, F1-Training: 0.87% | Test loss: 0.61302, F1-Testing: 0.84%\n",
      "Epoch: 1800 | Loss: 0.40601, F1-Training: 0.87% | Test loss: 0.62916, F1-Testing: 0.83%\n",
      "Epoch: 1900 | Loss: 0.39980, F1-Training: 0.87% | Test loss: 0.63414, F1-Testing: 0.83%\n"
     ]
    }
   ],
   "execution_count": 31
  },
  {
   "metadata": {
    "ExecuteTime": {
     "end_time": "2025-06-12T00:28:35.998528Z",
     "start_time": "2025-06-12T00:28:35.638749Z"
    }
   },
   "cell_type": "code",
   "source": [
    "import matplotlib.pyplot as plt\n",
    "\n",
    "\n",
    "plt.figure(figsize=(12, 5))\n",
    "\n",
    "# Plot Loss\n",
    "plt.subplot(1, 2, 1)\n",
    "plt.plot(train_losses, label=\"Train Loss\")\n",
    "plt.plot(test_losses, label=\"Test Loss\")\n",
    "plt.xlabel(\"Epochs\")\n",
    "plt.ylabel(\"Loss\")\n",
    "plt.title(\"Training vs. Test Loss\")\n",
    "plt.legend()\n",
    "\n",
    "# Plot F1 Score\n",
    "plt.subplot(1, 2, 2)\n",
    "plt.plot(train_f1_scores, label=\"Train F1\")\n",
    "plt.plot(test_f1_scores, label=\"Test F1\")\n",
    "plt.xlabel(\"Epochs\")\n",
    "plt.ylabel(\"F1 Score\")\n",
    "plt.title(\"Training vs. Test F1 Score\")\n",
    "plt.legend()\n",
    "\n",
    "plt.tight_layout()\n",
    "plt.show()"
   ],
   "id": "73a0eb3de9528d75",
   "outputs": [
    {
     "data": {
      "text/plain": [
       "<Figure size 1200x500 with 2 Axes>"
      ],
      "image/png": "[encoded data removed]"
     },
     "metadata": {},
     "output_type": "display_data"
    }
   ],
   "execution_count": 32
  },
  {
   "metadata": {},
   "cell_type": "markdown",
   "source": [
    "## 4. Counterfactual generation:\n",
    "### 4.1. of one Instance"
   ],
   "id": "15b98b87d61ce7c9"
  },
  {
   "metadata": {
    "ExecuteTime": {
     "end_time": "2025-06-12T00:28:36.102658Z",
     "start_time": "2025-06-12T00:28:36.074797Z"
    }
   },
   "cell_type": "code",
   "source": [
    "import dice_ml\n",
    "\n",
    "df = pd.DataFrame(X, columns=feature_names)\n",
    "df['target'] = y\n",
    "\n",
    "dice_data = dice_ml.Data(\n",
    "    dataframe=df,\n",
    "    continuous_features=continuous_features,\n",
    "    categorical_features=categorical_features,\n",
    "    outcome_name='target'\n",
    ")"
   ],
   "id": "507fccedc56932c2",
   "outputs": [],
   "execution_count": 33
  },
  {
   "metadata": {
    "ExecuteTime": {
     "end_time": "2025-06-12T00:28:36.191213Z",
     "start_time": "2025-06-12T00:28:36.180190Z"
    }
   },
   "cell_type": "code",
   "source": [
    "class PyTorchModelWrapper:\n",
    "    def __init__(self, model):\n",
    "        self.model = model\n",
    "\n",
    "    def predict_proba(self, x):\n",
    "        self.model.eval()\n",
    "        with torch.no_grad():\n",
    "            x = x.values\n",
    "            x = x.astype(np.float64)\n",
    "            x_tensor = torch.FloatTensor(x)\n",
    "            logits = self.model(x_tensor)\n",
    "            probabilities = torch.softmax(logits, dim=1)  # Use softmax instead of sigmoid\n",
    "            return probabilities.cpu().numpy()\n",
    "\n",
    "dice_model = dice_ml.Model(\n",
    "    model=PyTorchModelWrapper(model),\n",
    "    backend=\"sklearn\",\n",
    "    model_type='classifier'\n",
    ")\n",
    "\n",
    "exp = dice_ml.Dice(\n",
    "    dice_data,\n",
    "    dice_model,\n",
    "    method=\"genetic\"\n",
    ")\n"
   ],
   "id": "b750abba2d68706",
   "outputs": [],
   "execution_count": 34
  },
  {
   "metadata": {
    "ExecuteTime": {
     "end_time": "2025-06-12T00:28:36.755269Z",
     "start_time": "2025-06-12T00:28:36.293320Z"
    }
   },
   "cell_type": "code",
   "source": [
    "\n",
    "query_instance = X[11:12]\n",
    "query_df = pd.DataFrame(query_instance, columns=feature_names)\n",
    "\n",
    "\n",
    "#  generate counterfactuals\n",
    "dice_exp = exp.generate_counterfactuals(\n",
    "    query_df,\n",
    "    total_CFs=1,\n",
    "    desired_class=\"opposite\",\n",
    "    features_to_vary = actionable_features\n",
    ")\n",
    "\n",
    "print(\"\\nCounterfactuals:\")\n",
    "dice_exp.visualize_as_dataframe(show_only_changes=True)\n"
   ],
   "id": "f69818bcdc5f9b89",
   "outputs": [
    {
     "name": "stderr",
     "output_type": "stream",
     "text": [
      "100%|██████████| 1/1 [00:00<00:00,  2.54it/s]"
     ]
    },
    {
     "name": "stdout",
     "output_type": "stream",
     "text": [
      "\n",
      "Counterfactuals:\n",
      "Query instance (original outcome : 0)\n"
     ]
    },
    {
     "name": "stderr",
     "output_type": "stream",
     "text": [
      "\n"
     ]
    },
    {
     "data": {
      "text/plain": [
       "   Gender  ForeignWorker  Single   Age  LoanDuration  LoanAmount  \\\n",
       "0     1.0            0.0     0.0  24.0          48.0      4308.0   \n",
       "\n",
       "   LoanRateAsPercentOfIncome  YearsAtCurrentHome  NumberOfOtherLoansAtBank  \\\n",
       "0                        3.0                 4.0                       1.0   \n",
       "\n",
       "   NumberOfLiableIndividuals  ...  OtherLoansAtBank  HasCoapplicant  \\\n",
       "0                        1.0  ...               0.0             0.0   \n",
       "\n",
       "   HasGuarantor  OwnsHouse  RentsHouse  Unemployed  YearsAtCurrentJob_lt_1  \\\n",
       "0           0.0        0.0         1.0         0.0                     1.0   \n",
       "\n",
       "   YearsAtCurrentJob_geq_4  JobClassIsSkilled  target  \n",
       "0                      0.0                1.0       0  \n",
       "\n",
       "[1 rows x 28 columns]"
      ],
      "text/html": [
       "<div>\n",
       "<style scoped>\n",
       "    .dataframe tbody tr th:only-of-type {\n",
       "        vertical-align: middle;\n",
       "    }\n",
       "\n",
       "    .dataframe tbody tr th {\n",
       "        vertical-align: top;\n",
       "    }\n",
       "\n",
       "    .dataframe thead th {\n",
       "        text-align: right;\n",
       "    }\n",
       "</style>\n",
       "<table border=\"1\" class=\"dataframe\">\n",
       "  <thead>\n",
       "    <tr style=\"text-align: right;\">\n",
       "      <th></th>\n",
       "      <th>Gender</th>\n",
       "      <th>ForeignWorker</th>\n",
       "      <th>Single</th>\n",
       "      <th>Age</th>\n",
       "      <th>LoanDuration</th>\n",
       "      <th>LoanAmount</th>\n",
       "      <th>LoanRateAsPercentOfIncome</th>\n",
       "      <th>YearsAtCurrentHome</th>\n",
       "      <th>NumberOfOtherLoansAtBank</th>\n",
       "      <th>NumberOfLiableIndividuals</th>\n",
       "      <th>...</th>\n",
       "      <th>OtherLoansAtBank</th>\n",
       "      <th>HasCoapplicant</th>\n",
       "      <th>HasGuarantor</th>\n",
       "      <th>OwnsHouse</th>\n",
       "      <th>RentsHouse</th>\n",
       "      <th>Unemployed</th>\n",
       "      <th>YearsAtCurrentJob_lt_1</th>\n",
       "      <th>YearsAtCurrentJob_geq_4</th>\n",
       "      <th>JobClassIsSkilled</th>\n",
       "      <th>target</th>\n",
       "    </tr>\n",
       "  </thead>\n",
       "  <tbody>\n",
       "    <tr>\n",
       "      <th>0</th>\n",
       "      <td>1.0</td>\n",
       "      <td>0.0</td>\n",
       "      <td>0.0</td>\n",
       "      <td>24.0</td>\n",
       "      <td>48.0</td>\n",
       "      <td>4308.0</td>\n",
       "      <td>3.0</td>\n",
       "      <td>4.0</td>\n",
       "      <td>1.0</td>\n",
       "      <td>1.0</td>\n",
       "      <td>...</td>\n",
       "      <td>0.0</td>\n",
       "      <td>0.0</td>\n",
       "      <td>0.0</td>\n",
       "      <td>0.0</td>\n",
       "      <td>1.0</td>\n",
       "      <td>0.0</td>\n",
       "      <td>1.0</td>\n",
       "      <td>0.0</td>\n",
       "      <td>1.0</td>\n",
       "      <td>0</td>\n",
       "    </tr>\n",
       "  </tbody>\n",
       "</table>\n",
       "<p>1 rows × 28 columns</p>\n",
       "</div>"
      ]
     },
     "metadata": {},
     "output_type": "display_data"
    },
    {
     "name": "stdout",
     "output_type": "stream",
     "text": [
      "\n",
      "Diverse Counterfactual set (new outcome: 1.0)\n"
     ]
    },
    {
     "data": {
      "text/plain": [
       "  Gender ForeignWorker Single Age LoanDuration LoanAmount  \\\n",
       "0      -             -      -   -          4.0          -   \n",
       "\n",
       "  LoanRateAsPercentOfIncome YearsAtCurrentHome NumberOfOtherLoansAtBank  \\\n",
       "0                         -                  -                        -   \n",
       "\n",
       "  NumberOfLiableIndividuals  ... OtherLoansAtBank HasCoapplicant HasGuarantor  \\\n",
       "0                         -  ...                -              -            -   \n",
       "\n",
       "  OwnsHouse RentsHouse Unemployed YearsAtCurrentJob_lt_1  \\\n",
       "0       1.0          -          -                    0.0   \n",
       "\n",
       "  YearsAtCurrentJob_geq_4 JobClassIsSkilled target  \n",
       "0                       -                 -    1.0  \n",
       "\n",
       "[1 rows x 28 columns]"
      ],
      "text/html": [
       "<div>\n",
       "<style scoped>\n",
       "    .dataframe tbody tr th:only-of-type {\n",
       "        vertical-align: middle;\n",
       "    }\n",
       "\n",
       "    .dataframe tbody tr th {\n",
       "        vertical-align: top;\n",
       "    }\n",
       "\n",
       "    .dataframe thead th {\n",
       "        text-align: right;\n",
       "    }\n",
       "</style>\n",
       "<table border=\"1\" class=\"dataframe\">\n",
       "  <thead>\n",
       "    <tr style=\"text-align: right;\">\n",
       "      <th></th>\n",
       "      <th>Gender</th>\n",
       "      <th>ForeignWorker</th>\n",
       "      <th>Single</th>\n",
       "      <th>Age</th>\n",
       "      <th>LoanDuration</th>\n",
       "      <th>LoanAmount</th>\n",
       "      <th>LoanRateAsPercentOfIncome</th>\n",
       "      <th>YearsAtCurrentHome</th>\n",
       "      <th>NumberOfOtherLoansAtBank</th>\n",
       "      <th>NumberOfLiableIndividuals</th>\n",
       "      <th>...</th>\n",
       "      <th>OtherLoansAtBank</th>\n",
       "      <th>HasCoapplicant</th>\n",
       "      <th>HasGuarantor</th>\n",
       "      <th>OwnsHouse</th>\n",
       "      <th>RentsHouse</th>\n",
       "      <th>Unemployed</th>\n",
       "      <th>YearsAtCurrentJob_lt_1</th>\n",
       "      <th>YearsAtCurrentJob_geq_4</th>\n",
       "      <th>JobClassIsSkilled</th>\n",
       "      <th>target</th>\n",
       "    </tr>\n",
       "  </thead>\n",
       "  <tbody>\n",
       "    <tr>\n",
       "      <th>0</th>\n",
       "      <td>-</td>\n",
       "      <td>-</td>\n",
       "      <td>-</td>\n",
       "      <td>-</td>\n",
       "      <td>4.0</td>\n",
       "      <td>-</td>\n",
       "      <td>-</td>\n",
       "      <td>-</td>\n",
       "      <td>-</td>\n",
       "      <td>-</td>\n",
       "      <td>...</td>\n",
       "      <td>-</td>\n",
       "      <td>-</td>\n",
       "      <td>-</td>\n",
       "      <td>1.0</td>\n",
       "      <td>-</td>\n",
       "      <td>-</td>\n",
       "      <td>0.0</td>\n",
       "      <td>-</td>\n",
       "      <td>-</td>\n",
       "      <td>1.0</td>\n",
       "    </tr>\n",
       "  </tbody>\n",
       "</table>\n",
       "<p>1 rows × 28 columns</p>\n",
       "</div>"
      ]
     },
     "metadata": {},
     "output_type": "display_data"
    }
   ],
   "execution_count": 35
  },
  {
   "metadata": {},
   "cell_type": "markdown",
   "source": "### 4.2. calculating L1 Distance",
   "id": "633cde6f43ed7e55"
  },
  {
   "metadata": {
    "ExecuteTime": {
     "end_time": "2025-06-12T00:28:36.886476Z",
     "start_time": "2025-06-12T00:28:36.878982Z"
    }
   },
   "cell_type": "code",
   "source": [
    "# get counterfactuals as list\n",
    "cf_list = dice_exp.cf_examples_list[0].final_cfs_df.values.tolist()\n",
    "\n",
    "# Convert query_instance to tensor\n",
    "if isinstance(query_instance, np.ndarray):\n",
    "    query_instance = torch.from_numpy(query_instance).float()\n",
    "\n",
    "for cf in cf_list:\n",
    "    # Convert cf to tensor\n",
    "    if isinstance(cf, list):\n",
    "        cf = np.array(cf)\n",
    "    if isinstance(cf, np.ndarray):\n",
    "        cf = torch.from_numpy(cf).float()\n",
    "\n",
    "    cf_features = cf[:-1]  # all features except the last one which is the target\n",
    "    query_features = query_instance.squeeze()\n",
    "\n",
    "    with torch.no_grad():\n",
    "        # Calculate L1 distance between feature vectors\n",
    "        distance = torch.norm(query_features - cf_features, p=1)\n",
    "        print(f\"L1 distance between query and counterfactual: {distance.item()}\")"
   ],
   "id": "717d253e06637e4b",
   "outputs": [
    {
     "name": "stdout",
     "output_type": "stream",
     "text": [
      "L1 distance between query and counterfactual: 119.0\n"
     ]
    }
   ],
   "execution_count": 36
  },
  {
   "metadata": {},
   "cell_type": "markdown",
   "source": "## 4.3. Calculating the mean value of all L1 Distances of negatively classified instances",
   "id": "525f1c492a354578"
  },
  {
   "metadata": {
    "ExecuteTime": {
     "end_time": "2025-06-12T00:28:37.220832Z",
     "start_time": "2025-06-12T00:28:37.213270Z"
    }
   },
   "cell_type": "code",
   "source": [
    "from Helper_functions import *\n",
    "\n",
    "X_positive, X_negative, pos_indices, neg_indices = split_by_classification(model, X)\n"
   ],
   "id": "7951a15018a562e5",
   "outputs": [],
   "execution_count": 37
  },
  {
   "metadata": {
    "ExecuteTime": {
     "end_time": "2025-06-12T00:31:07.487639Z",
     "start_time": "2025-06-12T00:28:37.387103Z"
    }
   },
   "cell_type": "code",
   "source": [
    "query_df = pd.DataFrame(X_negative.cpu().numpy(), columns=feature_names)\n",
    "\n",
    "dice_exp = exp.generate_counterfactuals(\n",
    "    query_df,\n",
    "    total_CFs=1,\n",
    "    desired_class=\"opposite\",\n",
    "    features_to_vary=actionable_features\n",
    ")"
   ],
   "id": "a23f3c2cb44af321",
   "outputs": [
    {
     "name": "stderr",
     "output_type": "stream",
     "text": [
      "100%|██████████| 205/205 [02:30<00:00,  1.37it/s]\n"
     ]
    }
   ],
   "execution_count": 38
  },
  {
   "metadata": {
    "ExecuteTime": {
     "end_time": "2025-06-12T00:31:07.716832Z",
     "start_time": "2025-06-12T00:31:07.568509Z"
    }
   },
   "cell_type": "code",
   "source": [
    "l1_distances = []\n",
    "for i in range(len(X_negative)):\n",
    "    original = X_negative[i]\n",
    "    cf_df = dice_exp.cf_examples_list[i].final_cfs_df#\n",
    "    if cf_df is None or cf_df.empty:\n",
    "        continue\n",
    "    cf_values = cf_df[feature_names].values\n",
    "    cf_tensor = torch.from_numpy(cf_values).float().to(device)\n",
    "    distance = torch.norm(original - cf_tensor, p=1).item()\n",
    "    l1_distances.append(distance)\n",
    "\n",
    "# Compute mean L1 distance\n",
    "mean_l1 = np.mean(l1_distances)\n",
    "print(f\"Mean L1 distance for negatively classified data using DiCE: {mean_l1:.2f}\")"
   ],
   "id": "e196acdab8e0e11f",
   "outputs": [
    {
     "name": "stdout",
     "output_type": "stream",
     "text": [
      "Mean L1 distance for negatively classified data using DiCE: 1372.71\n"
     ]
    }
   ],
   "execution_count": 39
  },
  {
   "metadata": {},
   "cell_type": "markdown",
   "source": "## 5. Saving the model",
   "id": "b891c4dabbf46529"
  },
  {
   "metadata": {
    "ExecuteTime": {
     "end_time": "2025-06-12T00:31:07.790072Z",
     "start_time": "2025-06-12T00:31:07.783260Z"
    }
   },
   "cell_type": "code",
   "source": [
    "from pathlib import Path\n",
    "\n",
    "# 1. Create models directory\n",
    "MODEL_PATH = Path(\"models\")\n",
    "MODEL_PATH.mkdir(parents=True, exist_ok=True)\n",
    "\n",
    "# 2. Create model save path\n",
    "MODEL_NAME = \"01_pytorch_workflow_model_0.pth\"\n",
    "MODEL_SAVE_PATH = MODEL_PATH / MODEL_NAME\n",
    "\n",
    "# 3. Save the model state dict\n",
    "print(f\"Saving model to: {MODEL_SAVE_PATH}\")\n",
    "torch.save(obj=model.state_dict(), # only saving the state_dict() only saves the models learned parameters\n",
    "           f=MODEL_SAVE_PATH)"
   ],
   "id": "f30eada59b56177c",
   "outputs": [
    {
     "name": "stdout",
     "output_type": "stream",
     "text": [
      "Saving model to: models\\01_pytorch_workflow_model_0.pth\n"
     ]
    }
   ],
   "execution_count": 40
  },
  {
   "metadata": {},
   "cell_type": "markdown",
   "source": "## Calculating the initial approximation of recourse",
   "id": "60d749a33f8cf2ca"
  },
  {
   "metadata": {},
   "cell_type": "code",
   "outputs": [],
   "execution_count": null,
   "source": [
    "loaded_model = NeuralNetwork(X.shape[1], 200, 2)\n",
    "loaded_model.load_state_dict(torch.load(f=MODEL_SAVE_PATH))\n",
    "\n",
    "X_positive, X_negative, pos_indices, neg_indices = split_by_classification(loaded_model, X)\n",
    "\n",
    "y_logits_negative = loaded_model(X_negative)\n",
    "abs_differences = torch.abs(y_logits_negative[:, 0] - y_logits_negative[:, 1])\n",
    "recourse_Approximation = torch.mean(abs_differences)\n",
    "\n",
    "\n",
    "print(f\"initial Recourse Approximation: {recourse_Approximation:.2f}\")"
   ],
   "id": "bd34a385b4675b4d"
  },
  {
   "metadata": {},
   "cell_type": "markdown",
   "source": "## 5. Approximating the Cost of Recourse:\n",
   "id": "95d41ff54d8bfcd2"
  },
  {
   "metadata": {},
   "cell_type": "markdown",
   "source": "## 5. Modifying the Cost function:",
   "id": "7843316f24bfeab8"
  },
  {
   "metadata": {},
   "cell_type": "markdown",
   "source": [
    "the cost function has this formula\n",
    "\n",
    "$$  L (X) = BinaryCrossEntropy(D {\\scriptstyle train}) -  \\frac{\\lambda}{|D {\\scriptstyle negative}|} \\cdot \\sum_{x \\in D {\\scriptstyle negative}} C(x)  $$\n",
    "\n",
    "\n",
    "with C(x) is an approximation of the Cost of Recourse set to be\n",
    "$$ C(x) = |G{\\scriptstyle class 1} - G{\\scriptstyle class 2} |$$\n",
    "\n",
    "G being the logit of that specific class and the approximation being the difference of the logits"
   ],
   "id": "a400c9aa6cbdc39c"
  },
  {
   "metadata": {},
   "cell_type": "markdown",
   "source": "Calculating the counterfactuals for the negatively classified instances mutiple times during the training loop can be very costly. That justifies the use of use of an approximation",
   "id": "385044583f0e61a0"
  },
  {
   "metadata": {
    "ExecuteTime": {
     "end_time": "2025-06-12T00:31:16.858398Z",
     "start_time": "2025-06-12T00:31:07.892164Z"
    }
   },
   "cell_type": "code",
   "source": [
    "from sklearn.metrics import accuracy_score\n",
    "\n",
    "lamda = 0.1\n",
    "epochs = 1000\n",
    "\n",
    "loaded_model = NeuralNetwork(X.shape[1], 200, 2)\n",
    "loaded_model.load_state_dict(torch.load(f=MODEL_SAVE_PATH))\n",
    "\n",
    "initial_accuracy = accuracy_score(y, torch.argmax(loaded_model(X), dim=1))\n",
    "print(f\"Initial Accuracy: {initial_accuracy:.2f}\")\n",
    "\n",
    "X_train, X_test, y_train, y_test = train_test_split(X,\n",
    "                                                    y,\n",
    "                                                    test_size=0.3,\n",
    "                                                    random_state=42)\n",
    "\n",
    "X_train_positive, X_train_negative, pos_indices, neg_indices = split_by_classification(loaded_model,X_train)\n",
    "\n",
    "X_test_positive, X_test_negative, pos_indices, neg_indices = split_by_classification(loaded_model,X_test)\n",
    "\n",
    "loss_fn_1 = nn.CrossEntropyLoss()\n",
    "optimizer = torch.optim.Adam(loaded_model.parameters(), lr=0.0001)\n",
    "accuracies = []\n",
    "for epoch in range(epochs):\n",
    "    loaded_model.train()\n",
    "\n",
    "    y_logits = loaded_model(X_train)\n",
    "    y_pred = torch.argmax(y_logits, dim=1)\n",
    "    loss_1 = loss_fn_1(y_logits, y_train.long())\n",
    "\n",
    "    y_logits_negative = loaded_model(X_train_negative)\n",
    "\n",
    "    abs_differences = torch.abs (y_logits_negative[:, 0] - y_logits_negative[:, 1])\n",
    "    loss_2 = torch.mean(abs_differences)\n",
    "    loss = loss_1 - lamda * loss_2\n",
    "\n",
    "    optimizer.zero_grad()\n",
    "    loss.backward()\n",
    "    optimizer.step()\n",
    "\n",
    "    loaded_model.eval()\n",
    "    with torch.inference_mode():\n",
    "        test_logits = loaded_model(X_test)\n",
    "        test_pred = torch.argmax(test_logits, dim=1)\n",
    "        test_loss_1 = loss_fn_1(test_logits, y_test.long())\n",
    "\n",
    "        y_logits_negative = loaded_model(X_test_negative)\n",
    "\n",
    "        abs_differences = torch.abs (y_logits_negative[:, 0] - y_logits_negative[:, 1])\n",
    "        test_loss_2 = torch.mean(abs_differences)\n",
    "\n",
    "        test_loss = test_loss_1 - lamda * test_loss_2\n",
    "\n",
    "        accuracy = accuracy_score(y_test, torch.argmax(loaded_model(X_test), dim=1))\n",
    "\n",
    "    if epoch % 10 == 0:\n",
    "        X_train_positive, X_train_negative, pos_indices, neg_indices = split_by_classification(loaded_model,X_train)\n",
    "\n",
    "        X_test_positive, X_test_negative, pos_indices, neg_indices = split_by_classification(loaded_model,X_test)\n",
    "\n",
    "    if epoch % 100 == 0:\n",
    "        print(f\"Epoch: {epoch} | Loss: {loss:.5f}| Test loss: {test_loss:.5f}| Accuracy: {accuracy:.5f}\")"
   ],
   "id": "cc0cd7dcbeaa621e",
   "outputs": [
    {
     "name": "stdout",
     "output_type": "stream",
     "text": [
      "Initial Accuracy: 0.80\n",
      "Epoch: 0 | Loss: 0.28404| Test loss: 1.35548| Accuracy: 0.41333\n",
      "Epoch: 100 | Loss: 0.24674| Test loss: 0.45346| Accuracy: 0.73333\n",
      "Epoch: 200 | Loss: 0.23420| Test loss: 0.48138| Accuracy: 0.74000\n",
      "Epoch: 300 | Loss: 0.20611| Test loss: 0.51342| Accuracy: 0.73667\n",
      "Epoch: 400 | Loss: 0.18842| Test loss: 0.55920| Accuracy: 0.73667\n",
      "Epoch: 500 | Loss: 0.16313| Test loss: 0.56570| Accuracy: 0.73000\n",
      "Epoch: 600 | Loss: 0.13710| Test loss: 0.60566| Accuracy: 0.71667\n",
      "Epoch: 700 | Loss: 0.14064| Test loss: 0.52854| Accuracy: 0.73000\n",
      "Epoch: 800 | Loss: 0.07995| Test loss: 0.68391| Accuracy: 0.69333\n",
      "Epoch: 900 | Loss: 0.17470| Test loss: 1.07387| Accuracy: 0.59667\n"
     ]
    }
   ],
   "execution_count": 41
  },
  {
   "metadata": {},
   "cell_type": "markdown",
   "source": "## Testing for different Lamdas\n",
   "id": "7e38460e0605ad5e"
  },
  {
   "metadata": {
    "ExecuteTime": {
     "end_time": "2025-06-12T01:21:02.328832Z",
     "start_time": "2025-06-12T00:31:16.943560Z"
    }
   },
   "cell_type": "code",
   "source": [
    "import numpy as np\n",
    "import matplotlib.pyplot as plt\n",
    "from sklearn.metrics import accuracy_score\n",
    "\n",
    "lambdas = np.linspace(0.01, 0.4, 40)\n",
    "epochs = 1000\n",
    "mean_accuracies = []\n",
    "mean_recourse_approximations = []\n",
    "mean_recourses = []\n",
    "\n",
    "for lamda in lambdas:\n",
    "    print(f\"\\nTraining for lambda = {lamda:.3f}\")\n",
    "\n",
    "    loaded_model = NeuralNetwork(X.shape[1], 200, 2)\n",
    "    loaded_model.load_state_dict(torch.load(f=MODEL_SAVE_PATH))\n",
    "\n",
    "    initial_accuracy = accuracy_score(y, torch.argmax(loaded_model(X), dim=1))\n",
    "    print(f\"Initial Accuracy: {initial_accuracy:.2f}\")\n",
    "\n",
    "    X_train_positive, X_train_negative, pos_indices, neg_indices = split_by_classification(loaded_model,X_train)\n",
    "\n",
    "    X_test_positive, X_test_negative, pos_indices, neg_indices = split_by_classification(loaded_model,X_test)\n",
    "\n",
    "    loss_fn_1 = nn.CrossEntropyLoss()\n",
    "    optimizer = torch.optim.Adam(loaded_model.parameters(), lr=0.0001)\n",
    "\n",
    "    epoch_accuracies = []\n",
    "    epoch_recourse = []\n",
    "\n",
    "    for epoch in range(epochs):\n",
    "        loaded_model.train()\n",
    "\n",
    "        y_logits = loaded_model(X_train)\n",
    "        loss_1 = loss_fn_1(y_logits, y_train.long())\n",
    "\n",
    "        y_logits_negative = loaded_model(X_train_negative)\n",
    "        abs_differences = torch.abs(y_logits_negative[:, 0] - y_logits_negative[:, 1])\n",
    "        loss_2 = torch.mean(abs_differences)\n",
    "\n",
    "        loss = loss_1 - lamda * loss_2\n",
    "\n",
    "        optimizer.zero_grad()\n",
    "        loss.backward()\n",
    "        optimizer.step()\n",
    "\n",
    "        loaded_model.eval()\n",
    "        with torch.inference_mode():\n",
    "            test_logits = loaded_model(X_test)\n",
    "            test_loss_1 = loss_fn_1(test_logits, y_test.long())\n",
    "\n",
    "            y_logits_negative = loaded_model(X_test_negative)\n",
    "            abs_differences = torch.abs(y_logits_negative[:, 0] - y_logits_negative[:, 1])\n",
    "            test_loss_2 = torch.mean(abs_differences)\n",
    "\n",
    "            test_loss = test_loss_1 - lamda * test_loss_2\n",
    "\n",
    "            accuracy = accuracy_score(y_test, torch.argmax(test_logits, dim=1))\n",
    "            epoch_accuracies.append(accuracy)\n",
    "            if not torch.isnan(test_loss_2):\n",
    "                epoch_recourse.append(test_loss_2.item())\n",
    "\n",
    "        if epoch % 10 == 0:\n",
    "\n",
    "            X_train_positive, X_train_negative, pos_indices, neg_indices = split_by_classification(loaded_model,X_train)\n",
    "            X_test_positive, X_test_negative, pos_indices, neg_indices = split_by_classification(loaded_model,X_test)\n",
    "\n",
    "        if epoch % 100 == 0:\n",
    "            print(f\"Epoch: {epoch} | Loss: {loss:.5f} | Test loss: {test_loss:.5f} | Accuracy: {accuracy:.5f} | Recourse loss: {test_loss_2:.5f}\")\n",
    "\n",
    "    mean_accuracy = np.mean(epoch_accuracies)\n",
    "    mean_recourse = np.mean(epoch_recourse)\n",
    "\n",
    "    mean_accuracies.append(mean_accuracy)\n",
    "    mean_recourse_approximations.append(mean_recourse)\n",
    "\n",
    "    # calculating the Recourse for all\n",
    "    X_positive, X_negative, pos_indices, neg_indices = split_by_classification(loaded_model,X)\n",
    "\n",
    "    query_df = pd.DataFrame(X_negative.cpu().numpy(), columns=feature_names)\n",
    "\n",
    "    dice_exp = exp.generate_counterfactuals(\n",
    "        query_df,\n",
    "        total_CFs=1,\n",
    "        desired_class=\"opposite\",\n",
    "        features_to_vary=actionable_features\n",
    "    )\n",
    "\n",
    "    l1_distances = []\n",
    "    for i in range(len(X_negative)):\n",
    "        original = X_negative[i]\n",
    "        cf_df = dice_exp.cf_examples_list[i].final_cfs_df\n",
    "        if cf_df is None or cf_df.empty:\n",
    "            continue\n",
    "        cf_values = cf_df[feature_names].values\n",
    "        cf_tensor = torch.from_numpy(cf_values).float().to(device)\n",
    "        distance = torch.norm(original - cf_tensor, p=1).item()\n",
    "        l1_distances.append(distance)\n",
    "\n",
    "    # Compute mean L1 distance\n",
    "    mean_l1 = np.mean(l1_distances)\n",
    "\n",
    "    print(f\"Mean L1 distance for negatively classified data using DiCE: {mean_l1:.2f}\")\n",
    "    mean_recourses.append(mean_l1)\n",
    "\n",
    "    print(f\"Lambda = {lamda:.3f} | Mean Accuracy: {mean_accuracy:.4f} | Mean Recourse Approximations: {mean_recourse:.4f}\")\n",
    "\n",
    "\n",
    "\n"
   ],
   "id": "dd0be63aad74e053",
   "outputs": [
    {
     "name": "stdout",
     "output_type": "stream",
     "text": [
      "\n",
      "Training for lambda = 0.010\n",
      "Initial Accuracy: 0.80\n",
      "Epoch: 0 | Loss: 0.38319 | Test loss: 1.85601 | Accuracy: 0.41333 | Recourse loss: 5.54239\n",
      "Epoch: 100 | Loss: 0.37456 | Test loss: 0.56075 | Accuracy: 0.76000 | Recourse loss: 1.27540\n",
      "Epoch: 200 | Loss: 0.37059 | Test loss: 0.57269 | Accuracy: 0.75667 | Recourse loss: 1.35605\n",
      "Epoch: 300 | Loss: 0.36640 | Test loss: 0.58485 | Accuracy: 0.76333 | Recourse loss: 1.38167\n",
      "Epoch: 400 | Loss: 0.36212 | Test loss: 0.59605 | Accuracy: 0.76000 | Recourse loss: 1.44668\n",
      "Epoch: 500 | Loss: 0.35743 | Test loss: 0.60702 | Accuracy: 0.75333 | Recourse loss: 1.49263\n",
      "Epoch: 600 | Loss: 0.35228 | Test loss: 0.61753 | Accuracy: 0.75667 | Recourse loss: 1.59449\n",
      "Epoch: 700 | Loss: 0.34730 | Test loss: 0.62933 | Accuracy: 0.75333 | Recourse loss: 1.67409\n",
      "Epoch: 800 | Loss: 0.34252 | Test loss: 0.63842 | Accuracy: 0.75000 | Recourse loss: 1.75199\n",
      "Epoch: 900 | Loss: 0.33754 | Test loss: 0.64651 | Accuracy: 0.75000 | Recourse loss: 1.76995\n"
     ]
    },
    {
     "name": "stderr",
     "output_type": "stream",
     "text": [
      "100%|██████████| 293/293 [02:57<00:00,  1.65it/s]\n"
     ]
    },
    {
     "name": "stdout",
     "output_type": "stream",
     "text": [
      "Mean L1 distance for negatively classified data using DiCE: 924.90\n",
      "Lambda = 0.010 | Mean Accuracy: 0.7538 | Mean Recourse Approximations: 1.5547\n",
      "\n",
      "Training for lambda = 0.020\n",
      "Initial Accuracy: 0.80\n",
      "Epoch: 0 | Loss: 0.37218 | Test loss: 1.79889 | Accuracy: 0.41333 | Recourse loss: 5.54286\n",
      "Epoch: 100 | Loss: 0.36390 | Test loss: 0.54992 | Accuracy: 0.75667 | Recourse loss: 1.30630\n",
      "Epoch: 200 | Loss: 0.35812 | Test loss: 0.56526 | Accuracy: 0.75667 | Recourse loss: 1.38530\n",
      "Epoch: 300 | Loss: 0.35261 | Test loss: 0.57984 | Accuracy: 0.75000 | Recourse loss: 1.47076\n",
      "Epoch: 400 | Loss: 0.34685 | Test loss: 0.59271 | Accuracy: 0.75000 | Recourse loss: 1.57557\n",
      "Epoch: 500 | Loss: 0.34086 | Test loss: 0.60643 | Accuracy: 0.75000 | Recourse loss: 1.65060\n",
      "Epoch: 600 | Loss: 0.33505 | Test loss: 0.62007 | Accuracy: 0.75667 | Recourse loss: 1.76568\n",
      "Epoch: 700 | Loss: 0.33025 | Test loss: 0.63142 | Accuracy: 0.75333 | Recourse loss: 1.74596\n",
      "Epoch: 800 | Loss: 0.32355 | Test loss: 0.64185 | Accuracy: 0.75333 | Recourse loss: 1.90517\n",
      "Epoch: 900 | Loss: 0.32551 | Test loss: 0.65359 | Accuracy: 0.75333 | Recourse loss: 1.58584\n"
     ]
    },
    {
     "name": "stderr",
     "output_type": "stream",
     "text": [
      "100%|██████████| 298/298 [03:15<00:00,  1.53it/s]\n"
     ]
    },
    {
     "name": "stdout",
     "output_type": "stream",
     "text": [
      "Mean L1 distance for negatively classified data using DiCE: 976.81\n",
      "Lambda = 0.020 | Mean Accuracy: 0.7507 | Mean Recourse Approximations: 1.7125\n",
      "\n",
      "Training for lambda = 0.030\n",
      "Initial Accuracy: 0.80\n",
      "Epoch: 0 | Loss: 0.36116 | Test loss: 1.74355 | Accuracy: 0.41333 | Recourse loss: 5.54354\n",
      "Epoch: 100 | Loss: 0.35195 | Test loss: 0.53981 | Accuracy: 0.76000 | Recourse loss: 1.36330\n",
      "Epoch: 200 | Loss: 0.34435 | Test loss: 0.55576 | Accuracy: 0.75000 | Recourse loss: 1.51745\n",
      "Epoch: 300 | Loss: 0.33736 | Test loss: 0.57315 | Accuracy: 0.74667 | Recourse loss: 1.63320\n",
      "Epoch: 400 | Loss: 0.33008 | Test loss: 0.59106 | Accuracy: 0.74667 | Recourse loss: 1.72330\n",
      "Epoch: 500 | Loss: 0.32301 | Test loss: 0.60723 | Accuracy: 0.74667 | Recourse loss: 1.86164\n",
      "Epoch: 600 | Loss: 0.31056 | Test loss: 0.61664 | Accuracy: 0.74667 | Recourse loss: 2.22705\n",
      "Epoch: 700 | Loss: 0.31837 | Test loss: 0.62650 | Accuracy: 0.75333 | Recourse loss: 1.72474\n",
      "Epoch: 800 | Loss: 0.30823 | Test loss: 0.64531 | Accuracy: 0.75333 | Recourse loss: 1.82073\n",
      "Epoch: 900 | Loss: 0.29151 | Test loss: 0.65809 | Accuracy: 0.74333 | Recourse loss: 2.33190\n"
     ]
    },
    {
     "name": "stderr",
     "output_type": "stream",
     "text": [
      "100%|██████████| 303/303 [04:01<00:00,  1.26it/s]\n"
     ]
    },
    {
     "name": "stdout",
     "output_type": "stream",
     "text": [
      "Mean L1 distance for negatively classified data using DiCE: 851.86\n",
      "Lambda = 0.030 | Mean Accuracy: 0.7452 | Mean Recourse Approximations: 1.8951\n",
      "\n",
      "Training for lambda = 0.040\n",
      "Initial Accuracy: 0.80\n",
      "Epoch: 0 | Loss: 0.35014 | Test loss: 1.68814 | Accuracy: 0.41333 | Recourse loss: 5.54387\n",
      "Epoch: 100 | Loss: 0.33957 | Test loss: 0.52845 | Accuracy: 0.75000 | Recourse loss: 1.47010\n",
      "Epoch: 200 | Loss: 0.33013 | Test loss: 0.54858 | Accuracy: 0.73667 | Recourse loss: 1.58646\n",
      "Epoch: 300 | Loss: 0.32169 | Test loss: 0.56739 | Accuracy: 0.74667 | Recourse loss: 1.74824\n",
      "Epoch: 400 | Loss: 0.31200 | Test loss: 0.58516 | Accuracy: 0.74667 | Recourse loss: 1.92819\n",
      "Epoch: 500 | Loss: 0.30291 | Test loss: 0.59989 | Accuracy: 0.75000 | Recourse loss: 2.07094\n",
      "Epoch: 600 | Loss: 0.29666 | Test loss: 0.61638 | Accuracy: 0.75000 | Recourse loss: 2.04382\n",
      "Epoch: 700 | Loss: 0.31170 | Test loss: 0.61765 | Accuracy: 0.75667 | Recourse loss: 1.61834\n",
      "Epoch: 800 | Loss: 0.28098 | Test loss: 0.63946 | Accuracy: 0.74000 | Recourse loss: 2.41598\n",
      "Epoch: 900 | Loss: 0.27363 | Test loss: 0.66344 | Accuracy: 0.74000 | Recourse loss: 2.57273\n"
     ]
    },
    {
     "name": "stderr",
     "output_type": "stream",
     "text": [
      "100%|██████████| 334/334 [04:44<00:00,  1.18it/s]\n"
     ]
    },
    {
     "name": "stdout",
     "output_type": "stream",
     "text": [
      "Mean L1 distance for negatively classified data using DiCE: 870.06\n",
      "Lambda = 0.040 | Mean Accuracy: 0.7408 | Mean Recourse Approximations: 2.0735\n",
      "\n",
      "Training for lambda = 0.050\n",
      "Initial Accuracy: 0.80\n",
      "Epoch: 0 | Loss: 0.33913 | Test loss: 1.63267 | Accuracy: 0.41333 | Recourse loss: 5.54443\n",
      "Epoch: 100 | Loss: 0.32672 | Test loss: 0.51941 | Accuracy: 0.74000 | Recourse loss: 1.48484\n",
      "Epoch: 200 | Loss: 0.31589 | Test loss: 0.53969 | Accuracy: 0.73667 | Recourse loss: 1.69433\n",
      "Epoch: 300 | Loss: 0.30568 | Test loss: 0.56150 | Accuracy: 0.74333 | Recourse loss: 1.85279\n",
      "Epoch: 400 | Loss: 0.29561 | Test loss: 0.57937 | Accuracy: 0.74667 | Recourse loss: 2.09324\n",
      "Epoch: 500 | Loss: 0.27954 | Test loss: 0.59363 | Accuracy: 0.74000 | Recourse loss: 2.33439\n",
      "Epoch: 600 | Loss: 0.24586 | Test loss: 0.58087 | Accuracy: 0.75000 | Recourse loss: 2.69581\n",
      "Epoch: 700 | Loss: 0.27139 | Test loss: 0.66152 | Accuracy: 0.70000 | Recourse loss: 3.29766\n",
      "Epoch: 800 | Loss: 0.26175 | Test loss: 0.66716 | Accuracy: 0.75000 | Recourse loss: 2.26992\n",
      "Epoch: 900 | Loss: 0.24113 | Test loss: 0.66568 | Accuracy: 0.72667 | Recourse loss: 2.84579\n"
     ]
    },
    {
     "name": "stderr",
     "output_type": "stream",
     "text": [
      "100%|██████████| 345/345 [04:43<00:00,  1.22it/s]\n"
     ]
    },
    {
     "name": "stdout",
     "output_type": "stream",
     "text": [
      "Mean L1 distance for negatively classified data using DiCE: 837.79\n",
      "Lambda = 0.050 | Mean Accuracy: 0.7356 | Mean Recourse Approximations: 2.3135\n",
      "\n",
      "Training for lambda = 0.060\n",
      "Initial Accuracy: 0.80\n",
      "Epoch: 0 | Loss: 0.32811 | Test loss: 1.57726 | Accuracy: 0.41333 | Recourse loss: 5.54479\n",
      "Epoch: 100 | Loss: 0.31198 | Test loss: 0.50951 | Accuracy: 0.73667 | Recourse loss: 1.52890\n",
      "Epoch: 200 | Loss: 0.29977 | Test loss: 0.53033 | Accuracy: 0.73667 | Recourse loss: 1.77562\n",
      "Epoch: 300 | Loss: 0.28614 | Test loss: 0.55314 | Accuracy: 0.74000 | Recourse loss: 2.00768\n",
      "Epoch: 400 | Loss: 0.27457 | Test loss: 0.57715 | Accuracy: 0.73333 | Recourse loss: 2.23201\n",
      "Epoch: 500 | Loss: 0.39761 | Test loss: 0.64586 | Accuracy: 0.69667 | Recourse loss: 2.41841\n",
      "Epoch: 600 | Loss: 0.25146 | Test loss: 0.60567 | Accuracy: 0.72667 | Recourse loss: 2.66488\n",
      "Epoch: 700 | Loss: 0.23901 | Test loss: 0.63404 | Accuracy: 0.72667 | Recourse loss: 2.88871\n",
      "Epoch: 800 | Loss: 0.63948 | Test loss: 0.71355 | Accuracy: 0.68000 | Recourse loss: 4.20648\n",
      "Epoch: 900 | Loss: 0.21927 | Test loss: 0.66349 | Accuracy: 0.72667 | Recourse loss: 3.17563\n"
     ]
    },
    {
     "name": "stderr",
     "output_type": "stream",
     "text": [
      "100%|██████████| 355/355 [04:09<00:00,  1.42it/s]\n"
     ]
    },
    {
     "name": "stdout",
     "output_type": "stream",
     "text": [
      "Mean L1 distance for negatively classified data using DiCE: 781.90\n",
      "Lambda = 0.060 | Mean Accuracy: 0.7315 | Mean Recourse Approximations: 2.4573\n",
      "\n",
      "Training for lambda = 0.070\n",
      "Initial Accuracy: 0.80\n",
      "Epoch: 0 | Loss: 0.31709 | Test loss: 1.52182 | Accuracy: 0.41333 | Recourse loss: 5.54486\n",
      "Epoch: 100 | Loss: 0.29592 | Test loss: 0.49494 | Accuracy: 0.74000 | Recourse loss: 1.65959\n",
      "Epoch: 200 | Loss: 0.28284 | Test loss: 0.51796 | Accuracy: 0.74667 | Recourse loss: 1.90830\n",
      "Epoch: 300 | Loss: 0.26578 | Test loss: 0.54462 | Accuracy: 0.74333 | Recourse loss: 2.16136\n",
      "Epoch: 400 | Loss: 0.25097 | Test loss: 0.57819 | Accuracy: 0.73333 | Recourse loss: 2.36842\n",
      "Epoch: 500 | Loss: 0.22427 | Test loss: 0.56597 | Accuracy: 0.72667 | Recourse loss: 2.90745\n",
      "Epoch: 600 | Loss: 0.22010 | Test loss: 0.61395 | Accuracy: 0.72667 | Recourse loss: 2.98612\n",
      "Epoch: 700 | Loss: 0.19773 | Test loss: 0.63693 | Accuracy: 0.73333 | Recourse loss: 3.13637\n",
      "Epoch: 800 | Loss: 0.18995 | Test loss: 0.66110 | Accuracy: 0.72000 | Recourse loss: 3.35129\n",
      "Epoch: 900 | Loss: 0.17423 | Test loss: 0.70722 | Accuracy: 0.71667 | Recourse loss: 3.72099\n"
     ]
    },
    {
     "name": "stderr",
     "output_type": "stream",
     "text": [
      "100%|██████████| 325/325 [05:35<00:00,  1.03s/it]\n"
     ]
    },
    {
     "name": "stdout",
     "output_type": "stream",
     "text": [
      "Mean L1 distance for negatively classified data using DiCE: 1077.31\n",
      "Lambda = 0.070 | Mean Accuracy: 0.7286 | Mean Recourse Approximations: 2.7784\n",
      "\n",
      "Training for lambda = 0.080\n",
      "Initial Accuracy: 0.80\n",
      "Epoch: 0 | Loss: 0.30608 | Test loss: 1.46639 | Accuracy: 0.41333 | Recourse loss: 5.54509\n",
      "Epoch: 100 | Loss: 0.28377 | Test loss: 0.48230 | Accuracy: 0.72667 | Recourse loss: 1.70209\n",
      "Epoch: 200 | Loss: 0.26429 | Test loss: 0.50337 | Accuracy: 0.74667 | Recourse loss: 2.06682\n",
      "Epoch: 300 | Loss: 0.24600 | Test loss: 0.53381 | Accuracy: 0.73667 | Recourse loss: 2.36324\n",
      "Epoch: 400 | Loss: 0.24156 | Test loss: 0.56991 | Accuracy: 0.73667 | Recourse loss: 2.56803\n",
      "Epoch: 500 | Loss: 0.21100 | Test loss: 0.59218 | Accuracy: 0.73333 | Recourse loss: 2.96799\n",
      "Epoch: 600 | Loss: 0.17089 | Test loss: 0.57397 | Accuracy: 0.73333 | Recourse loss: 3.38223\n",
      "Epoch: 700 | Loss: 0.16577 | Test loss: 0.64414 | Accuracy: 0.72333 | Recourse loss: 3.60560\n",
      "Epoch: 800 | Loss: 0.05904 | Test loss: 0.52993 | Accuracy: 0.74000 | Recourse loss: 5.24654\n",
      "Epoch: 900 | Loss: 0.18793 | Test loss: 0.71763 | Accuracy: 0.74000 | Recourse loss: 2.97049\n"
     ]
    },
    {
     "name": "stderr",
     "output_type": "stream",
     "text": [
      "100%|██████████| 354/354 [05:27<00:00,  1.08it/s]\n"
     ]
    },
    {
     "name": "stdout",
     "output_type": "stream",
     "text": [
      "Mean L1 distance for negatively classified data using DiCE: 784.60\n",
      "Lambda = 0.080 | Mean Accuracy: 0.7274 | Mean Recourse Approximations: 3.0657\n",
      "\n",
      "Training for lambda = 0.090\n",
      "Initial Accuracy: 0.80\n",
      "Epoch: 0 | Loss: 0.29506 | Test loss: 1.41094 | Accuracy: 0.41333 | Recourse loss: 5.54516\n",
      "Epoch: 100 | Loss: 0.27118 | Test loss: 0.46863 | Accuracy: 0.72333 | Recourse loss: 1.75941\n",
      "Epoch: 200 | Loss: 0.24929 | Test loss: 0.49320 | Accuracy: 0.74333 | Recourse loss: 2.12764\n",
      "Epoch: 300 | Loss: 0.22905 | Test loss: 0.52554 | Accuracy: 0.74333 | Recourse loss: 2.43689\n",
      "Epoch: 400 | Loss: 0.26531 | Test loss: 0.55139 | Accuracy: 0.73667 | Recourse loss: 2.66576\n",
      "Epoch: 500 | Loss: 0.18532 | Test loss: 0.58747 | Accuracy: 0.71333 | Recourse loss: 3.26006\n",
      "Epoch: 600 | Loss: 0.11267 | Test loss: 0.55779 | Accuracy: 0.70000 | Recourse loss: 4.55646\n",
      "Epoch: 700 | Loss: 0.14496 | Test loss: 0.64871 | Accuracy: 0.70667 | Recourse loss: 3.87514\n",
      "Epoch: 800 | Loss: 0.19775 | Test loss: 0.75078 | Accuracy: 0.65333 | Recourse loss: 5.43614\n",
      "Epoch: 900 | Loss: 0.13147 | Test loss: 0.71419 | Accuracy: 0.73333 | Recourse loss: 3.64395\n"
     ]
    },
    {
     "name": "stderr",
     "output_type": "stream",
     "text": [
      "100%|██████████| 349/349 [06:14<00:00,  1.07s/it]\n"
     ]
    },
    {
     "name": "stdout",
     "output_type": "stream",
     "text": [
      "Mean L1 distance for negatively classified data using DiCE: 894.78\n",
      "Lambda = 0.090 | Mean Accuracy: 0.7232 | Mean Recourse Approximations: 3.2454\n",
      "\n",
      "Training for lambda = 0.100\n",
      "Initial Accuracy: 0.80\n",
      "Epoch: 0 | Loss: 0.28404 | Test loss: 1.35548 | Accuracy: 0.41333 | Recourse loss: 5.54517\n",
      "Epoch: 100 | Loss: 0.24674 | Test loss: 0.45346 | Accuracy: 0.73333 | Recourse loss: 1.90443\n",
      "Epoch: 200 | Loss: 0.23420 | Test loss: 0.48138 | Accuracy: 0.74000 | Recourse loss: 2.15924\n",
      "Epoch: 300 | Loss: 0.20611 | Test loss: 0.51342 | Accuracy: 0.73667 | Recourse loss: 2.60186\n",
      "Epoch: 400 | Loss: 0.18842 | Test loss: 0.55920 | Accuracy: 0.73667 | Recourse loss: 2.61629\n",
      "Epoch: 500 | Loss: 0.16313 | Test loss: 0.56570 | Accuracy: 0.73000 | Recourse loss: 3.12665\n",
      "Epoch: 600 | Loss: 0.13710 | Test loss: 0.60566 | Accuracy: 0.71667 | Recourse loss: 3.66882\n",
      "Epoch: 700 | Loss: 0.14064 | Test loss: 0.52854 | Accuracy: 0.73000 | Recourse loss: 4.41167\n",
      "Epoch: 800 | Loss: 0.07995 | Test loss: 0.68391 | Accuracy: 0.69333 | Recourse loss: 4.64389\n",
      "Epoch: 900 | Loss: 0.17470 | Test loss: 1.07387 | Accuracy: 0.59667 | Recourse loss: 7.77526\n"
     ]
    },
    {
     "name": "stderr",
     "output_type": "stream",
     "text": [
      "100%|██████████| 404/404 [06:41<00:00,  1.01it/s]\n"
     ]
    },
    {
     "name": "stdout",
     "output_type": "stream",
     "text": [
      "Mean L1 distance for negatively classified data using DiCE: 749.73\n",
      "Lambda = 0.100 | Mean Accuracy: 0.7176 | Mean Recourse Approximations: 3.5052\n",
      "\n",
      "Training for lambda = 0.110\n",
      "Initial Accuracy: 0.80\n",
      "Epoch: 0 | Loss: 0.27303 | Test loss: 1.30005 | Accuracy: 0.41333 | Recourse loss: 5.54526\n",
      "Epoch: 100 | Loss: 0.22257 | Test loss: 0.41731 | Accuracy: 0.72667 | Recourse loss: 2.25858\n",
      "Epoch: 200 | Loss: 0.21536 | Test loss: 0.46980 | Accuracy: 0.72667 | Recourse loss: 2.24814\n",
      "Epoch: 300 | Loss: 0.18696 | Test loss: 0.50367 | Accuracy: 0.72000 | Recourse loss: 2.62111\n",
      "Epoch: 400 | Loss: 0.16915 | Test loss: 0.57123 | Accuracy: 0.66333 | Recourse loss: 3.91834\n",
      "Epoch: 500 | Loss: 0.12827 | Test loss: 0.56426 | Accuracy: 0.72000 | Recourse loss: 3.50442\n",
      "Epoch: 600 | Loss: 0.09804 | Test loss: 0.61121 | Accuracy: 0.70333 | Recourse loss: 4.07737\n",
      "Epoch: 700 | Loss: 0.06208 | Test loss: 0.61815 | Accuracy: 0.71000 | Recourse loss: 4.52969\n",
      "Epoch: 800 | Loss: 0.03404 | Test loss: 0.69861 | Accuracy: 0.69000 | Recourse loss: 5.02990\n",
      "Epoch: 900 | Loss: 0.17370 | Test loss: 0.71321 | Accuracy: 0.69333 | Recourse loss: 5.43000\n"
     ]
    },
    {
     "name": "stderr",
     "output_type": "stream",
     "text": [
      "  2%|▏         | 7/344 [00:02<02:20,  2.40it/s]\n"
     ]
    },
    {
     "ename": "KeyboardInterrupt",
     "evalue": "",
     "output_type": "error",
     "traceback": [
      "\u001B[31m---------------------------------------------------------------------------\u001B[39m",
      "\u001B[31mKeyboardInterrupt\u001B[39m                         Traceback (most recent call last)",
      "\u001B[32m~\\AppData\\Local\\Temp\\ipykernel_18016\\2078747937.py\u001B[39m in \u001B[36m?\u001B[39m\u001B[34m()\u001B[39m\n\u001B[32m     77\u001B[39m     X_positive, X_negative, pos_indices, neg_indices = split_by_classification(loaded_model,X)\n\u001B[32m     78\u001B[39m \n\u001B[32m     79\u001B[39m     query_df = pd.DataFrame(X_negative.cpu().numpy(), columns=feature_names)\n\u001B[32m     80\u001B[39m \n\u001B[32m---> \u001B[39m\u001B[32m81\u001B[39m     dice_exp = exp.generate_counterfactuals(\n\u001B[32m     82\u001B[39m         query_df,\n\u001B[32m     83\u001B[39m         total_CFs=\u001B[32m1\u001B[39m,\n\u001B[32m     84\u001B[39m         desired_class=\u001B[33m\"opposite\"\u001B[39m,\n",
      "\u001B[32m~\\PycharmProjects\\Project\\.venv\\Lib\\site-packages\\dice_ml\\explainer_interfaces\\explainer_base.py\u001B[39m in \u001B[36m?\u001B[39m\u001B[34m(self, query_instances, total_CFs, desired_class, desired_range, permitted_range, features_to_vary, stopping_threshold, posthoc_sparsity_param, proximity_weight, sparsity_weight, diversity_weight, categorical_penalty, posthoc_sparsity_algorithm, verbose, **kwargs)\u001B[39m\n\u001B[32m    182\u001B[39m         \u001B[38;5;28;01melif\u001B[39;00m isinstance(query_instances, Iterable):\n\u001B[32m    183\u001B[39m             query_instances_list = query_instances\n\u001B[32m    184\u001B[39m         \u001B[38;5;28;01mfor\u001B[39;00m query_instance \u001B[38;5;28;01min\u001B[39;00m tqdm(query_instances_list):\n\u001B[32m    185\u001B[39m             self.data_interface.set_continuous_feature_indexes(query_instance)\n\u001B[32m--> \u001B[39m\u001B[32m186\u001B[39m             res = self._generate_counterfactuals(\n\u001B[32m    187\u001B[39m                 query_instance, total_CFs,\n\u001B[32m    188\u001B[39m                 desired_class=desired_class,\n\u001B[32m    189\u001B[39m                 desired_range=desired_range,\n",
      "\u001B[32m~\\PycharmProjects\\Project\\.venv\\Lib\\site-packages\\dice_ml\\explainer_interfaces\\dice_genetic.py\u001B[39m in \u001B[36m?\u001B[39m\u001B[34m(self, query_instance, total_CFs, initialization, desired_range, desired_class, proximity_weight, sparsity_weight, diversity_weight, categorical_penalty, algorithm, features_to_vary, permitted_range, yloss_type, diversity_loss_type, feature_weights, stopping_threshold, posthoc_sparsity_param, posthoc_sparsity_algorithm, maxiterations, thresh, verbose)\u001B[39m\n\u001B[32m    283\u001B[39m         \u001B[38;5;28;01mfor\u001B[39;00m col \u001B[38;5;28;01min\u001B[39;00m self.data_interface.get_all_dummy_colnames():\n\u001B[32m    284\u001B[39m             \u001B[38;5;28;01mif\u001B[39;00m col \u001B[38;5;28;01mnot\u001B[39;00m \u001B[38;5;28;01min\u001B[39;00m query_instance_df_dummies.columns:\n\u001B[32m    285\u001B[39m                 query_instance_df_dummies[col] = \u001B[32m0\u001B[39m\n\u001B[32m    286\u001B[39m \n\u001B[32m--> \u001B[39m\u001B[32m287\u001B[39m         self.do_param_initializations(total_CFs, initialization, desired_range, desired_class, query_instance,\n\u001B[32m    288\u001B[39m                                       query_instance_df_dummies, algorithm, features_to_vary, permitted_range,\n\u001B[32m    289\u001B[39m                                       yloss_type, diversity_loss_type, feature_weights, proximity_weight,\n\u001B[32m    290\u001B[39m                                       sparsity_weight, diversity_weight, categorical_penalty, verbose)\n",
      "\u001B[32m~\\PycharmProjects\\Project\\.venv\\Lib\\site-packages\\dice_ml\\explainer_interfaces\\dice_genetic.py\u001B[39m in \u001B[36m?\u001B[39m\u001B[34m(self, total_CFs, initialization, desired_range, desired_class, query_instance, query_instance_df_dummies, algorithm, features_to_vary, permitted_range, yloss_type, diversity_loss_type, feature_weights, proximity_weight, sparsity_weight, diversity_weight, categorical_penalty, verbose)\u001B[39m\n\u001B[32m    190\u001B[39m             print(\u001B[33m\"Initializing initial parameters to the genetic algorithm...\"\u001B[39m)\n\u001B[32m    191\u001B[39m \n\u001B[32m    192\u001B[39m         self.feature_range = self.get_valid_feature_range(normalized=\u001B[38;5;28;01mFalse\u001B[39;00m)\n\u001B[32m    193\u001B[39m         \u001B[38;5;28;01mif\u001B[39;00m len(self.cfs) != total_CFs:\n\u001B[32m--> \u001B[39m\u001B[32m194\u001B[39m             self.do_cf_initializations(\n\u001B[32m    195\u001B[39m                 total_CFs, initialization, algorithm, features_to_vary, desired_range, desired_class,\n\u001B[32m    196\u001B[39m                 query_instance, query_instance_df_dummies, verbose)\n\u001B[32m    197\u001B[39m         \u001B[38;5;28;01melse\u001B[39;00m:\n",
      "\u001B[32m~\\PycharmProjects\\Project\\.venv\\Lib\\site-packages\\dice_ml\\explainer_interfaces\\dice_genetic.py\u001B[39m in \u001B[36m?\u001B[39m\u001B[34m(self, total_CFs, initialization, algorithm, features_to_vary, desired_range, desired_class, query_instance, query_instance_df_dummies, verbose)\u001B[39m\n\u001B[32m    166\u001B[39m \n\u001B[32m    167\u001B[39m         \u001B[38;5;28;01melif\u001B[39;00m initialization == \u001B[33m'kdtree'\u001B[39m:\n\u001B[32m    168\u001B[39m             \u001B[38;5;66;03m# Partitioned dataset and KD Tree for each class (binary) of the dataset\u001B[39;00m\n\u001B[32m    169\u001B[39m             self.dataset_with_predictions, self.KD_tree, self.predictions = \\\n\u001B[32m--> \u001B[39m\u001B[32m170\u001B[39m                 self.build_KD_tree(self.data_interface.data_df.copy(),\n\u001B[32m    171\u001B[39m                                    desired_range, desired_class, self.predicted_outcome_name)\n\u001B[32m    172\u001B[39m             \u001B[38;5;28;01mif\u001B[39;00m self.KD_tree \u001B[38;5;28;01mis\u001B[39;00m \u001B[38;5;28;01mNone\u001B[39;00m:\n\u001B[32m    173\u001B[39m                 self.cfs = self.do_random_init(\n",
      "\u001B[32m~\\PycharmProjects\\Project\\.venv\\Lib\\site-packages\\dice_ml\\explainer_interfaces\\explainer_base.py\u001B[39m in \u001B[36m?\u001B[39m\u001B[34m(self, data_df_copy, desired_range, desired_class, predicted_outcome_name)\u001B[39m\n\u001B[32m    856\u001B[39m \n\u001B[32m    857\u001B[39m         KD_tree = \u001B[38;5;28;01mNone\u001B[39;00m\n\u001B[32m    858\u001B[39m         \u001B[38;5;66;03m# Prepares the KD trees for DiCE\u001B[39;00m\n\u001B[32m    859\u001B[39m         \u001B[38;5;28;01mif\u001B[39;00m len(dataset_with_predictions) > \u001B[32m0\u001B[39m:\n\u001B[32m--> \u001B[39m\u001B[32m860\u001B[39m             dummies = pd.get_dummies(dataset_with_predictions[self.data_interface.feature_names])\n\u001B[32m    861\u001B[39m             KD_tree = KDTree(dummies)\n\u001B[32m    862\u001B[39m \n\u001B[32m    863\u001B[39m         \u001B[38;5;28;01mreturn\u001B[39;00m dataset_with_predictions, KD_tree, predictions\n",
      "\u001B[32m~\\PycharmProjects\\Project\\.venv\\Lib\\site-packages\\pandas\\core\\reshape\\encoding.py\u001B[39m in \u001B[36m?\u001B[39m\u001B[34m(data, prefix, prefix_sep, dummy_na, columns, sparse, drop_first, dtype)\u001B[39m\n\u001B[32m    210\u001B[39m             with_dummies = [data.select_dtypes(exclude=dtypes_to_encode)]\n\u001B[32m    211\u001B[39m \n\u001B[32m    212\u001B[39m         \u001B[38;5;28;01mfor\u001B[39;00m col, pre, sep \u001B[38;5;28;01min\u001B[39;00m zip(data_to_encode.items(), prefix, prefix_sep):\n\u001B[32m    213\u001B[39m             \u001B[38;5;66;03m# col is (column_name, column), use just column data here\u001B[39;00m\n\u001B[32m--> \u001B[39m\u001B[32m214\u001B[39m             dummy = _get_dummies_1d(\n\u001B[32m    215\u001B[39m                 col[\u001B[32m1\u001B[39m],\n\u001B[32m    216\u001B[39m                 prefix=pre,\n\u001B[32m    217\u001B[39m                 prefix_sep=sep,\n",
      "\u001B[32m~\\PycharmProjects\\Project\\.venv\\Lib\\site-packages\\pandas\\core\\reshape\\encoding.py\u001B[39m in \u001B[36m?\u001B[39m\u001B[34m(data, prefix, prefix_sep, dummy_na, sparse, drop_first, dtype)\u001B[39m\n\u001B[32m    360\u001B[39m         \u001B[38;5;28;01mif\u001B[39;00m drop_first:\n\u001B[32m    361\u001B[39m             \u001B[38;5;66;03m# remove first GH12042\u001B[39;00m\n\u001B[32m    362\u001B[39m             dummy_mat = dummy_mat[:, \u001B[32m1\u001B[39m:]\n\u001B[32m    363\u001B[39m             dummy_cols = dummy_cols[\u001B[32m1\u001B[39m:]\n\u001B[32m--> \u001B[39m\u001B[32m364\u001B[39m         \u001B[38;5;28;01mreturn\u001B[39;00m DataFrame(dummy_mat, index=index, columns=dummy_cols, dtype=_dtype)\n",
      "\u001B[32m~\\PycharmProjects\\Project\\.venv\\Lib\\site-packages\\pandas\\core\\frame.py\u001B[39m in \u001B[36m?\u001B[39m\u001B[34m(self, data, index, columns, dtype, copy)\u001B[39m\n\u001B[32m--> \u001B[39m\u001B[32m694\u001B[39m     def __init__(\n\u001B[32m    695\u001B[39m         self,\n\u001B[32m    696\u001B[39m         data=\u001B[38;5;28;01mNone\u001B[39;00m,\n\u001B[32m    697\u001B[39m         index: Axes | \u001B[38;5;28;01mNone\u001B[39;00m = \u001B[38;5;28;01mNone\u001B[39;00m,\n",
      "\u001B[31mKeyboardInterrupt\u001B[39m: "
     ]
    }
   ],
   "execution_count": 42
  },
  {
   "metadata": {
    "ExecuteTime": {
     "end_time": "2025-06-12T01:23:45.794156Z",
     "start_time": "2025-06-12T01:23:45.444304Z"
    }
   },
   "cell_type": "code",
   "source": [
    "plt.figure(figsize=(10, 5))\n",
    "lambdas = np.linspace(0.01, 0.11, 11)\n",
    "# Accuracy plot\n",
    "plt.subplot(1, 2, 1)\n",
    "plt.plot(lambdas, mean_accuracies, marker='o', color='blue')\n",
    "plt.title(\"Mean Accuracy vs Lambda\")\n",
    "plt.xlabel(\"Lambda\")\n",
    "plt.ylabel(\"Mean Accuracy\")\n",
    "plt.grid(True)\n",
    "\n",
    "# Recourse loss plot\n",
    "plt.subplot(1, 2, 2)\n",
    "plt.plot(lambdas, mean_recourse_approximations, marker='o', color='green')\n",
    "plt.title(\"Mean Recourse Approximation vs Lambda\")\n",
    "plt.xlabel(\"Lambda\")\n",
    "plt.ylabel(\"Mean Recourse (test_loss_2)\")\n",
    "plt.grid(True)\n",
    "\n",
    "plt.tight_layout()\n",
    "plt.show()\n"
   ],
   "id": "b03241712c175311",
   "outputs": [
    {
     "data": {
      "text/plain": [
       "<Figure size 1000x500 with 2 Axes>"
      ],
      "image/png": "[encoded data removed]"
     },
     "metadata": {},
     "output_type": "display_data"
    }
   ],
   "execution_count": 47
  },
  {
   "metadata": {
    "ExecuteTime": {
     "end_time": "2025-06-12T01:22:10.632942Z",
     "start_time": "2025-06-12T01:22:10.541453Z"
    }
   },
   "cell_type": "code",
   "source": [
    "## Plotting of the mean of Recourse genereated by dice After the Training with different Lambdas\n",
    "plt.figure(figsize=(5, 5))\n",
    "\n",
    "plt.plot(lambdas, mean_accuracies, marker='o', color='red')\n",
    "plt.title(\"Mean Recourse calculated by DiCE vs Lambda\")\n",
    "plt.xlabel(\"Lambda\")\n",
    "plt.ylabel(\"Mean Recourse \")\n",
    "plt.grid(True)"
   ],
   "id": "bf6fd570c521b9a3",
   "outputs": [
    {
     "data": {
      "text/plain": [
       "<Figure size 500x500 with 1 Axes>"
      ],
      "image/png": "[encoded data removed]"
     },
     "metadata": {},
     "output_type": "display_data"
    }
   ],
   "execution_count": 46
  },
  {
   "metadata": {},
   "cell_type": "markdown",
   "source": "i think for lambda = 0.1 the results are ideal . for this lambda the mean recourse loss is 4.0515. here the recouse has doubled around 2.7 times which is a high improvement. But the accuracy took a hard hit sitting around which is not ideal Mean Accuracy: 0.7007",
   "id": "fd42a7e86c800465"
  },
  {
   "metadata": {},
   "cell_type": "markdown",
   "source": [
    "Why cant we use the actual recourse in the training .\n",
    "Because the recourse given by dice is not differentiable."
   ],
   "id": "1012c35d937f4d1f"
  },
  {
   "metadata": {},
   "cell_type": "code",
   "outputs": [],
   "execution_count": null,
   "source": [
    "loaded_model = NeuralNetwork(X.shape[1], 200, 2)\n",
    "loaded_model.load_state_dict(torch.load(f=MODEL_SAVE_PATH))"
   ],
   "id": "b88b63395f710d47"
  }
 ],
 "metadata": {
  "kernelspec": {
   "display_name": "Python 3",
   "language": "python",
   "name": "python3"
  },
  "language_info": {
   "codemirror_mode": {
    "name": "ipython",
    "version": 2
   },
   "file_extension": ".py",
   "mimetype": "text/x-python",
   "name": "python",
   "nbconvert_exporter": "python",
   "pygments_lexer": "ipython2",
   "version": "2.7.6"
  }
 },
 "nbformat": 4,
 "nbformat_minor": 5
}
