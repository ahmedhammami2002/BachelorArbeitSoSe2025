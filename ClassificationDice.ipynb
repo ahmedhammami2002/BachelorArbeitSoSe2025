{
 "cells": [
  {
   "metadata": {
    "ExecuteTime": {
     "end_time": "2025-05-29T00:48:19.632914Z",
     "start_time": "2025-05-29T00:48:16.542888Z"
    }
   },
   "cell_type": "code",
   "source": [
    "import torch\n",
    "from torch import nn\n",
    "from sklearn.model_selection import train_test_split\n",
    "from prepare_datasets import *\n",
    "\n",
    "X, y , feature_names , categorical_features, continuous_features, actionable_features= get_and_prepare_german_dataset()\n",
    "\n",
    "X = torch.from_numpy(X).type(torch.float)\n",
    "y = torch.from_numpy(y).type(torch.float)\n",
    "X_train, X_test, y_train, y_test = train_test_split(X,\n",
    "                                                    y,\n",
    "                                                    test_size=0.2,\n",
    "                                                    random_state=42)"
   ],
   "id": "379530975f5df8f3",
   "outputs": [],
   "execution_count": 1
  },
  {
   "metadata": {
    "ExecuteTime": {
     "end_time": "2025-05-29T00:48:19.658980Z",
     "start_time": "2025-05-29T00:48:19.651659Z"
    }
   },
   "cell_type": "code",
   "source": [
    "# Make device agnostic code\n",
    "device = \"cuda\" if torch.cuda.is_available() else \"cpu\"\n",
    "device"
   ],
   "id": "f7047c1cae80ac43",
   "outputs": [
    {
     "data": {
      "text/plain": [
       "'cpu'"
      ]
     },
     "execution_count": 2,
     "metadata": {},
     "output_type": "execute_result"
    }
   ],
   "execution_count": 2
  },
  {
   "metadata": {
    "ExecuteTime": {
     "end_time": "2025-05-29T00:48:20.247160Z",
     "start_time": "2025-05-29T00:48:20.242145Z"
    }
   },
   "cell_type": "code",
   "source": [
    "# Taken from https://github.com/dylan-slack/manipulating-cfes/blob/main/train_models.py\n",
    "# wanted to use this the same model as in the paper\n",
    "class NeuralNetwork(nn.Module):\n",
    "    def __init__(self, input_size, hidden_size, num_classes):\n",
    "        super(NeuralNetwork, self).__init__()\n",
    "        self.fc1 = nn.Linear(input_size, hidden_size)\n",
    "        self.tanh1 = nn.Tanh()\n",
    "        self.fc2 = nn.Linear(hidden_size, hidden_size)\n",
    "        self.tanh2 = nn.Tanh()\n",
    "        self.fc3 = nn.Linear(hidden_size, hidden_size)\n",
    "        self.tanh3 = nn.Tanh()\n",
    "        self.fc4 = nn.Linear(hidden_size, num_classes)\n",
    "\n",
    "    def forward(self, x, return_logit=False):\n",
    "        out = self.fc1(x)\n",
    "        out = self.tanh1(out)\n",
    "        out = self.fc2(out)\n",
    "        out = self.tanh2(out)\n",
    "        out = self.fc3(out)\n",
    "        out = self.tanh3(out)\n",
    "        out = self.fc4(out)\n",
    "        return out\n"
   ],
   "id": "34556ab12f2a353b",
   "outputs": [],
   "execution_count": 3
  },
  {
   "metadata": {
    "ExecuteTime": {
     "end_time": "2025-05-29T00:48:20.383229Z",
     "start_time": "2025-05-29T00:48:20.378314Z"
    }
   },
   "cell_type": "code",
   "source": "model = NeuralNetwork(X.shape[1], 200, 1)",
   "id": "b3cc219d050658c1",
   "outputs": [],
   "execution_count": 4
  },
  {
   "metadata": {
    "ExecuteTime": {
     "end_time": "2025-05-29T00:48:21.918451Z",
     "start_time": "2025-05-29T00:48:20.445361Z"
    }
   },
   "cell_type": "code",
   "source": [
    "loss_fn = nn.BCEWithLogitsLoss()\n",
    "optimizer = torch.optim.Adam(model.parameters(), lr=0.0001)"
   ],
   "id": "d030b5295d2562ef",
   "outputs": [],
   "execution_count": 5
  },
  {
   "metadata": {
    "ExecuteTime": {
     "end_time": "2025-05-29T00:48:32.252015Z",
     "start_time": "2025-05-29T00:48:21.946089Z"
    }
   },
   "cell_type": "code",
   "source": [
    "from sklearn.metrics import f1_score\n",
    "\n",
    "epochs = 1000\n",
    "X_train, y_train = X_train.to(device), y_train.to(device)\n",
    "X_test, y_test = X_test.to(device), y_test.to(device)\n",
    "model.to(device)\n",
    "\n",
    "for epoch in range(epochs):\n",
    "    model.train()\n",
    "    y_logits = model(X_train).squeeze()\n",
    "    y_pred = torch.round(torch.sigmoid(y_logits))\n",
    "    loss = loss_fn(y_logits, y_train)\n",
    "\n",
    "    f1_score_training = f1_score(\n",
    "        y_true=y_train.cpu().detach().numpy(),\n",
    "        y_pred=y_pred.cpu().detach().numpy()\n",
    "    )\n",
    "\n",
    "    optimizer.zero_grad()\n",
    "    loss.backward()\n",
    "    optimizer.step()\n",
    "\n",
    "    ### Testing\n",
    "    model.eval()\n",
    "    with torch.inference_mode():\n",
    "        test_logits = model(X_test).squeeze()\n",
    "        test_pred = torch.round(torch.sigmoid(test_logits))\n",
    "        test_loss = loss_fn(test_logits, y_test)\n",
    "\n",
    "        f1_score_test = f1_score(\n",
    "            y_true=y_test.cpu().detach().numpy(),\n",
    "            y_pred=test_pred.cpu().detach().numpy()\n",
    "        )\n",
    "\n",
    "    if epoch % 100 == 0:\n",
    "        print(f\"Epoch: {epoch} | Loss: {loss:.5f}, F1-Training: {f1_score_training:.2f}% | Test loss: {test_loss:.5f}, F1-Testing: {f1_score_test:.2f}%\")"
   ],
   "id": "3b108a74626cd666",
   "outputs": [
    {
     "name": "stdout",
     "output_type": "stream",
     "text": [
      "Epoch: 0 | Loss: 0.69896, F1-Training: 0.03% | Test loss: 0.67704, F1-Testing: 0.83%\n",
      "Epoch: 100 | Loss: 0.59433, F1-Training: 0.82% | Test loss: 0.60478, F1-Testing: 0.83%\n",
      "Epoch: 200 | Loss: 0.57253, F1-Training: 0.83% | Test loss: 0.60203, F1-Testing: 0.84%\n",
      "Epoch: 300 | Loss: 0.55851, F1-Training: 0.82% | Test loss: 0.59466, F1-Testing: 0.83%\n",
      "Epoch: 400 | Loss: 0.54787, F1-Training: 0.82% | Test loss: 0.59394, F1-Testing: 0.83%\n",
      "Epoch: 500 | Loss: 0.53770, F1-Training: 0.83% | Test loss: 0.59148, F1-Testing: 0.82%\n",
      "Epoch: 600 | Loss: 0.52748, F1-Training: 0.83% | Test loss: 0.58763, F1-Testing: 0.83%\n",
      "Epoch: 700 | Loss: 0.51451, F1-Training: 0.84% | Test loss: 0.58835, F1-Testing: 0.83%\n",
      "Epoch: 800 | Loss: 0.50463, F1-Training: 0.84% | Test loss: 0.58872, F1-Testing: 0.83%\n",
      "Epoch: 900 | Loss: 0.49531, F1-Training: 0.85% | Test loss: 0.59118, F1-Testing: 0.82%\n"
     ]
    }
   ],
   "execution_count": 6
  },
  {
   "metadata": {
    "ExecuteTime": {
     "end_time": "2025-05-29T00:48:32.554768Z",
     "start_time": "2025-05-29T00:48:32.303903Z"
    }
   },
   "cell_type": "code",
   "source": [
    "import dice_ml\n",
    "\n",
    "df = pd.DataFrame(X, columns=feature_names)\n",
    "df['target'] = y\n",
    "\n",
    "dice_data = dice_ml.Data(\n",
    "    dataframe=df,\n",
    "    continuous_features=continuous_features,\n",
    "    categorical_features=categorical_features,\n",
    "    outcome_name='target'\n",
    ")"
   ],
   "id": "460dfa91c29d503e",
   "outputs": [],
   "execution_count": 7
  },
  {
   "metadata": {
    "ExecuteTime": {
     "end_time": "2025-05-29T00:48:32.688340Z",
     "start_time": "2025-05-29T00:48:32.604466Z"
    }
   },
   "cell_type": "code",
   "source": [
    "class PyTorchModelWrapper:\n",
    "    def __init__(self, model):\n",
    "        self.model = model\n",
    "\n",
    "    def predict_proba(self, x):\n",
    "        self.model.eval()\n",
    "        with torch.no_grad():\n",
    "            x = x.values\n",
    "            x = x.astype(np.float64)\n",
    "            x_tensor = torch.FloatTensor(x)\n",
    "            outputs = self.model(x_tensor)\n",
    "            probabilities = torch.sigmoid(outputs).squeeze()\n",
    "\n",
    "            if probabilities.ndim == 0:\n",
    "\n",
    "                probabilities = probabilities.unsqueeze(0)\n",
    "\n",
    "            prob_numpy = probabilities.cpu().numpy()\n",
    "            return np.column_stack((1 - prob_numpy, prob_numpy))\n",
    "\n",
    "\n",
    "dice_model = dice_ml.Model(\n",
    "    model=PyTorchModelWrapper(model),\n",
    "    backend=\"sklearn\",\n",
    "    model_type='classifier'\n",
    ")\n",
    "\n",
    "exp = dice_ml.Dice(\n",
    "    dice_data,\n",
    "    dice_model,\n",
    "    method=\"genetic\"\n",
    ")\n"
   ],
   "id": "de9c2974fcf24781",
   "outputs": [],
   "execution_count": 8
  },
  {
   "metadata": {
    "ExecuteTime": {
     "end_time": "2025-05-29T00:48:33.125272Z",
     "start_time": "2025-05-29T00:48:32.737275Z"
    }
   },
   "cell_type": "code",
   "source": [
    "\n",
    "query_instance = X[11:12]\n",
    "query_df = pd.DataFrame(query_instance, columns=feature_names)\n",
    "\n",
    "\n",
    "#  generate counterfactuals\n",
    "dice_exp = exp.generate_counterfactuals(\n",
    "    query_df,\n",
    "    total_CFs=1,\n",
    "    desired_class=\"opposite\",\n",
    "    features_to_vary = actionable_features\n",
    ")\n",
    "\n",
    "print(\"\\nCounterfactuals:\")\n",
    "dice_exp.visualize_as_dataframe(show_only_changes=True)\n"
   ],
   "id": "1f7249462f3e5d28",
   "outputs": [
    {
     "name": "stderr",
     "output_type": "stream",
     "text": [
      "100%|██████████| 1/1 [00:00<00:00,  2.87it/s]"
     ]
    },
    {
     "name": "stdout",
     "output_type": "stream",
     "text": [
      "\n",
      "Counterfactuals:\n",
      "Query instance (original outcome : 0)\n"
     ]
    },
    {
     "name": "stderr",
     "output_type": "stream",
     "text": [
      "\n"
     ]
    },
    {
     "data": {
      "text/plain": [
       "   Gender  ForeignWorker  Single   Age  LoanDuration  LoanAmount  \\\n",
       "0     1.0            0.0     0.0  24.0          48.0      4308.0   \n",
       "\n",
       "   LoanRateAsPercentOfIncome  YearsAtCurrentHome  NumberOfOtherLoansAtBank  \\\n",
       "0                        3.0                 4.0                       1.0   \n",
       "\n",
       "   NumberOfLiableIndividuals  ...  OtherLoansAtBank  HasCoapplicant  \\\n",
       "0                        1.0  ...               0.0             0.0   \n",
       "\n",
       "   HasGuarantor  OwnsHouse  RentsHouse  Unemployed  YearsAtCurrentJob_lt_1  \\\n",
       "0           0.0        0.0         1.0         0.0                     1.0   \n",
       "\n",
       "   YearsAtCurrentJob_geq_4  JobClassIsSkilled  target  \n",
       "0                      0.0                1.0       0  \n",
       "\n",
       "[1 rows x 28 columns]"
      ],
      "text/html": [
       "<div>\n",
       "<style scoped>\n",
       "    .dataframe tbody tr th:only-of-type {\n",
       "        vertical-align: middle;\n",
       "    }\n",
       "\n",
       "    .dataframe tbody tr th {\n",
       "        vertical-align: top;\n",
       "    }\n",
       "\n",
       "    .dataframe thead th {\n",
       "        text-align: right;\n",
       "    }\n",
       "</style>\n",
       "<table border=\"1\" class=\"dataframe\">\n",
       "  <thead>\n",
       "    <tr style=\"text-align: right;\">\n",
       "      <th></th>\n",
       "      <th>Gender</th>\n",
       "      <th>ForeignWorker</th>\n",
       "      <th>Single</th>\n",
       "      <th>Age</th>\n",
       "      <th>LoanDuration</th>\n",
       "      <th>LoanAmount</th>\n",
       "      <th>LoanRateAsPercentOfIncome</th>\n",
       "      <th>YearsAtCurrentHome</th>\n",
       "      <th>NumberOfOtherLoansAtBank</th>\n",
       "      <th>NumberOfLiableIndividuals</th>\n",
       "      <th>...</th>\n",
       "      <th>OtherLoansAtBank</th>\n",
       "      <th>HasCoapplicant</th>\n",
       "      <th>HasGuarantor</th>\n",
       "      <th>OwnsHouse</th>\n",
       "      <th>RentsHouse</th>\n",
       "      <th>Unemployed</th>\n",
       "      <th>YearsAtCurrentJob_lt_1</th>\n",
       "      <th>YearsAtCurrentJob_geq_4</th>\n",
       "      <th>JobClassIsSkilled</th>\n",
       "      <th>target</th>\n",
       "    </tr>\n",
       "  </thead>\n",
       "  <tbody>\n",
       "    <tr>\n",
       "      <th>0</th>\n",
       "      <td>1.0</td>\n",
       "      <td>0.0</td>\n",
       "      <td>0.0</td>\n",
       "      <td>24.0</td>\n",
       "      <td>48.0</td>\n",
       "      <td>4308.0</td>\n",
       "      <td>3.0</td>\n",
       "      <td>4.0</td>\n",
       "      <td>1.0</td>\n",
       "      <td>1.0</td>\n",
       "      <td>...</td>\n",
       "      <td>0.0</td>\n",
       "      <td>0.0</td>\n",
       "      <td>0.0</td>\n",
       "      <td>0.0</td>\n",
       "      <td>1.0</td>\n",
       "      <td>0.0</td>\n",
       "      <td>1.0</td>\n",
       "      <td>0.0</td>\n",
       "      <td>1.0</td>\n",
       "      <td>0</td>\n",
       "    </tr>\n",
       "  </tbody>\n",
       "</table>\n",
       "<p>1 rows × 28 columns</p>\n",
       "</div>"
      ]
     },
     "metadata": {},
     "output_type": "display_data"
    },
    {
     "name": "stdout",
     "output_type": "stream",
     "text": [
      "\n",
      "Diverse Counterfactual set (new outcome: 1.0)\n"
     ]
    },
    {
     "data": {
      "text/plain": [
       "  Gender ForeignWorker Single Age LoanDuration LoanAmount  \\\n",
       "0      -             -      -   -         18.0          -   \n",
       "\n",
       "  LoanRateAsPercentOfIncome YearsAtCurrentHome NumberOfOtherLoansAtBank  \\\n",
       "0                         -                  -                        -   \n",
       "\n",
       "  NumberOfLiableIndividuals  ... OtherLoansAtBank HasCoapplicant HasGuarantor  \\\n",
       "0                         -  ...                -              -            -   \n",
       "\n",
       "  OwnsHouse RentsHouse Unemployed YearsAtCurrentJob_lt_1  \\\n",
       "0       1.0        0.0          -                    0.0   \n",
       "\n",
       "  YearsAtCurrentJob_geq_4 JobClassIsSkilled target  \n",
       "0                       -                 -    1.0  \n",
       "\n",
       "[1 rows x 28 columns]"
      ],
      "text/html": [
       "<div>\n",
       "<style scoped>\n",
       "    .dataframe tbody tr th:only-of-type {\n",
       "        vertical-align: middle;\n",
       "    }\n",
       "\n",
       "    .dataframe tbody tr th {\n",
       "        vertical-align: top;\n",
       "    }\n",
       "\n",
       "    .dataframe thead th {\n",
       "        text-align: right;\n",
       "    }\n",
       "</style>\n",
       "<table border=\"1\" class=\"dataframe\">\n",
       "  <thead>\n",
       "    <tr style=\"text-align: right;\">\n",
       "      <th></th>\n",
       "      <th>Gender</th>\n",
       "      <th>ForeignWorker</th>\n",
       "      <th>Single</th>\n",
       "      <th>Age</th>\n",
       "      <th>LoanDuration</th>\n",
       "      <th>LoanAmount</th>\n",
       "      <th>LoanRateAsPercentOfIncome</th>\n",
       "      <th>YearsAtCurrentHome</th>\n",
       "      <th>NumberOfOtherLoansAtBank</th>\n",
       "      <th>NumberOfLiableIndividuals</th>\n",
       "      <th>...</th>\n",
       "      <th>OtherLoansAtBank</th>\n",
       "      <th>HasCoapplicant</th>\n",
       "      <th>HasGuarantor</th>\n",
       "      <th>OwnsHouse</th>\n",
       "      <th>RentsHouse</th>\n",
       "      <th>Unemployed</th>\n",
       "      <th>YearsAtCurrentJob_lt_1</th>\n",
       "      <th>YearsAtCurrentJob_geq_4</th>\n",
       "      <th>JobClassIsSkilled</th>\n",
       "      <th>target</th>\n",
       "    </tr>\n",
       "  </thead>\n",
       "  <tbody>\n",
       "    <tr>\n",
       "      <th>0</th>\n",
       "      <td>-</td>\n",
       "      <td>-</td>\n",
       "      <td>-</td>\n",
       "      <td>-</td>\n",
       "      <td>18.0</td>\n",
       "      <td>-</td>\n",
       "      <td>-</td>\n",
       "      <td>-</td>\n",
       "      <td>-</td>\n",
       "      <td>-</td>\n",
       "      <td>...</td>\n",
       "      <td>-</td>\n",
       "      <td>-</td>\n",
       "      <td>-</td>\n",
       "      <td>1.0</td>\n",
       "      <td>0.0</td>\n",
       "      <td>-</td>\n",
       "      <td>0.0</td>\n",
       "      <td>-</td>\n",
       "      <td>-</td>\n",
       "      <td>1.0</td>\n",
       "    </tr>\n",
       "  </tbody>\n",
       "</table>\n",
       "<p>1 rows × 28 columns</p>\n",
       "</div>"
      ]
     },
     "metadata": {},
     "output_type": "display_data"
    }
   ],
   "execution_count": 9
  },
  {
   "metadata": {
    "ExecuteTime": {
     "end_time": "2025-05-29T00:48:33.344231Z",
     "start_time": "2025-05-29T00:48:33.336468Z"
    }
   },
   "cell_type": "code",
   "source": [
    "# Before creating DiCE explainer\n",
    "constant_features = [col for col in df.columns\n",
    "                    if df[col].nunique() == 1]\n",
    "if constant_features:\n",
    "    print(f\"Constant features found: {constant_features}\")\n",
    "    # Either remove them or handle specially"
   ],
   "id": "1bd48910ee165194",
   "outputs": [],
   "execution_count": 10
  },
  {
   "metadata": {
    "ExecuteTime": {
     "end_time": "2025-05-29T00:48:33.606772Z",
     "start_time": "2025-05-29T00:48:33.599821Z"
    }
   },
   "cell_type": "code",
   "source": [
    "# get counterfactuals as list\n",
    "cf_list = dice_exp.cf_examples_list[0].final_cfs_df.values.tolist()\n",
    "\n",
    "# Convert query_instance to tensor\n",
    "if isinstance(query_instance, np.ndarray):\n",
    "    query_instance = torch.from_numpy(query_instance).float()\n",
    "\n",
    "for cf in cf_list:\n",
    "    # Convert cf to tensor\n",
    "    if isinstance(cf, list):\n",
    "        cf = np.array(cf)\n",
    "    if isinstance(cf, np.ndarray):\n",
    "        cf = torch.from_numpy(cf).float()\n",
    "\n",
    "    cf_features = cf[:-1]  # all features except the last one which is the target\n",
    "    query_features = query_instance.squeeze()\n",
    "\n",
    "    with torch.no_grad():\n",
    "        # Calculate L1 distance between feature vectors\n",
    "        distance = torch.norm(query_features - cf_features, p=1)\n",
    "        print(f\"L1 distance between query and counterfactual: {distance.item()}\")"
   ],
   "id": "7001c42f3a58201c",
   "outputs": [
    {
     "name": "stdout",
     "output_type": "stream",
     "text": [
      "L1 distance between query and counterfactual: 106.0\n"
     ]
    }
   ],
   "execution_count": 11
  },
  {
   "metadata": {
    "ExecuteTime": {
     "end_time": "2025-05-29T00:48:51.298596Z",
     "start_time": "2025-05-29T00:48:51.291117Z"
    }
   },
   "cell_type": "code",
   "source": [
    "from Helper_functions import *\n",
    "\n",
    "X_positive, X_negative, pos_indices, neg_indices = split_by_classification(model, X_test)\n"
   ],
   "id": "579bc96b0c7b2ac8",
   "outputs": [],
   "execution_count": 13
  },
  {
   "metadata": {
    "ExecuteTime": {
     "end_time": "2025-05-29T00:49:05.103467Z",
     "start_time": "2025-05-29T00:48:51.403392Z"
    }
   },
   "cell_type": "code",
   "source": [
    "query_df = pd.DataFrame(X_negative.cpu().numpy(), columns=feature_names)\n",
    "\n",
    "dice_exp = exp.generate_counterfactuals(\n",
    "    query_df,\n",
    "    total_CFs=1,\n",
    "    desired_class=\"opposite\",\n",
    "    features_to_vary=actionable_features\n",
    ")"
   ],
   "id": "183483e875c4b67e",
   "outputs": [
    {
     "name": "stderr",
     "output_type": "stream",
     "text": [
      "100%|██████████| 32/32 [00:13<00:00,  2.34it/s]\n"
     ]
    }
   ],
   "execution_count": 14
  },
  {
   "metadata": {
    "ExecuteTime": {
     "end_time": "2025-05-29T00:49:05.274501Z",
     "start_time": "2025-05-29T00:49:05.213287Z"
    }
   },
   "cell_type": "code",
   "source": [
    "l1_distances = []\n",
    "for i in range(len(X_negative)):\n",
    "    original = X_negative[i]\n",
    "    cf_df = dice_exp.cf_examples_list[i].final_cfs_df\n",
    "    cf_values = cf_df[feature_names].values  # exclude target column\n",
    "    cf_tensor = torch.from_numpy(cf_values).float().to(device)\n",
    "    distance = torch.norm(original - cf_tensor, p=1).item()\n",
    "    l1_distances.append(distance)\n",
    "\n",
    "# Compute mean L1 distance\n",
    "mean_l1 = np.mean(l1_distances)\n",
    "print(f\"Mean L1 distance for negatively classified data using DiCE: {mean_l1:.2f}\")"
   ],
   "id": "f2e2cc3229c85a5",
   "outputs": [
    {
     "name": "stdout",
     "output_type": "stream",
     "text": [
      "Mean L1 distance for negatively classified data using DiCE: 1214.53\n"
     ]
    }
   ],
   "execution_count": 15
  },
  {
   "metadata": {
    "ExecuteTime": {
     "end_time": "2025-06-03T00:26:52.908201Z",
     "start_time": "2025-06-03T00:26:52.902932Z"
    }
   },
   "cell_type": "code",
   "source": [
    "%%latex\n",
    "the  cost function has this formula\n",
    "\n",
    "$$  BinaryCrossEntropy(D {\\scriptstyle train}) -  \\frac{\\lambda}{|D {\\scriptstyle negative}|} \\cdot \\sum_{x \\in D {\\scriptstyle negative} } C( x )  $$\n",
    "\n",
    "\n",
    "with C(x) is an approximation of the Cost of Recourse set to be\n",
    "$$  C(x) = |G{\\scriptstyle class 1} - G{\\scriptstyle class 2} |     $$\n",
    "\n",
    "G being the logit of that specific class and the approximation being the difference of the logitxs"
   ],
   "id": "2e521e2f9eb62af2",
   "outputs": [
    {
     "data": {
      "text/plain": [
       "<IPython.core.display.Latex object>"
      ],
      "text/latex": "the  cost function has this formula\n\n$$  BinaryCrossEntropy(D {\\scriptstyle train}) -  \\frac{\\lambda}{|D {\\scriptstyle negative}|} \\cdot \\sum_{x \\in D {\\scriptstyle negative} } C( x )  $$\n\n\nwith C(x) is an approximation of the Cost of Recourse set to be\n$$  C(x) = |G{\\scriptstyle class 1} - G{\\scriptstyle class 2} |     $$\n\nG being the logit of that specific class and the approximation being the difference of the logitxs\n"
     },
     "metadata": {},
     "output_type": "display_data"
    }
   ],
   "execution_count": 35
  }
 ],
 "metadata": {
  "kernelspec": {
   "display_name": "Python 3",
   "language": "python",
   "name": "python3"
  },
  "language_info": {
   "codemirror_mode": {
    "name": "ipython",
    "version": 2
   },
   "file_extension": ".py",
   "mimetype": "text/x-python",
   "name": "python",
   "nbconvert_exporter": "python",
   "pygments_lexer": "ipython2",
   "version": "2.7.6"
  }
 },
 "nbformat": 4,
 "nbformat_minor": 5
}
