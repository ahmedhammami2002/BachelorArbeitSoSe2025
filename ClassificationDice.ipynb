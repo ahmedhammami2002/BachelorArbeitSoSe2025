{
 "cells": [
  {
   "metadata": {},
   "cell_type": "markdown",
   "source": "## 1. DataSet import",
   "id": "6fac86fdd08104cf"
  },
  {
   "metadata": {
    "ExecuteTime": {
     "end_time": "2025-06-17T22:31:57.456033Z",
     "start_time": "2025-06-17T22:31:57.446224Z"
    }
   },
   "cell_type": "code",
   "source": [
    "import torch\n",
    "from torch import nn\n",
    "from sklearn.model_selection import train_test_split\n",
    "from prepare_datasets import *\n",
    "\n",
    "X, y, feature_names, categorical_features, continuous_features, actionable_features= get_and_prepare_german_dataset()\n",
    "\n",
    "X = torch.from_numpy(X).type(torch.float)\n",
    "y = torch.from_numpy(y).type(torch.float)\n",
    "X_train, X_test, y_train, y_test = train_test_split(X,\n",
    "                                                    y,\n",
    "                                                    test_size=0.2,\n",
    "                                                    random_state=42)"
   ],
   "id": "b198930cd4e722f1",
   "outputs": [],
   "execution_count": 38
  },
  {
   "metadata": {},
   "cell_type": "markdown",
   "source": "## 2. Model",
   "id": "39a5e6d451351f60"
  },
  {
   "metadata": {
    "ExecuteTime": {
     "end_time": "2025-06-17T22:31:58.467857Z",
     "start_time": "2025-06-17T22:31:58.462830Z"
    }
   },
   "cell_type": "code",
   "source": [
    "# Taken from https://github.com/dylan-slack/manipulating-cfes/blob/main/train_models.py\n",
    "# wanted to use this the same model as in the paper\n",
    "class NeuralNetwork(nn.Module):\n",
    "    def __init__(self, input_size, hidden_size, num_classes):\n",
    "        super(NeuralNetwork, self).__init__()\n",
    "        self.fc1 = nn.Linear(input_size, hidden_size)\n",
    "        self.tanh1 = nn.Tanh()\n",
    "        self.fc2 = nn.Linear(hidden_size, hidden_size)\n",
    "        self.tanh2 = nn.Tanh()\n",
    "        self.fc3 = nn.Linear(hidden_size, hidden_size)\n",
    "        self.tanh3 = nn.Tanh()\n",
    "        self.fc4 = nn.Linear(hidden_size, num_classes)\n",
    "\n",
    "    def forward(self, x):\n",
    "        out = self.fc1(x)\n",
    "        out = self.tanh1(out)\n",
    "        out = self.fc2(out)\n",
    "        out = self.tanh2(out)\n",
    "        out = self.fc3(out)\n",
    "        out = self.tanh3(out)\n",
    "        out = self.fc4(out)\n",
    "        return out\n"
   ],
   "id": "f0bffed6d44ac7ff",
   "outputs": [],
   "execution_count": 39
  },
  {
   "metadata": {
    "ExecuteTime": {
     "end_time": "2025-06-17T22:31:59.891807Z",
     "start_time": "2025-06-17T22:31:59.885522Z"
    }
   },
   "cell_type": "code",
   "source": [
    "torch.manual_seed(41)\n",
    "model = NeuralNetwork(X.shape[1], 200, 2)"
   ],
   "id": "d2e207fb18179fbe",
   "outputs": [],
   "execution_count": 40
  },
  {
   "metadata": {},
   "cell_type": "markdown",
   "source": "## 3. Training",
   "id": "fef0acb46f1e4679"
  },
  {
   "metadata": {
    "ExecuteTime": {
     "end_time": "2025-06-17T22:32:15.641429Z",
     "start_time": "2025-06-17T22:32:01.417450Z"
    }
   },
   "cell_type": "code",
   "source": [
    "from sklearn.metrics import f1_score, accuracy_score\n",
    "\n",
    "epochs = 1001\n",
    "\n",
    "train_losses = []\n",
    "test_losses = []\n",
    "train_f1_scores = []\n",
    "test_f1_scores = []\n",
    "\n",
    "\n",
    "loss_fn = nn.CrossEntropyLoss()\n",
    "optimizer = torch.optim.Adam(model.parameters(), lr=0.0001)\n",
    "\n",
    "for epoch in range(epochs):\n",
    "    model.train()\n",
    "\n",
    "    y_logits = model(X_train)\n",
    "    y_pred = torch.argmax(y_logits, dim=1)\n",
    "    loss = loss_fn(y_logits, y_train.long())\n",
    "\n",
    "    f1_score_training = f1_score(\n",
    "        y_true=y_train.cpu().detach().numpy(),\n",
    "        y_pred=y_pred.cpu().detach().numpy())\n",
    "\n",
    "    optimizer.zero_grad()\n",
    "    loss.backward()\n",
    "    optimizer.step()\n",
    "\n",
    "    ### Testing\n",
    "    model.eval()\n",
    "    with torch.inference_mode():\n",
    "        test_logits = model(X_test)\n",
    "        test_pred = torch.argmax(test_logits, dim=1)\n",
    "        test_loss = loss_fn(test_logits, y_test.long())\n",
    "\n",
    "        f1_score_test = f1_score(\n",
    "            y_true=y_test.cpu().detach().numpy(),\n",
    "            y_pred=test_pred.cpu().detach().numpy())\n",
    "\n",
    "    train_losses.append(loss.item())\n",
    "    test_losses.append(test_loss.item())\n",
    "    train_f1_scores.append(f1_score_training)\n",
    "    test_f1_scores.append(f1_score_test)\n",
    "\n",
    "    if epoch % 100 == 0:\n",
    "        print(f\"Epoch: {epoch} | Loss: {loss:.5f}, F1-Training: {f1_score_training:.2f}% | Test loss: {test_loss:.5f}, F1-Testing: {f1_score_test:.2f}%\")"
   ],
   "id": "600de58273123c17",
   "outputs": [
    {
     "name": "stdout",
     "output_type": "stream",
     "text": [
      "Epoch: 0 | Loss: 0.64789, F1-Training: 0.82% | Test loss: 0.62726, F1-Testing: 0.83%\n",
      "Epoch: 100 | Loss: 0.59639, F1-Training: 0.82% | Test loss: 0.60061, F1-Testing: 0.83%\n",
      "Epoch: 200 | Loss: 0.57190, F1-Training: 0.82% | Test loss: 0.59534, F1-Testing: 0.83%\n",
      "Epoch: 300 | Loss: 0.55950, F1-Training: 0.82% | Test loss: 0.58949, F1-Testing: 0.81%\n",
      "Epoch: 400 | Loss: 0.55054, F1-Training: 0.82% | Test loss: 0.59070, F1-Testing: 0.81%\n",
      "Epoch: 500 | Loss: 0.54252, F1-Training: 0.83% | Test loss: 0.59373, F1-Testing: 0.82%\n",
      "Epoch: 600 | Loss: 0.53501, F1-Training: 0.82% | Test loss: 0.59515, F1-Testing: 0.83%\n",
      "Epoch: 700 | Loss: 0.52896, F1-Training: 0.83% | Test loss: 0.59555, F1-Testing: 0.83%\n",
      "Epoch: 800 | Loss: 0.52344, F1-Training: 0.83% | Test loss: 0.59565, F1-Testing: 0.83%\n",
      "Epoch: 900 | Loss: 0.51821, F1-Training: 0.83% | Test loss: 0.59339, F1-Testing: 0.84%\n",
      "Epoch: 1000 | Loss: 0.51363, F1-Training: 0.83% | Test loss: 0.59174, F1-Testing: 0.85%\n"
     ]
    }
   ],
   "execution_count": 41
  },
  {
   "metadata": {
    "ExecuteTime": {
     "end_time": "2025-06-17T22:27:56.008841Z",
     "start_time": "2025-06-17T22:27:54.025245Z"
    }
   },
   "cell_type": "code",
   "source": [
    "import matplotlib.pyplot as plt\n",
    "plt.figure(figsize=(12, 5))\n",
    "\n",
    "# plot Loss\n",
    "plt.subplot(1, 2, 1)\n",
    "plt.plot(train_losses, label=\"Train Loss\")\n",
    "plt.plot(test_losses, label=\"Test Loss\")\n",
    "plt.xlabel(\"Epochs\")\n",
    "plt.ylabel(\"Loss\")\n",
    "plt.title(\"Training vs. Test Loss\")\n",
    "plt.legend()\n",
    "\n",
    "# plot f1_score\n",
    "plt.subplot(1, 2, 2)\n",
    "plt.plot(train_f1_scores, label=\"Train F1\")\n",
    "plt.plot(test_f1_scores, label=\"Test F1\")\n",
    "plt.xlabel(\"Epochs\")\n",
    "plt.ylabel(\"F1 Score\")\n",
    "plt.title(\"Training vs. Test F1 Score\")\n",
    "plt.legend()\n",
    "\n",
    "plt.tight_layout()\n",
    "plt.show()"
   ],
   "id": "73a0eb3de9528d75",
   "outputs": [
    {
     "data": {
      "text/plain": [
       "<Figure size 1200x500 with 2 Axes>"
      ],
      "image/png": "[encoded data removed]"
     },
     "metadata": {},
     "output_type": "display_data"
    }
   ],
   "execution_count": 23
  },
  {
   "metadata": {},
   "cell_type": "markdown",
   "source": [
    "## 4. Counterfactual generation:\n",
    "### 4.1. of one Instance"
   ],
   "id": "15b98b87d61ce7c9"
  },
  {
   "metadata": {
    "ExecuteTime": {
     "end_time": "2025-06-17T22:33:27.920055Z",
     "start_time": "2025-06-17T22:33:27.879153Z"
    }
   },
   "cell_type": "code",
   "source": [
    "import dice_ml\n",
    "\n",
    "df = pd.DataFrame(X, columns=feature_names)\n",
    "df['target'] = y\n",
    "\n",
    "dice_data = dice_ml.Data(\n",
    "    dataframe=df,\n",
    "    continuous_features=continuous_features,\n",
    "    categorical_features=categorical_features,\n",
    "    outcome_name='target'\n",
    ")"
   ],
   "id": "507fccedc56932c2",
   "outputs": [],
   "execution_count": 45
  },
  {
   "metadata": {
    "ExecuteTime": {
     "end_time": "2025-06-17T22:33:29.158821Z",
     "start_time": "2025-06-17T22:33:29.148759Z"
    }
   },
   "cell_type": "code",
   "source": [
    "class PyTorchModelWrapper:\n",
    "    def __init__(self, model):\n",
    "        self.model = model\n",
    "\n",
    "    def predict_proba(self, x):\n",
    "        self.model.eval()\n",
    "        with torch.no_grad():\n",
    "            x = x.values\n",
    "            x = x.astype(np.float64)\n",
    "            x_tensor = torch.FloatTensor(x)\n",
    "            logits = self.model(x_tensor)\n",
    "            probabilities = torch.softmax(logits, dim=1)  \n",
    "            return probabilities.cpu().numpy()\n",
    "\n",
    "dice_model = dice_ml.Model(\n",
    "    model=PyTorchModelWrapper(model),\n",
    "    backend=\"sklearn\",\n",
    "    model_type='classifier'\n",
    ")\n",
    "\n",
    "exp = dice_ml.Dice(\n",
    "    dice_data,\n",
    "    dice_model,\n",
    "    method=\"genetic\"\n",
    ")\n"
   ],
   "id": "b750abba2d68706",
   "outputs": [],
   "execution_count": 46
  },
  {
   "metadata": {
    "ExecuteTime": {
     "end_time": "2025-06-17T22:39:24.301936Z",
     "start_time": "2025-06-17T22:39:22.823274Z"
    }
   },
   "cell_type": "code",
   "source": [
    "\n",
    "query_instance = X[11:12]\n",
    "query_df = pd.DataFrame(query_instance, columns=feature_names)\n",
    "\n",
    "\n",
    "#  generate counterfactuals\n",
    "dice_exp = exp.generate_counterfactuals(\n",
    "    query_df,\n",
    "    total_CFs=3,\n",
    "    desired_class=\"opposite\",\n",
    "    features_to_vary = actionable_features\n",
    ")\n",
    "\n",
    "dice_exp.visualize_as_dataframe(show_only_changes=True)\n"
   ],
   "id": "f69818bcdc5f9b89",
   "outputs": [
    {
     "name": "stderr",
     "output_type": "stream",
     "text": [
      "100%|██████████| 1/1 [00:01<00:00,  1.42s/it]"
     ]
    },
    {
     "name": "stdout",
     "output_type": "stream",
     "text": [
      "Query instance (original outcome : 0)\n"
     ]
    },
    {
     "name": "stderr",
     "output_type": "stream",
     "text": [
      "\n"
     ]
    },
    {
     "data": {
      "text/plain": [
       "   Gender  ForeignWorker  Single   Age  LoanDuration  LoanAmount  \\\n",
       "0     1.0            0.0     0.0  24.0          48.0      4308.0   \n",
       "\n",
       "   LoanRateAsPercentOfIncome  YearsAtCurrentHome  NumberOfOtherLoansAtBank  \\\n",
       "0                        3.0                 4.0                       1.0   \n",
       "\n",
       "   NumberOfLiableIndividuals  ...  OtherLoansAtBank  HasCoapplicant  \\\n",
       "0                        1.0  ...               0.0             0.0   \n",
       "\n",
       "   HasGuarantor  OwnsHouse  RentsHouse  Unemployed  YearsAtCurrentJob_lt_1  \\\n",
       "0           0.0        0.0         1.0         0.0                     1.0   \n",
       "\n",
       "   YearsAtCurrentJob_geq_4  JobClassIsSkilled  target  \n",
       "0                      0.0                1.0       0  \n",
       "\n",
       "[1 rows x 28 columns]"
      ],
      "text/html": [
       "<div>\n",
       "<style scoped>\n",
       "    .dataframe tbody tr th:only-of-type {\n",
       "        vertical-align: middle;\n",
       "    }\n",
       "\n",
       "    .dataframe tbody tr th {\n",
       "        vertical-align: top;\n",
       "    }\n",
       "\n",
       "    .dataframe thead th {\n",
       "        text-align: right;\n",
       "    }\n",
       "</style>\n",
       "<table border=\"1\" class=\"dataframe\">\n",
       "  <thead>\n",
       "    <tr style=\"text-align: right;\">\n",
       "      <th></th>\n",
       "      <th>Gender</th>\n",
       "      <th>ForeignWorker</th>\n",
       "      <th>Single</th>\n",
       "      <th>Age</th>\n",
       "      <th>LoanDuration</th>\n",
       "      <th>LoanAmount</th>\n",
       "      <th>LoanRateAsPercentOfIncome</th>\n",
       "      <th>YearsAtCurrentHome</th>\n",
       "      <th>NumberOfOtherLoansAtBank</th>\n",
       "      <th>NumberOfLiableIndividuals</th>\n",
       "      <th>...</th>\n",
       "      <th>OtherLoansAtBank</th>\n",
       "      <th>HasCoapplicant</th>\n",
       "      <th>HasGuarantor</th>\n",
       "      <th>OwnsHouse</th>\n",
       "      <th>RentsHouse</th>\n",
       "      <th>Unemployed</th>\n",
       "      <th>YearsAtCurrentJob_lt_1</th>\n",
       "      <th>YearsAtCurrentJob_geq_4</th>\n",
       "      <th>JobClassIsSkilled</th>\n",
       "      <th>target</th>\n",
       "    </tr>\n",
       "  </thead>\n",
       "  <tbody>\n",
       "    <tr>\n",
       "      <th>0</th>\n",
       "      <td>1.0</td>\n",
       "      <td>0.0</td>\n",
       "      <td>0.0</td>\n",
       "      <td>24.0</td>\n",
       "      <td>48.0</td>\n",
       "      <td>4308.0</td>\n",
       "      <td>3.0</td>\n",
       "      <td>4.0</td>\n",
       "      <td>1.0</td>\n",
       "      <td>1.0</td>\n",
       "      <td>...</td>\n",
       "      <td>0.0</td>\n",
       "      <td>0.0</td>\n",
       "      <td>0.0</td>\n",
       "      <td>0.0</td>\n",
       "      <td>1.0</td>\n",
       "      <td>0.0</td>\n",
       "      <td>1.0</td>\n",
       "      <td>0.0</td>\n",
       "      <td>1.0</td>\n",
       "      <td>0</td>\n",
       "    </tr>\n",
       "  </tbody>\n",
       "</table>\n",
       "<p>1 rows × 28 columns</p>\n",
       "</div>"
      ]
     },
     "metadata": {},
     "output_type": "display_data"
    },
    {
     "name": "stdout",
     "output_type": "stream",
     "text": [
      "\n",
      "Diverse Counterfactual set (new outcome: 1.0)\n"
     ]
    },
    {
     "data": {
      "text/plain": [
       "  Gender ForeignWorker Single Age LoanDuration LoanAmount  \\\n",
       "0      -             -      -   -         24.0          -   \n",
       "0      -             -      -   -         24.0          -   \n",
       "0      -             -      -   -         24.0          -   \n",
       "\n",
       "  LoanRateAsPercentOfIncome YearsAtCurrentHome NumberOfOtherLoansAtBank  \\\n",
       "0                         -                  -                        -   \n",
       "0                         -                  -                        -   \n",
       "0                         -                  -                        -   \n",
       "\n",
       "  NumberOfLiableIndividuals  ... OtherLoansAtBank HasCoapplicant HasGuarantor  \\\n",
       "0                         -  ...                -              -            -   \n",
       "0                         -  ...                -              -            -   \n",
       "0                         -  ...                -              -            -   \n",
       "\n",
       "  OwnsHouse RentsHouse Unemployed YearsAtCurrentJob_lt_1  \\\n",
       "0         -          -          -                    0.0   \n",
       "0         -          -          -                      -   \n",
       "0       1.0        0.0          -                    0.0   \n",
       "\n",
       "  YearsAtCurrentJob_geq_4 JobClassIsSkilled target  \n",
       "0                       -                 -    1.0  \n",
       "0                       -                 -    1.0  \n",
       "0                       -                 -    1.0  \n",
       "\n",
       "[3 rows x 28 columns]"
      ],
      "text/html": [
       "<div>\n",
       "<style scoped>\n",
       "    .dataframe tbody tr th:only-of-type {\n",
       "        vertical-align: middle;\n",
       "    }\n",
       "\n",
       "    .dataframe tbody tr th {\n",
       "        vertical-align: top;\n",
       "    }\n",
       "\n",
       "    .dataframe thead th {\n",
       "        text-align: right;\n",
       "    }\n",
       "</style>\n",
       "<table border=\"1\" class=\"dataframe\">\n",
       "  <thead>\n",
       "    <tr style=\"text-align: right;\">\n",
       "      <th></th>\n",
       "      <th>Gender</th>\n",
       "      <th>ForeignWorker</th>\n",
       "      <th>Single</th>\n",
       "      <th>Age</th>\n",
       "      <th>LoanDuration</th>\n",
       "      <th>LoanAmount</th>\n",
       "      <th>LoanRateAsPercentOfIncome</th>\n",
       "      <th>YearsAtCurrentHome</th>\n",
       "      <th>NumberOfOtherLoansAtBank</th>\n",
       "      <th>NumberOfLiableIndividuals</th>\n",
       "      <th>...</th>\n",
       "      <th>OtherLoansAtBank</th>\n",
       "      <th>HasCoapplicant</th>\n",
       "      <th>HasGuarantor</th>\n",
       "      <th>OwnsHouse</th>\n",
       "      <th>RentsHouse</th>\n",
       "      <th>Unemployed</th>\n",
       "      <th>YearsAtCurrentJob_lt_1</th>\n",
       "      <th>YearsAtCurrentJob_geq_4</th>\n",
       "      <th>JobClassIsSkilled</th>\n",
       "      <th>target</th>\n",
       "    </tr>\n",
       "  </thead>\n",
       "  <tbody>\n",
       "    <tr>\n",
       "      <th>0</th>\n",
       "      <td>-</td>\n",
       "      <td>-</td>\n",
       "      <td>-</td>\n",
       "      <td>-</td>\n",
       "      <td>24.0</td>\n",
       "      <td>-</td>\n",
       "      <td>-</td>\n",
       "      <td>-</td>\n",
       "      <td>-</td>\n",
       "      <td>-</td>\n",
       "      <td>...</td>\n",
       "      <td>-</td>\n",
       "      <td>-</td>\n",
       "      <td>-</td>\n",
       "      <td>-</td>\n",
       "      <td>-</td>\n",
       "      <td>-</td>\n",
       "      <td>0.0</td>\n",
       "      <td>-</td>\n",
       "      <td>-</td>\n",
       "      <td>1.0</td>\n",
       "    </tr>\n",
       "    <tr>\n",
       "      <th>0</th>\n",
       "      <td>-</td>\n",
       "      <td>-</td>\n",
       "      <td>-</td>\n",
       "      <td>-</td>\n",
       "      <td>24.0</td>\n",
       "      <td>-</td>\n",
       "      <td>-</td>\n",
       "      <td>-</td>\n",
       "      <td>-</td>\n",
       "      <td>-</td>\n",
       "      <td>...</td>\n",
       "      <td>-</td>\n",
       "      <td>-</td>\n",
       "      <td>-</td>\n",
       "      <td>-</td>\n",
       "      <td>-</td>\n",
       "      <td>-</td>\n",
       "      <td>-</td>\n",
       "      <td>-</td>\n",
       "      <td>-</td>\n",
       "      <td>1.0</td>\n",
       "    </tr>\n",
       "    <tr>\n",
       "      <th>0</th>\n",
       "      <td>-</td>\n",
       "      <td>-</td>\n",
       "      <td>-</td>\n",
       "      <td>-</td>\n",
       "      <td>24.0</td>\n",
       "      <td>-</td>\n",
       "      <td>-</td>\n",
       "      <td>-</td>\n",
       "      <td>-</td>\n",
       "      <td>-</td>\n",
       "      <td>...</td>\n",
       "      <td>-</td>\n",
       "      <td>-</td>\n",
       "      <td>-</td>\n",
       "      <td>1.0</td>\n",
       "      <td>0.0</td>\n",
       "      <td>-</td>\n",
       "      <td>0.0</td>\n",
       "      <td>-</td>\n",
       "      <td>-</td>\n",
       "      <td>1.0</td>\n",
       "    </tr>\n",
       "  </tbody>\n",
       "</table>\n",
       "<p>3 rows × 28 columns</p>\n",
       "</div>"
      ]
     },
     "metadata": {},
     "output_type": "display_data"
    }
   ],
   "execution_count": 62
  },
  {
   "metadata": {},
   "cell_type": "markdown",
   "source": "### 4.2. calculating L1 Distance",
   "id": "633cde6f43ed7e55"
  },
  {
   "metadata": {
    "ExecuteTime": {
     "end_time": "2025-06-17T22:42:11.023473Z",
     "start_time": "2025-06-17T22:42:11.014655Z"
    }
   },
   "cell_type": "code",
   "source": [
    "cf_df = dice_exp.cf_examples_list[0].final_cfs_df\n",
    "original = X[11:12]\n",
    "cf_values = cf_df[feature_names].values\n",
    "cf_tensor = torch.from_numpy(cf_values).float().cpu()\n",
    "distances = torch.norm(original - cf_tensor, p=1, dim=1)\n",
    "distance_mean = distances.mean().item()\n",
    "\n",
    "print(\"Mean Distance between original and cf values:\", distance_mean)\n"
   ],
   "id": "717d253e06637e4b",
   "outputs": [
    {
     "name": "stdout",
     "output_type": "stream",
     "text": [
      "Mean Distance between original and cf values: 230.3333282470703\n"
     ]
    }
   ],
   "execution_count": 66
  },
  {
   "metadata": {},
   "cell_type": "markdown",
   "source": "## 4.3. Calculating the mean value of all L1 Distances of negatively classified instances",
   "id": "525f1c492a354578"
  },
  {
   "metadata": {
    "ExecuteTime": {
     "end_time": "2025-06-17T22:42:26.537936Z",
     "start_time": "2025-06-17T22:42:26.528847Z"
    }
   },
   "cell_type": "code",
   "source": [
    "from Helper_functions import *\n",
    "\n",
    "X_positive, X_negative, pos_indices, neg_indices = split_by_classification(model, X)\n"
   ],
   "id": "7951a15018a562e5",
   "outputs": [],
   "execution_count": 67
  },
  {
   "metadata": {
    "ExecuteTime": {
     "end_time": "2025-06-17T22:51:15.876623Z",
     "start_time": "2025-06-17T22:42:38.275424Z"
    }
   },
   "cell_type": "code",
   "source": [
    "query_df = pd.DataFrame(X_negative.cpu().numpy(), columns=feature_names)\n",
    "\n",
    "dice_exp = exp.generate_counterfactuals(\n",
    "    query_df,\n",
    "    total_CFs=3,\n",
    "    desired_class=\"opposite\",\n",
    "    features_to_vary=actionable_features\n",
    ")"
   ],
   "id": "a23f3c2cb44af321",
   "outputs": [
    {
     "name": "stderr",
     "output_type": "stream",
     "text": [
      "100%|██████████| 145/145 [08:37<00:00,  3.57s/it]\n"
     ]
    }
   ],
   "execution_count": 69
  },
  {
   "metadata": {
    "ExecuteTime": {
     "end_time": "2025-06-17T22:55:10.523078Z",
     "start_time": "2025-06-17T22:55:10.429872Z"
    }
   },
   "cell_type": "code",
   "source": [
    "all_distances = []\n",
    "for i in range(len(X_negative)):\n",
    "    original = X_negative[i]\n",
    "    cf_df = dice_exp.cf_examples_list[i].final_cfs_df\n",
    "\n",
    "    if cf_df is None or cf_df.empty:\n",
    "        continue\n",
    "\n",
    "    cf_values = cf_df[feature_names].values\n",
    "    cf_tensor = torch.from_numpy(cf_values).float().cpu()\n",
    "    distances = torch.norm(original - cf_tensor, p=1, dim=1)\n",
    "    distance_mean = distances.mean().item()\n",
    "    all_distances.append(distance_mean)\n",
    "\n",
    "# Compute mean L1 distance\n",
    "mean_l1 = np.mean(all_distances)\n",
    "print(f\"Mean L1 distance for negatively classified data using DiCE: {mean_l1:.2f}\")"
   ],
   "id": "e196acdab8e0e11f",
   "outputs": [
    {
     "name": "stdout",
     "output_type": "stream",
     "text": [
      "Mean L1 distance for negatively classified data using DiCE: 2069.40\n"
     ]
    }
   ],
   "execution_count": 71
  },
  {
   "metadata": {},
   "cell_type": "markdown",
   "source": "## 5. Saving the model",
   "id": "b891c4dabbf46529"
  },
  {
   "metadata": {
    "ExecuteTime": {
     "end_time": "2025-06-17T23:00:41.896787Z",
     "start_time": "2025-06-17T23:00:41.876800Z"
    }
   },
   "cell_type": "code",
   "source": [
    "from pathlib import Path\n",
    "\n",
    "# 1. Create models directory\n",
    "MODEL_PATH = Path(\"models\")\n",
    "MODEL_PATH.mkdir(parents=True, exist_ok=True)\n",
    "\n",
    "# 2. Create model save path\n",
    "MODEL_NAME = \"01_pytorch_workflow_model_0.pth\"\n",
    "MODEL_SAVE_PATH = MODEL_PATH / MODEL_NAME\n",
    "\n",
    "# 3. Save the model state dict\n",
    "print(f\"Saving model to: {MODEL_SAVE_PATH}\")\n",
    "torch.save(obj=model.state_dict(), # only saving the state_dict() only saves the models learned parameters\n",
    "           f=MODEL_SAVE_PATH)"
   ],
   "id": "f30eada59b56177c",
   "outputs": [
    {
     "name": "stdout",
     "output_type": "stream",
     "text": [
      "Saving model to: models\\01_pytorch_workflow_model_0.pth\n"
     ]
    }
   ],
   "execution_count": 72
  },
  {
   "metadata": {},
   "cell_type": "markdown",
   "source": "## Calculating the initial approximation of recourse",
   "id": "60d749a33f8cf2ca"
  },
  {
   "metadata": {},
   "cell_type": "markdown",
   "source": "## 5. Modifying the Cost function:",
   "id": "7843316f24bfeab8"
  },
  {
   "metadata": {},
   "cell_type": "markdown",
   "source": [
    "the cost function has this formula\n",
    "\n",
    "$$  L (X) = BinaryCrossEntropy(D {\\scriptstyle train}) -  \\frac{\\lambda}{|D {\\scriptstyle negative}|} \\cdot \\sum_{x \\in D {\\scriptstyle negative}} C(x)  $$\n",
    "\n",
    "\n",
    "with C(x) is an approximation of the Cost of Recourse set to be\n",
    "$$ C(x) = |G{\\scriptstyle class 1} - G{\\scriptstyle class 2} |$$\n",
    "\n",
    "G being the logit of that specific class and the approximation being the difference of the logits"
   ],
   "id": "a400c9aa6cbdc39c"
  },
  {
   "metadata": {
    "ExecuteTime": {
     "end_time": "2025-06-17T22:14:11.599334Z",
     "start_time": "2025-06-17T22:14:08.471469Z"
    }
   },
   "cell_type": "markdown",
   "source": "Calculating the counterfactuals for the negatively classified instances mutiple times during the training loop can be very costly. That justifies the use of use of an approximation",
   "id": "385044583f0e61a0"
  },
  {
   "metadata": {
    "ExecuteTime": {
     "end_time": "2025-06-18T00:17:17.314802Z",
     "start_time": "2025-06-18T00:17:15.890019Z"
    }
   },
   "cell_type": "code",
   "source": [
    "lamda = 0.1\n",
    "epochs = 1000\n",
    "patience = 100\n",
    "delta = 0.001\n",
    "best_f1 = 0.0\n",
    "counter = 0\n",
    "\n",
    "loaded_model = NeuralNetwork(X.shape[1], 200, 2)\n",
    "loaded_model.load_state_dict(torch.load(f=MODEL_SAVE_PATH))\n",
    "\n",
    "initial_f1_score = f1_score(y, torch.argmax(loaded_model(X), dim=1))\n",
    "print(f\"Initial f1_score: {initial_f1_score:.2f}\")\n",
    "\n",
    "X_train_positive, X_train_negative, _, _ = split_by_classification(loaded_model, X_train)\n",
    "X_test_positive, X_test_negative, _, _ = split_by_classification(loaded_model, X_test)\n",
    "\n",
    "loss_fn_1 = nn.CrossEntropyLoss()\n",
    "optimizer = torch.optim.Adam(loaded_model.parameters(), lr=0.0001)\n",
    "\n",
    "for epoch in range(epochs):\n",
    "    loaded_model.train()\n",
    "    y_logits = loaded_model(X_train)\n",
    "    y_pred = torch.argmax(y_logits, dim=1)\n",
    "    loss_1 = loss_fn_1(y_logits, y_train.long())\n",
    "\n",
    "    y_logits_negative = loaded_model(X_train_negative)\n",
    "    abs_differences = torch.abs(y_logits_negative[:, 0] - y_logits_negative[:, 1])\n",
    "    loss_2 = torch.mean(abs_differences)\n",
    "\n",
    "    loss = loss_1 - lamda * loss_2\n",
    "\n",
    "    optimizer.zero_grad()\n",
    "    loss.backward()\n",
    "    optimizer.step()\n",
    "\n",
    "    # Evaluation\n",
    "    loaded_model.eval()\n",
    "    with torch.inference_mode():\n",
    "        test_logits = loaded_model(X_test)\n",
    "        test_pred = torch.argmax(test_logits, dim=1)\n",
    "        test_loss_1 = loss_fn_1(test_logits, y_test.long())\n",
    "\n",
    "        y_logits_negative = loaded_model(X_test_negative)\n",
    "        abs_differences = torch.abs(y_logits_negative[:, 0] - y_logits_negative[:, 1])\n",
    "        test_loss_2 = torch.mean(abs_differences)\n",
    "        test_loss = test_loss_1 - lamda * test_loss_2\n",
    "\n",
    "        f1_score_test = f1_score(y_test, test_pred)\n",
    "        pred = torch.argmax(logits, dim=1)\n",
    "        f1_X = f1_score(y_test, pred)\n",
    "    # Early stopping check\n",
    "    if f1_score_test > best_f1 + delta:\n",
    "        best_f1 = f1_score_test\n",
    "        counter = 0\n",
    "        # Optional: Save best model\n",
    "        torch.save(loaded_model.state_dict(), \"models/best_model.pth\")\n",
    "    else:\n",
    "        counter += 1\n",
    "        if counter >= patience:\n",
    "            print(f\"Early stopping at epoch {epoch} (best f1_score: {best_f1:.5f})\")\n",
    "            break\n",
    "\n",
    "    # Refresh classification split\n",
    "    if epoch % 10 == 0:\n",
    "        X_train_positive, X_train_negative, _, _ = split_by_classification(loaded_model, X_train)\n",
    "        X_test_positive, X_test_negative, _, _ = split_by_classification(loaded_model, X_test)\n",
    "\n",
    "    # Logging\n",
    "    if epoch % 100 == 0:\n",
    "        print(f\"Epoch: {epoch}| Train_Loss: {loss:.5f}| Test loss: {test_loss:.5f}| f1_score_test: {f1_score_test:.5f}\")\n",
    "\n",
    "# Load the best model after training\n",
    "best_model = NeuralNetwork(X.shape[1], 200, 2)\n",
    "best_model.load_state_dict(torch.load(\"best_model.pth\"))"
   ],
   "id": "361cb072c48f1abc",
   "outputs": [
    {
     "name": "stdout",
     "output_type": "stream",
     "text": [
      "Initial f1_score: 0.84\n",
      "Epoch: 0| Train_Loss: 0.45661| Test loss: 0.53253| f1_score_test: 0.63478\n",
      "Epoch: 100| Train_Loss: 0.44108| Test loss: 0.55036| f1_score_test: 0.77419\n",
      "Early stopping at epoch 111 (best f1_score: 0.84039)\n"
     ]
    },
    {
     "data": {
      "text/plain": [
       "<All keys matched successfully>"
      ]
     },
     "execution_count": 108,
     "metadata": {},
     "output_type": "execute_result"
    }
   ],
   "execution_count": 108
  },
  {
   "metadata": {
    "ExecuteTime": {
     "end_time": "2025-06-17T22:09:48.681898300Z",
     "start_time": "2025-06-17T22:06:00.179442Z"
    }
   },
   "cell_type": "markdown",
   "source": "## Testing for different Lamdas\n",
   "id": "7e38460e0605ad5e"
  },
  {
   "metadata": {
    "ExecuteTime": {
     "end_time": "2025-06-18T07:32:30.459902Z",
     "start_time": "2025-06-18T01:42:50.417876Z"
    }
   },
   "cell_type": "code",
   "source": [
    "lambdas = np.linspace(0.01, 1, 100)\n",
    "\n",
    "f1_scores = []\n",
    "recourse_Approximations = []\n",
    "actual_Recourse_Means = []\n",
    "for lamda in lambdas:\n",
    "    epochs = 1000\n",
    "    patience = 100\n",
    "    delta = 0.001\n",
    "    best_f1 = 0.0\n",
    "    counter = 0\n",
    "\n",
    "    print(f\"\\nTraining for lambda = {lamda:.3f}\")\n",
    "\n",
    "    loaded_model = NeuralNetwork(X.shape[1], 200, 2)\n",
    "    loaded_model.load_state_dict(torch.load(f=MODEL_SAVE_PATH))\n",
    "\n",
    "    initial_f1_score = f1_score(y, torch.argmax(loaded_model(X), dim=1))\n",
    "    print(f\"Initial f1_score: {initial_f1_score:.2f}\")\n",
    "\n",
    "    X_train_positive, X_train_negative, _, _ = split_by_classification(loaded_model, X_train)\n",
    "    X_test_positive, X_test_negative, _, _ = split_by_classification(loaded_model, X_test)\n",
    "\n",
    "    loss_fn_1 = nn.CrossEntropyLoss()\n",
    "    optimizer = torch.optim.Adam(loaded_model.parameters(), lr=0.0001)\n",
    "\n",
    "    for epoch in range(epochs):\n",
    "        loaded_model.train()\n",
    "        y_logits = loaded_model(X_train)\n",
    "        y_pred = torch.argmax(y_logits, dim=1)\n",
    "        loss_1 = loss_fn_1(y_logits, y_train.long())\n",
    "\n",
    "        y_logits_negative = loaded_model(X_train_negative)\n",
    "        abs_differences = torch.abs(y_logits_negative[:, 0] - y_logits_negative[:, 1])\n",
    "        loss_2 = torch.mean(abs_differences)\n",
    "\n",
    "        loss = loss_1 - lamda * loss_2\n",
    "\n",
    "        optimizer.zero_grad()\n",
    "        loss.backward()\n",
    "        optimizer.step()\n",
    "\n",
    "        # Evaluation\n",
    "        loaded_model.eval()\n",
    "        with torch.inference_mode():\n",
    "            test_logits = loaded_model(X_test)\n",
    "            test_pred = torch.argmax(test_logits, dim=1)\n",
    "            test_loss_1 = loss_fn_1(test_logits, y_test.long())\n",
    "\n",
    "            y_logits_negative = loaded_model(X_test_negative)\n",
    "            abs_differences = torch.abs(y_logits_negative[:, 0] - y_logits_negative[:, 1])\n",
    "            test_loss_2 = torch.mean(abs_differences)\n",
    "            test_loss = test_loss_1 - lamda * test_loss_2\n",
    "\n",
    "            f1_score_test = f1_score(y_test, test_pred)\n",
    "\n",
    "        # Early stopping check\n",
    "        if f1_score_test > best_f1 + delta:\n",
    "            best_f1 = f1_score_test\n",
    "            counter = 0\n",
    "            # Optional: Save best model\n",
    "            torch.save(loaded_model.state_dict(), \"models/best_model.pth\")\n",
    "        else:\n",
    "            counter += 1\n",
    "            if counter >= patience:\n",
    "                print(f\"Early stopping at epoch {epoch} (best f1_score: {best_f1:.5f})\")\n",
    "                f1_scores.append(best_f1)\n",
    "                break\n",
    "\n",
    "        # Refresh classification split\n",
    "        if epoch % 10 == 0:\n",
    "            X_train_positive, X_train_negative, _, _ = split_by_classification(loaded_model, X_train)\n",
    "            X_test_positive, X_test_negative, _, _ = split_by_classification(loaded_model, X_test)\n",
    "\n",
    "        # Logging\n",
    "        if epoch % 100 == 0:\n",
    "            print(f\"Epoch: {epoch}| Train_Loss: {loss:.5f}| Test loss: {test_loss:.5f}| f1_score_test: {f1_score_test:.5f}\")\n",
    "\n",
    "    # Load the best model after training\n",
    "    best_model = NeuralNetwork(X.shape[1], 200, 2)\n",
    "    best_model.load_state_dict(torch.load(\"models/best_model.pth\"))\n",
    "\n",
    "    X_positive, X_negative, _, _ = split_by_classification(best_model, X)\n",
    "    X_test_positive, X_test_negative, _, _ = split_by_classification(best_model, X_test)\n",
    "\n",
    "    y_logits_negative = best_model(X_negative)\n",
    "    abs_differences = torch.abs(y_logits_negative[:, 0] - y_logits_negative[:, 1])\n",
    "    recourse_Approximation = torch.mean(abs_differences)\n",
    "    recourse_Approximations.append(recourse_Approximation.item())\n",
    "\n",
    "    dice_model = dice_ml.Model(\n",
    "        model=PyTorchModelWrapper(best_model),\n",
    "        backend=\"sklearn\",\n",
    "        model_type='classifier'\n",
    "    )\n",
    "\n",
    "    exp = dice_ml.Dice(\n",
    "        dice_data,\n",
    "        dice_model,\n",
    "        method=\"genetic\"\n",
    "    )\n",
    "\n",
    "    query_df = pd.DataFrame(X_test_negative.cpu().numpy(), columns=feature_names)\n",
    "\n",
    "    dice_exp = exp.generate_counterfactuals(\n",
    "        query_df,\n",
    "        total_CFs=3,\n",
    "        desired_class=\"opposite\",\n",
    "        features_to_vary=actionable_features\n",
    "    )\n",
    "\n",
    "    all_distances = []\n",
    "    for i in range(len(X_test_negative)):\n",
    "        original = X_test_negative[i]\n",
    "        cf_df = dice_exp.cf_examples_list[i].final_cfs_df\n",
    "\n",
    "        if cf_df is None or cf_df.empty:\n",
    "            continue\n",
    "\n",
    "        cf_values = cf_df[feature_names].values\n",
    "        cf_tensor = torch.from_numpy(cf_values).float().cpu()\n",
    "        distances = torch.norm(original - cf_tensor, p=1, dim=1)\n",
    "        distance_mean = distances.mean().item()\n",
    "        all_distances.append(distance_mean)\n",
    "\n",
    "    # Compute mean L1 distance\n",
    "    mean_l1 = np.mean(all_distances)\n",
    "    actual_Recourse_Means.append(mean_l1)\n",
    "\n",
    "    print(f\"Mean L1 distance for negatively classified data using DiCE: {mean_l1:.2f}\")\n",
    "    print(f\"Lambda = {lamda:.3f} | f1_score: {best_f1:.4f} | Mean Recourse Approximations: {mean_l1:.4f}\")\n",
    "\n"
   ],
   "id": "1b84dd9af340245",
   "outputs": [
    {
     "name": "stdout",
     "output_type": "stream",
     "text": [
      "\n",
      "Training for lambda = 0.010\n",
      "Initial f1_score: 0.84\n",
      "Epoch: 0| Train_Loss: 0.50789| Test loss: 0.70159| f1_score_test: 0.63478\n",
      "Epoch: 100| Train_Loss: 0.50666| Test loss: 0.58683| f1_score_test: 0.83706\n",
      "Early stopping at epoch 148 (best f1_score: 0.84906)\n"
     ]
    },
    {
     "name": "stderr",
     "output_type": "stream",
     "text": [
      "100%|██████████| 23/23 [01:31<00:00,  4.00s/it]\n"
     ]
    },
    {
     "name": "stdout",
     "output_type": "stream",
     "text": [
      "Mean L1 distance for negatively classified data using DiCE: 1873.57\n",
      "Lambda = 0.010 | f1_score: 0.8491 | Mean Recourse Approximations: 1873.5652\n",
      "\n",
      "Training for lambda = 0.020\n",
      "Initial f1_score: 0.84\n",
      "Epoch: 0| Train_Loss: 0.50219| Test loss: 0.68285| f1_score_test: 0.63478\n",
      "Epoch: 100| Train_Loss: 0.50185| Test loss: 0.58493| f1_score_test: 0.82508\n",
      "Early stopping at epoch 119 (best f1_score: 0.84472)\n"
     ]
    },
    {
     "name": "stderr",
     "output_type": "stream",
     "text": [
      "100%|██████████| 19/19 [01:22<00:00,  4.35s/it]\n"
     ]
    },
    {
     "name": "stdout",
     "output_type": "stream",
     "text": [
      "Mean L1 distance for negatively classified data using DiCE: 1401.27\n",
      "Lambda = 0.020 | f1_score: 0.8447 | Mean Recourse Approximations: 1401.2719\n",
      "\n",
      "Training for lambda = 0.030\n",
      "Initial f1_score: 0.84\n",
      "Epoch: 0| Train_Loss: 0.49649| Test loss: 0.66408| f1_score_test: 0.63478\n",
      "Epoch: 100| Train_Loss: 0.49525| Test loss: 0.58268| f1_score_test: 0.81481\n",
      "Early stopping at epoch 114 (best f1_score: 0.84472)\n"
     ]
    },
    {
     "name": "stderr",
     "output_type": "stream",
     "text": [
      "100%|██████████| 19/19 [00:19<00:00,  1.03s/it]\n"
     ]
    },
    {
     "name": "stdout",
     "output_type": "stream",
     "text": [
      "Mean L1 distance for negatively classified data using DiCE: 1620.02\n",
      "Lambda = 0.030 | f1_score: 0.8447 | Mean Recourse Approximations: 1620.0175\n",
      "\n",
      "Training for lambda = 0.040\n",
      "Initial f1_score: 0.84\n",
      "Epoch: 0| Train_Loss: 0.49079| Test loss: 0.64531| f1_score_test: 0.63478\n",
      "Epoch: 100| Train_Loss: 0.48777| Test loss: 0.57857| f1_score_test: 0.80272\n",
      "Early stopping at epoch 115 (best f1_score: 0.84472)\n"
     ]
    },
    {
     "name": "stderr",
     "output_type": "stream",
     "text": [
      "100%|██████████| 19/19 [01:21<00:00,  4.31s/it]\n"
     ]
    },
    {
     "name": "stdout",
     "output_type": "stream",
     "text": [
      "Mean L1 distance for negatively classified data using DiCE: 1605.51\n",
      "Lambda = 0.040 | f1_score: 0.8447 | Mean Recourse Approximations: 1605.5088\n",
      "\n",
      "Training for lambda = 0.050\n",
      "Initial f1_score: 0.84\n",
      "Epoch: 0| Train_Loss: 0.48510| Test loss: 0.62652| f1_score_test: 0.63478\n",
      "Epoch: 100| Train_Loss: 0.48224| Test loss: 0.57008| f1_score_test: 0.80272\n",
      "Early stopping at epoch 116 (best f1_score: 0.84177)\n"
     ]
    },
    {
     "name": "stderr",
     "output_type": "stream",
     "text": [
      "100%|██████████| 25/25 [02:30<00:00,  6.01s/it]\n"
     ]
    },
    {
     "name": "stdout",
     "output_type": "stream",
     "text": [
      "Mean L1 distance for negatively classified data using DiCE: 1812.40\n",
      "Lambda = 0.050 | f1_score: 0.8418 | Mean Recourse Approximations: 1812.4000\n",
      "\n",
      "Training for lambda = 0.060\n",
      "Initial f1_score: 0.84\n",
      "Epoch: 0| Train_Loss: 0.47940| Test loss: 0.60772| f1_score_test: 0.63478\n",
      "Epoch: 100| Train_Loss: 0.47387| Test loss: 0.56462| f1_score_test: 0.80546\n",
      "Early stopping at epoch 109 (best f1_score: 0.84416)\n"
     ]
    },
    {
     "name": "stderr",
     "output_type": "stream",
     "text": [
      "100%|██████████| 33/33 [04:42<00:00,  8.56s/it]\n"
     ]
    },
    {
     "name": "stdout",
     "output_type": "stream",
     "text": [
      "Mean L1 distance for negatively classified data using DiCE: 2746.67\n",
      "Lambda = 0.060 | f1_score: 0.8442 | Mean Recourse Approximations: 2746.6667\n",
      "\n",
      "Training for lambda = 0.070\n",
      "Initial f1_score: 0.84\n",
      "Epoch: 0| Train_Loss: 0.47370| Test loss: 0.58892| f1_score_test: 0.63478\n",
      "Epoch: 100| Train_Loss: 0.46522| Test loss: 0.55986| f1_score_test: 0.80139\n",
      "Early stopping at epoch 117 (best f1_score: 0.84039)\n"
     ]
    },
    {
     "name": "stderr",
     "output_type": "stream",
     "text": [
      "100%|██████████| 34/34 [00:36<00:00,  1.06s/it]\n"
     ]
    },
    {
     "name": "stdout",
     "output_type": "stream",
     "text": [
      "Mean L1 distance for negatively classified data using DiCE: 2324.50\n",
      "Lambda = 0.070 | f1_score: 0.8404 | Mean Recourse Approximations: 2324.5000\n",
      "\n",
      "Training for lambda = 0.080\n",
      "Initial f1_score: 0.84\n",
      "Epoch: 0| Train_Loss: 0.46800| Test loss: 0.57012| f1_score_test: 0.63478\n",
      "Epoch: 100| Train_Loss: 0.45700| Test loss: 0.55872| f1_score_test: 0.77857\n",
      "Early stopping at epoch 120 (best f1_score: 0.84039)\n"
     ]
    },
    {
     "name": "stderr",
     "output_type": "stream",
     "text": [
      "100%|██████████| 34/34 [01:39<00:00,  2.91s/it]\n"
     ]
    },
    {
     "name": "stdout",
     "output_type": "stream",
     "text": [
      "Mean L1 distance for negatively classified data using DiCE: 2899.44\n",
      "Lambda = 0.080 | f1_score: 0.8404 | Mean Recourse Approximations: 2899.4412\n",
      "\n",
      "Training for lambda = 0.090\n",
      "Initial f1_score: 0.84\n",
      "Epoch: 0| Train_Loss: 0.46231| Test loss: 0.55133| f1_score_test: 0.63478\n",
      "Epoch: 100| Train_Loss: 0.44768| Test loss: 0.55369| f1_score_test: 0.77857\n",
      "Early stopping at epoch 118 (best f1_score: 0.83871)\n"
     ]
    },
    {
     "name": "stderr",
     "output_type": "stream",
     "text": [
      "100%|██████████| 31/31 [02:46<00:00,  5.37s/it]\n"
     ]
    },
    {
     "name": "stdout",
     "output_type": "stream",
     "text": [
      "Mean L1 distance for negatively classified data using DiCE: 2730.81\n",
      "Lambda = 0.090 | f1_score: 0.8387 | Mean Recourse Approximations: 2730.8118\n",
      "\n",
      "Training for lambda = 0.100\n",
      "Initial f1_score: 0.84\n",
      "Epoch: 0| Train_Loss: 0.45661| Test loss: 0.53253| f1_score_test: 0.63478\n",
      "Epoch: 100| Train_Loss: 0.44108| Test loss: 0.55036| f1_score_test: 0.77419\n",
      "Early stopping at epoch 111 (best f1_score: 0.84039)\n"
     ]
    },
    {
     "name": "stderr",
     "output_type": "stream",
     "text": [
      "100%|██████████| 34/34 [02:22<00:00,  4.19s/it]\n"
     ]
    },
    {
     "name": "stdout",
     "output_type": "stream",
     "text": [
      "Mean L1 distance for negatively classified data using DiCE: 2627.74\n",
      "Lambda = 0.100 | f1_score: 0.8404 | Mean Recourse Approximations: 2627.7353\n",
      "\n",
      "Training for lambda = 0.110\n",
      "Initial f1_score: 0.84\n",
      "Epoch: 0| Train_Loss: 0.45091| Test loss: 0.51373| f1_score_test: 0.63478\n",
      "Epoch: 100| Train_Loss: 0.45772| Test loss: 0.53731| f1_score_test: 0.79004\n",
      "Early stopping at epoch 141 (best f1_score: 0.84404)\n"
     ]
    },
    {
     "name": "stderr",
     "output_type": "stream",
     "text": [
      "100%|██████████| 14/14 [01:10<00:00,  5.05s/it]\n"
     ]
    },
    {
     "name": "stdout",
     "output_type": "stream",
     "text": [
      "Mean L1 distance for negatively classified data using DiCE: 2300.61\n",
      "Lambda = 0.110 | f1_score: 0.8440 | Mean Recourse Approximations: 2300.6072\n",
      "\n",
      "Training for lambda = 0.120\n",
      "Initial f1_score: 0.84\n",
      "Epoch: 0| Train_Loss: 0.44521| Test loss: 0.49492| f1_score_test: 0.63478\n",
      "Epoch: 100| Train_Loss: 0.44127| Test loss: 0.53155| f1_score_test: 0.78261\n",
      "Early stopping at epoch 106 (best f1_score: 0.83086)\n"
     ]
    },
    {
     "name": "stderr",
     "output_type": "stream",
     "text": [
      "100%|██████████| 4/4 [00:04<00:00,  1.05s/it]\n"
     ]
    },
    {
     "name": "stdout",
     "output_type": "stream",
     "text": [
      "Mean L1 distance for negatively classified data using DiCE: 4656.67\n",
      "Lambda = 0.120 | f1_score: 0.8309 | Mean Recourse Approximations: 4656.6667\n",
      "\n",
      "Training for lambda = 0.130\n",
      "Initial f1_score: 0.84\n",
      "Epoch: 0| Train_Loss: 0.43952| Test loss: 0.47612| f1_score_test: 0.63478\n",
      "Epoch: 100| Train_Loss: 0.31178| Test loss: 0.44653| f1_score_test: 0.30409\n",
      "Early stopping at epoch 168 (best f1_score: 0.83832)\n"
     ]
    },
    {
     "name": "stderr",
     "output_type": "stream",
     "text": [
      "100%|██████████| 7/7 [00:07<00:00,  1.03s/it]\n"
     ]
    },
    {
     "name": "stdout",
     "output_type": "stream",
     "text": [
      "Mean L1 distance for negatively classified data using DiCE: 3216.05\n",
      "Lambda = 0.130 | f1_score: 0.8383 | Mean Recourse Approximations: 3216.0476\n",
      "\n",
      "Training for lambda = 0.140\n",
      "Initial f1_score: 0.84\n",
      "Epoch: 0| Train_Loss: 0.43382| Test loss: 0.45733| f1_score_test: 0.63478\n",
      "Epoch: 100| Train_Loss: 0.44234| Test loss: 0.50923| f1_score_test: 0.81150\n",
      "Early stopping at epoch 125 (best f1_score: 0.84337)\n"
     ]
    },
    {
     "name": "stderr",
     "output_type": "stream",
     "text": [
      "100%|██████████| 9/9 [01:10<00:00,  7.82s/it]\n"
     ]
    },
    {
     "name": "stdout",
     "output_type": "stream",
     "text": [
      "Mean L1 distance for negatively classified data using DiCE: 3955.28\n",
      "Lambda = 0.140 | f1_score: 0.8434 | Mean Recourse Approximations: 3955.2777\n",
      "\n",
      "Training for lambda = 0.150\n",
      "Initial f1_score: 0.84\n",
      "Epoch: 0| Train_Loss: 0.42812| Test loss: 0.43853| f1_score_test: 0.63478\n",
      "Epoch: 100| Train_Loss: 0.42815| Test loss: 0.53827| f1_score_test: 0.79195\n",
      "Early stopping at epoch 126 (best f1_score: 0.84084)\n"
     ]
    },
    {
     "name": "stderr",
     "output_type": "stream",
     "text": [
      "100%|██████████| 8/8 [00:08<00:00,  1.02s/it]\n"
     ]
    },
    {
     "name": "stdout",
     "output_type": "stream",
     "text": [
      "Mean L1 distance for negatively classified data using DiCE: 5749.25\n",
      "Lambda = 0.150 | f1_score: 0.8408 | Mean Recourse Approximations: 5749.2500\n",
      "\n",
      "Training for lambda = 0.160\n",
      "Initial f1_score: 0.84\n",
      "Epoch: 0| Train_Loss: 0.42242| Test loss: 0.41973| f1_score_test: 0.63478\n",
      "Epoch: 100| Train_Loss: 0.39508| Test loss: 0.47565| f1_score_test: 0.70400\n",
      "Early stopping at epoch 126 (best f1_score: 0.84337)\n"
     ]
    },
    {
     "name": "stderr",
     "output_type": "stream",
     "text": [
      "100%|██████████| 9/9 [00:09<00:00,  1.05s/it]\n"
     ]
    },
    {
     "name": "stdout",
     "output_type": "stream",
     "text": [
      "Mean L1 distance for negatively classified data using DiCE: 4135.44\n",
      "Lambda = 0.160 | f1_score: 0.8434 | Mean Recourse Approximations: 4135.4444\n",
      "\n",
      "Training for lambda = 0.170\n",
      "Initial f1_score: 0.84\n",
      "Epoch: 0| Train_Loss: 0.41673| Test loss: 0.40092| f1_score_test: 0.63478\n",
      "Epoch: 100| Train_Loss: 0.42438| Test loss: 0.41715| f1_score_test: 0.83483\n",
      "Early stopping at epoch 127 (best f1_score: 0.84084)\n"
     ]
    },
    {
     "name": "stderr",
     "output_type": "stream",
     "text": [
      "100%|██████████| 8/8 [01:10<00:00,  8.75s/it]\n"
     ]
    },
    {
     "name": "stdout",
     "output_type": "stream",
     "text": [
      "Mean L1 distance for negatively classified data using DiCE: 4994.35\n",
      "Lambda = 0.170 | f1_score: 0.8408 | Mean Recourse Approximations: 4994.3541\n",
      "\n",
      "Training for lambda = 0.180\n",
      "Initial f1_score: 0.84\n",
      "Epoch: 0| Train_Loss: 0.41103| Test loss: 0.38212| f1_score_test: 0.63478\n",
      "Epoch: 100| Train_Loss: 0.36852| Test loss: 0.36444| f1_score_test: 0.81620\n",
      "Early stopping at epoch 177 (best f1_score: 0.84498)\n"
     ]
    },
    {
     "name": "stderr",
     "output_type": "stream",
     "text": [
      "100%|██████████| 12/12 [00:12<00:00,  1.06s/it]\n"
     ]
    },
    {
     "name": "stdout",
     "output_type": "stream",
     "text": [
      "Mean L1 distance for negatively classified data using DiCE: 1781.39\n",
      "Lambda = 0.180 | f1_score: 0.8450 | Mean Recourse Approximations: 1781.3889\n",
      "\n",
      "Training for lambda = 0.190\n",
      "Initial f1_score: 0.84\n",
      "Epoch: 0| Train_Loss: 0.40533| Test loss: 0.36332| f1_score_test: 0.63478\n",
      "Epoch: 100| Train_Loss: 0.34552| Test loss: 0.40162| f1_score_test: 0.84084\n",
      "Early stopping at epoch 128 (best f1_score: 0.84337)\n"
     ]
    },
    {
     "name": "stderr",
     "output_type": "stream",
     "text": [
      "100%|██████████| 9/9 [00:09<00:00,  1.05s/it]\n"
     ]
    },
    {
     "name": "stdout",
     "output_type": "stream",
     "text": [
      "Mean L1 distance for negatively classified data using DiCE: 3553.26\n",
      "Lambda = 0.190 | f1_score: 0.8434 | Mean Recourse Approximations: 3553.2593\n",
      "\n",
      "Training for lambda = 0.200\n",
      "Initial f1_score: 0.84\n",
      "Epoch: 0| Train_Loss: 0.39963| Test loss: 0.34452| f1_score_test: 0.63478\n",
      "Epoch: 100| Train_Loss: 0.35789| Test loss: 0.42378| f1_score_test: 0.83582\n",
      "Early stopping at epoch 128 (best f1_score: 0.84337)\n"
     ]
    },
    {
     "name": "stderr",
     "output_type": "stream",
     "text": [
      "100%|██████████| 9/9 [00:09<00:00,  1.08s/it]\n"
     ]
    },
    {
     "name": "stdout",
     "output_type": "stream",
     "text": [
      "Mean L1 distance for negatively classified data using DiCE: 2722.89\n",
      "Lambda = 0.200 | f1_score: 0.8434 | Mean Recourse Approximations: 2722.8889\n",
      "\n",
      "Training for lambda = 0.210\n",
      "Initial f1_score: 0.84\n",
      "Epoch: 0| Train_Loss: 0.39394| Test loss: 0.32571| f1_score_test: 0.63478\n",
      "Epoch: 100| Train_Loss: 0.25809| Test loss: 0.31114| f1_score_test: 0.83086\n",
      "Early stopping at epoch 128 (best f1_score: 0.84592)\n"
     ]
    },
    {
     "name": "stderr",
     "output_type": "stream",
     "text": [
      "100%|██████████| 10/10 [02:14<00:00, 13.44s/it]\n"
     ]
    },
    {
     "name": "stdout",
     "output_type": "stream",
     "text": [
      "Mean L1 distance for negatively classified data using DiCE: 2335.12\n",
      "Lambda = 0.210 | f1_score: 0.8459 | Mean Recourse Approximations: 2335.1166\n",
      "\n",
      "Training for lambda = 0.220\n",
      "Initial f1_score: 0.84\n",
      "Epoch: 0| Train_Loss: 0.38824| Test loss: 0.30691| f1_score_test: 0.63478\n",
      "Epoch: 100| Train_Loss: 0.40957| Test loss: 0.33415| f1_score_test: 0.82540\n",
      "Early stopping at epoch 128 (best f1_score: 0.84146)\n"
     ]
    },
    {
     "name": "stderr",
     "output_type": "stream",
     "text": [
      "100%|██████████| 13/13 [01:15<00:00,  5.81s/it]\n"
     ]
    },
    {
     "name": "stdout",
     "output_type": "stream",
     "text": [
      "Mean L1 distance for negatively classified data using DiCE: 3585.92\n",
      "Lambda = 0.220 | f1_score: 0.8415 | Mean Recourse Approximations: 3585.9231\n",
      "\n",
      "Training for lambda = 0.230\n",
      "Initial f1_score: 0.84\n",
      "Epoch: 0| Train_Loss: 0.38254| Test loss: 0.28811| f1_score_test: 0.63478\n",
      "Epoch: 100| Train_Loss: 0.50825| Test loss: 0.46700| f1_score_test: 0.78378\n",
      "Early stopping at epoch 129 (best f1_score: 0.84084)\n"
     ]
    },
    {
     "name": "stderr",
     "output_type": "stream",
     "text": [
      "100%|██████████| 8/8 [00:08<00:00,  1.02s/it]\n"
     ]
    },
    {
     "name": "stdout",
     "output_type": "stream",
     "text": [
      "Mean L1 distance for negatively classified data using DiCE: 2793.42\n",
      "Lambda = 0.230 | f1_score: 0.8408 | Mean Recourse Approximations: 2793.4167\n",
      "\n",
      "Training for lambda = 0.240\n",
      "Initial f1_score: 0.84\n",
      "Epoch: 0| Train_Loss: 0.37684| Test loss: 0.26931| f1_score_test: 0.63478\n",
      "Epoch: 100| Train_Loss: 0.53672| Test loss: 0.49636| f1_score_test: 0.77352\n",
      "Early stopping at epoch 130 (best f1_score: 0.83582)\n"
     ]
    },
    {
     "name": "stderr",
     "output_type": "stream",
     "text": [
      "100%|██████████| 6/6 [00:05<00:00,  1.01it/s]\n"
     ]
    },
    {
     "name": "stdout",
     "output_type": "stream",
     "text": [
      "Mean L1 distance for negatively classified data using DiCE: 2594.61\n",
      "Lambda = 0.240 | f1_score: 0.8358 | Mean Recourse Approximations: 2594.6111\n",
      "\n",
      "Training for lambda = 0.250\n",
      "Initial f1_score: 0.84\n",
      "Epoch: 0| Train_Loss: 0.37115| Test loss: 0.25050| f1_score_test: 0.63478\n",
      "Epoch: 100| Train_Loss: 0.55819| Test loss: 0.60842| f1_score_test: 0.70079\n",
      "Early stopping at epoch 129 (best f1_score: 0.83832)\n"
     ]
    },
    {
     "name": "stderr",
     "output_type": "stream",
     "text": [
      "100%|██████████| 7/7 [00:07<00:00,  1.03s/it]\n"
     ]
    },
    {
     "name": "stdout",
     "output_type": "stream",
     "text": [
      "Mean L1 distance for negatively classified data using DiCE: 4184.33\n",
      "Lambda = 0.250 | f1_score: 0.8383 | Mean Recourse Approximations: 4184.3334\n",
      "\n",
      "Training for lambda = 0.260\n",
      "Initial f1_score: 0.84\n",
      "Epoch: 0| Train_Loss: 0.36545| Test loss: 0.23170| f1_score_test: 0.63478\n",
      "Epoch: 100| Train_Loss: 0.30416| Test loss: 0.34770| f1_score_test: 0.58716\n",
      "Early stopping at epoch 155 (best f1_score: 0.84404)\n"
     ]
    },
    {
     "name": "stderr",
     "output_type": "stream",
     "text": [
      "100%|██████████| 14/14 [00:14<00:00,  1.01s/it]\n"
     ]
    },
    {
     "name": "stdout",
     "output_type": "stream",
     "text": [
      "Mean L1 distance for negatively classified data using DiCE: 1196.55\n",
      "Lambda = 0.260 | f1_score: 0.8440 | Mean Recourse Approximations: 1196.5476\n",
      "\n",
      "Training for lambda = 0.270\n",
      "Initial f1_score: 0.84\n",
      "Epoch: 0| Train_Loss: 0.35975| Test loss: 0.21290| f1_score_test: 0.63478\n",
      "Epoch: 100| Train_Loss: 0.11576| Test loss: 0.24198| f1_score_test: 0.59259\n",
      "Early stopping at epoch 128 (best f1_score: 0.83735)\n"
     ]
    },
    {
     "name": "stderr",
     "output_type": "stream",
     "text": [
      "100%|██████████| 9/9 [00:09<00:00,  1.03s/it]\n"
     ]
    },
    {
     "name": "stdout",
     "output_type": "stream",
     "text": [
      "Mean L1 distance for negatively classified data using DiCE: 2027.52\n",
      "Lambda = 0.270 | f1_score: 0.8373 | Mean Recourse Approximations: 2027.5186\n",
      "\n",
      "Training for lambda = 0.280\n",
      "Initial f1_score: 0.84\n",
      "Epoch: 0| Train_Loss: 0.35405| Test loss: 0.19409| f1_score_test: 0.63478\n",
      "Epoch: 100| Train_Loss: -0.40137| Test loss: -0.02719| f1_score_test: 0.33333\n",
      "Epoch: 200| Train_Loss: 0.43595| Test loss: 0.46029| f1_score_test: 0.72656\n",
      "Early stopping at epoch 222 (best f1_score: 0.84431)\n"
     ]
    },
    {
     "name": "stderr",
     "output_type": "stream",
     "text": [
      "100%|██████████| 7/7 [00:07<00:00,  1.02s/it]\n"
     ]
    },
    {
     "name": "stdout",
     "output_type": "stream",
     "text": [
      "Mean L1 distance for negatively classified data using DiCE: 2017.33\n",
      "Lambda = 0.280 | f1_score: 0.8443 | Mean Recourse Approximations: 2017.3333\n",
      "\n",
      "Training for lambda = 0.290\n",
      "Initial f1_score: 0.84\n",
      "Epoch: 0| Train_Loss: 0.34836| Test loss: 0.17529| f1_score_test: 0.63478\n",
      "Epoch: 100| Train_Loss: 0.59442| Test loss: 0.66711| f1_score_test: 0.63830\n",
      "Early stopping at epoch 129 (best f1_score: 0.83234)\n"
     ]
    },
    {
     "name": "stderr",
     "output_type": "stream",
     "text": [
      "100%|██████████| 7/7 [00:07<00:00,  1.10s/it]\n"
     ]
    },
    {
     "name": "stdout",
     "output_type": "stream",
     "text": [
      "Mean L1 distance for negatively classified data using DiCE: 1326.43\n",
      "Lambda = 0.290 | f1_score: 0.8323 | Mean Recourse Approximations: 1326.4286\n",
      "\n",
      "Training for lambda = 0.300\n",
      "Initial f1_score: 0.84\n",
      "Epoch: 0| Train_Loss: 0.34266| Test loss: 0.15649| f1_score_test: 0.63478\n",
      "Epoch: 100| Train_Loss: 0.22055| Test loss: 0.34705| f1_score_test: 0.60633\n",
      "Early stopping at epoch 129 (best f1_score: 0.83483)\n"
     ]
    },
    {
     "name": "stderr",
     "output_type": "stream",
     "text": [
      "100%|██████████| 8/8 [01:10<00:00,  8.79s/it]\n"
     ]
    },
    {
     "name": "stdout",
     "output_type": "stream",
     "text": [
      "Mean L1 distance for negatively classified data using DiCE: 1126.08\n",
      "Lambda = 0.300 | f1_score: 0.8348 | Mean Recourse Approximations: 1126.0833\n",
      "\n",
      "Training for lambda = 0.310\n",
      "Initial f1_score: 0.84\n",
      "Epoch: 0| Train_Loss: 0.33696| Test loss: 0.13768| f1_score_test: 0.63478\n",
      "Epoch: 100| Train_Loss: 0.23324| Test loss: 0.16185| f1_score_test: 0.79585\n",
      "Early stopping at epoch 133 (best f1_score: 0.83735)\n"
     ]
    },
    {
     "name": "stderr",
     "output_type": "stream",
     "text": [
      "100%|██████████| 9/9 [00:09<00:00,  1.03s/it]\n"
     ]
    },
    {
     "name": "stdout",
     "output_type": "stream",
     "text": [
      "Mean L1 distance for negatively classified data using DiCE: 179.19\n",
      "Lambda = 0.310 | f1_score: 0.8373 | Mean Recourse Approximations: 179.1852\n",
      "\n",
      "Training for lambda = 0.320\n",
      "Initial f1_score: 0.84\n",
      "Epoch: 0| Train_Loss: 0.33126| Test loss: 0.11888| f1_score_test: 0.63478\n",
      "Epoch: 100| Train_Loss: 0.14407| Test loss: 0.05240| f1_score_test: 0.83333\n",
      "Early stopping at epoch 129 (best f1_score: 0.83582)\n"
     ]
    },
    {
     "name": "stderr",
     "output_type": "stream",
     "text": [
      "100%|██████████| 6/6 [00:06<00:00,  1.04s/it]\n"
     ]
    },
    {
     "name": "stdout",
     "output_type": "stream",
     "text": [
      "Mean L1 distance for negatively classified data using DiCE: 181.72\n",
      "Lambda = 0.320 | f1_score: 0.8358 | Mean Recourse Approximations: 181.7222\n",
      "\n",
      "Training for lambda = 0.330\n",
      "Initial f1_score: 0.84\n",
      "Epoch: 0| Train_Loss: 0.32557| Test loss: 0.10008| f1_score_test: 0.63478\n",
      "Epoch: 100| Train_Loss: 0.40912| Test loss: 0.34347| f1_score_test: 0.69076\n",
      "Epoch: 200| Train_Loss: 0.16293| Test loss: 0.05968| f1_score_test: 0.81661\n",
      "Early stopping at epoch 229 (best f1_score: 0.84590)\n"
     ]
    },
    {
     "name": "stderr",
     "output_type": "stream",
     "text": [
      "100%|██████████| 36/36 [00:36<00:00,  1.02s/it]\n"
     ]
    },
    {
     "name": "stdout",
     "output_type": "stream",
     "text": [
      "Mean L1 distance for negatively classified data using DiCE: 538.02\n",
      "Lambda = 0.330 | f1_score: 0.8459 | Mean Recourse Approximations: 538.0185\n",
      "\n",
      "Training for lambda = 0.340\n",
      "Initial f1_score: 0.84\n",
      "Epoch: 0| Train_Loss: 0.31987| Test loss: 0.08128| f1_score_test: 0.63478\n",
      "Epoch: 100| Train_Loss: 0.49323| Test loss: 0.48241| f1_score_test: 0.53922\n",
      "Early stopping at epoch 130 (best f1_score: 0.83281)\n"
     ]
    },
    {
     "name": "stderr",
     "output_type": "stream",
     "text": [
      "100%|██████████| 24/24 [00:24<00:00,  1.02s/it]\n"
     ]
    },
    {
     "name": "stdout",
     "output_type": "stream",
     "text": [
      "Mean L1 distance for negatively classified data using DiCE: 278.15\n",
      "Lambda = 0.340 | f1_score: 0.8328 | Mean Recourse Approximations: 278.1528\n",
      "\n",
      "Training for lambda = 0.350\n",
      "Initial f1_score: 0.84\n",
      "Epoch: 0| Train_Loss: 0.31417| Test loss: 0.06247| f1_score_test: 0.63478\n",
      "Epoch: 100| Train_Loss: 0.46048| Test loss: 0.44250| f1_score_test: 0.57273\n",
      "Early stopping at epoch 150 (best f1_score: 0.83792)\n"
     ]
    },
    {
     "name": "stderr",
     "output_type": "stream",
     "text": [
      "100%|██████████| 14/14 [00:14<00:00,  1.03s/it]\n"
     ]
    },
    {
     "name": "stdout",
     "output_type": "stream",
     "text": [
      "Mean L1 distance for negatively classified data using DiCE: 535.38\n",
      "Lambda = 0.350 | f1_score: 0.8379 | Mean Recourse Approximations: 535.3809\n",
      "\n",
      "Training for lambda = 0.360\n",
      "Initial f1_score: 0.84\n",
      "Epoch: 0| Train_Loss: 0.30847| Test loss: 0.04367| f1_score_test: 0.63478\n",
      "Epoch: 100| Train_Loss: 0.46221| Test loss: 0.45749| f1_score_test: 0.55072\n",
      "Epoch: 200| Train_Loss: -0.30366| Test loss: -0.21541| f1_score_test: 0.59193\n",
      "Early stopping at epoch 268 (best f1_score: 0.84488)\n"
     ]
    },
    {
     "name": "stderr",
     "output_type": "stream",
     "text": [
      "100%|██████████| 38/38 [00:38<00:00,  1.02s/it]\n"
     ]
    },
    {
     "name": "stdout",
     "output_type": "stream",
     "text": [
      "Mean L1 distance for negatively classified data using DiCE: 957.51\n",
      "Lambda = 0.360 | f1_score: 0.8449 | Mean Recourse Approximations: 957.5088\n",
      "\n",
      "Training for lambda = 0.370\n",
      "Initial f1_score: 0.84\n",
      "Epoch: 0| Train_Loss: 0.30278| Test loss: 0.02487| f1_score_test: 0.63478\n",
      "Epoch: 100| Train_Loss: 0.52601| Test loss: 0.46765| f1_score_test: 0.54884\n",
      "Epoch: 200| Train_Loss: -0.59896| Test loss: -0.39227| f1_score_test: 0.44898\n",
      "Early stopping at epoch 238 (best f1_score: 0.84211)\n"
     ]
    },
    {
     "name": "stderr",
     "output_type": "stream",
     "text": [
      "100%|██████████| 37/37 [00:37<00:00,  1.01s/it]\n"
     ]
    },
    {
     "name": "stdout",
     "output_type": "stream",
     "text": [
      "Mean L1 distance for negatively classified data using DiCE: 338.61\n",
      "Lambda = 0.370 | f1_score: 0.8421 | Mean Recourse Approximations: 338.6126\n",
      "\n",
      "Training for lambda = 0.380\n",
      "Initial f1_score: 0.84\n",
      "Epoch: 0| Train_Loss: 0.29708| Test loss: 0.00607| f1_score_test: 0.63478\n",
      "Epoch: 100| Train_Loss: 0.40976| Test loss: 0.35392| f1_score_test: 0.54460\n",
      "Early stopping at epoch 180 (best f1_score: 0.82866)\n"
     ]
    },
    {
     "name": "stderr",
     "output_type": "stream",
     "text": [
      "100%|██████████| 20/20 [00:19<00:00,  1.01it/s]\n"
     ]
    },
    {
     "name": "stdout",
     "output_type": "stream",
     "text": [
      "Mean L1 distance for negatively classified data using DiCE: 443.82\n",
      "Lambda = 0.380 | f1_score: 0.8287 | Mean Recourse Approximations: 443.8167\n",
      "\n",
      "Training for lambda = 0.390\n",
      "Initial f1_score: 0.84\n",
      "Epoch: 0| Train_Loss: 0.29138| Test loss: -0.01273| f1_score_test: 0.63478\n",
      "Epoch: 100| Train_Loss: 0.49609| Test loss: 0.43680| f1_score_test: 0.45685\n",
      "Epoch: 200| Train_Loss: -0.74731| Test loss: -0.50346| f1_score_test: 0.47761\n",
      "Early stopping at epoch 240 (best f1_score: 0.84000)\n"
     ]
    },
    {
     "name": "stderr",
     "output_type": "stream",
     "text": [
      "100%|██████████| 41/41 [00:41<00:00,  1.01s/it]\n"
     ]
    },
    {
     "name": "stdout",
     "output_type": "stream",
     "text": [
      "Mean L1 distance for negatively classified data using DiCE: 755.22\n",
      "Lambda = 0.390 | f1_score: 0.8400 | Mean Recourse Approximations: 755.2195\n",
      "\n",
      "Training for lambda = 0.400\n",
      "Initial f1_score: 0.84\n",
      "Epoch: 0| Train_Loss: 0.28568| Test loss: -0.03154| f1_score_test: 0.63478\n",
      "Epoch: 100| Train_Loss: 0.51850| Test loss: 0.45845| f1_score_test: 0.43299\n",
      "Epoch: 200| Train_Loss: -0.72118| Test loss: -0.46123| f1_score_test: 0.47761\n",
      "Early stopping at epoch 240 (best f1_score: 0.84106)\n"
     ]
    },
    {
     "name": "stderr",
     "output_type": "stream",
     "text": [
      "100%|██████████| 39/39 [00:39<00:00,  1.02s/it]\n"
     ]
    },
    {
     "name": "stdout",
     "output_type": "stream",
     "text": [
      "Mean L1 distance for negatively classified data using DiCE: 881.10\n",
      "Lambda = 0.400 | f1_score: 0.8411 | Mean Recourse Approximations: 881.1026\n",
      "\n",
      "Training for lambda = 0.410\n",
      "Initial f1_score: 0.84\n",
      "Epoch: 0| Train_Loss: 0.27999| Test loss: -0.05034| f1_score_test: 0.63478\n",
      "Epoch: 100| Train_Loss: 0.40014| Test loss: 0.23597| f1_score_test: 0.66939\n",
      "Early stopping at epoch 184 (best f1_score: 0.83893)\n"
     ]
    },
    {
     "name": "stderr",
     "output_type": "stream",
     "text": [
      "100%|██████████| 43/43 [00:43<00:00,  1.01s/it]\n"
     ]
    },
    {
     "name": "stdout",
     "output_type": "stream",
     "text": [
      "Mean L1 distance for negatively classified data using DiCE: 601.38\n",
      "Lambda = 0.410 | f1_score: 0.8389 | Mean Recourse Approximations: 601.3798\n",
      "\n",
      "Training for lambda = 0.420\n",
      "Initial f1_score: 0.84\n",
      "Epoch: 0| Train_Loss: 0.27429| Test loss: -0.06914| f1_score_test: 0.63478\n",
      "Epoch: 100| Train_Loss: 0.25304| Test loss: 0.10020| f1_score_test: 0.65000\n",
      "Early stopping at epoch 181 (best f1_score: 0.83601)\n"
     ]
    },
    {
     "name": "stderr",
     "output_type": "stream",
     "text": [
      "100%|██████████| 30/30 [00:30<00:00,  1.01s/it]\n"
     ]
    },
    {
     "name": "stdout",
     "output_type": "stream",
     "text": [
      "Mean L1 distance for negatively classified data using DiCE: 247.31\n",
      "Lambda = 0.420 | f1_score: 0.8360 | Mean Recourse Approximations: 247.3111\n",
      "\n",
      "Training for lambda = 0.430\n",
      "Initial f1_score: 0.84\n",
      "Epoch: 0| Train_Loss: 0.26859| Test loss: -0.08795| f1_score_test: 0.63478\n",
      "Epoch: 100| Train_Loss: -0.20678| Test loss: -0.42556| f1_score_test: 0.83333\n",
      "Epoch: 200| Train_Loss: -0.95636| Test loss: -0.70912| f1_score_test: 0.39130\n",
      "Early stopping at epoch 231 (best f1_score: 0.84039)\n"
     ]
    },
    {
     "name": "stderr",
     "output_type": "stream",
     "text": [
      "100%|██████████| 34/34 [01:36<00:00,  2.84s/it]\n"
     ]
    },
    {
     "name": "stdout",
     "output_type": "stream",
     "text": [
      "Mean L1 distance for negatively classified data using DiCE: 440.10\n",
      "Lambda = 0.430 | f1_score: 0.8404 | Mean Recourse Approximations: 440.1029\n",
      "\n",
      "Training for lambda = 0.440\n",
      "Initial f1_score: 0.84\n",
      "Epoch: 0| Train_Loss: 0.26289| Test loss: -0.10675| f1_score_test: 0.63478\n",
      "Epoch: 100| Train_Loss: -0.74400| Test loss: -0.60039| f1_score_test: 0.26744\n",
      "Early stopping at epoch 151 (best f1_score: 0.75812)\n"
     ]
    },
    {
     "name": "stderr",
     "output_type": "stream",
     "text": [
      "100%|██████████| 64/64 [01:06<00:00,  1.04s/it]\n"
     ]
    },
    {
     "name": "stdout",
     "output_type": "stream",
     "text": [
      "Mean L1 distance for negatively classified data using DiCE: 1671.94\n",
      "Lambda = 0.440 | f1_score: 0.7581 | Mean Recourse Approximations: 1671.9375\n",
      "\n",
      "Training for lambda = 0.450\n",
      "Initial f1_score: 0.84\n",
      "Epoch: 0| Train_Loss: 0.25720| Test loss: -0.12555| f1_score_test: 0.63478\n",
      "Epoch: 100| Train_Loss: -0.94908| Test loss: -0.70502| f1_score_test: 0.40217\n",
      "Early stopping at epoch 171 (best f1_score: 0.83007)\n"
     ]
    },
    {
     "name": "stderr",
     "output_type": "stream",
     "text": [
      "100%|██████████| 35/35 [00:36<00:00,  1.04s/it]\n"
     ]
    },
    {
     "name": "stdout",
     "output_type": "stream",
     "text": [
      "Mean L1 distance for negatively classified data using DiCE: 638.11\n",
      "Lambda = 0.450 | f1_score: 0.8301 | Mean Recourse Approximations: 638.1143\n",
      "\n",
      "Training for lambda = 0.460\n",
      "Initial f1_score: 0.84\n",
      "Epoch: 0| Train_Loss: 0.25150| Test loss: -0.14435| f1_score_test: 0.63478\n",
      "Epoch: 100| Train_Loss: 0.53706| Test loss: 0.57693| f1_score_test: 0.27381\n",
      "Epoch: 200| Train_Loss: -0.46288| Test loss: -0.34264| f1_score_test: 0.71538\n",
      "Early stopping at epoch 210 (best f1_score: 0.83766)\n"
     ]
    },
    {
     "name": "stderr",
     "output_type": "stream",
     "text": [
      "100%|██████████| 33/33 [00:34<00:00,  1.04s/it]\n"
     ]
    },
    {
     "name": "stdout",
     "output_type": "stream",
     "text": [
      "Mean L1 distance for negatively classified data using DiCE: 519.49\n",
      "Lambda = 0.460 | f1_score: 0.8377 | Mean Recourse Approximations: 519.4950\n",
      "\n",
      "Training for lambda = 0.470\n",
      "Initial f1_score: 0.84\n",
      "Epoch: 0| Train_Loss: 0.24580| Test loss: -0.16316| f1_score_test: 0.63478\n",
      "Epoch: 100| Train_Loss: 0.17652| Test loss: 0.11984| f1_score_test: 0.58447\n",
      "Early stopping at epoch 181 (best f1_score: 0.82192)\n"
     ]
    },
    {
     "name": "stderr",
     "output_type": "stream",
     "text": [
      "100%|██████████| 49/49 [00:50<00:00,  1.03s/it]\n"
     ]
    },
    {
     "name": "stdout",
     "output_type": "stream",
     "text": [
      "Mean L1 distance for negatively classified data using DiCE: 767.18\n",
      "Lambda = 0.470 | f1_score: 0.8219 | Mean Recourse Approximations: 767.1837\n",
      "\n",
      "Training for lambda = 0.480\n",
      "Initial f1_score: 0.84\n",
      "Epoch: 0| Train_Loss: 0.24010| Test loss: -0.18196| f1_score_test: 0.63478\n",
      "Epoch: 100| Train_Loss: -1.25135| Test loss: -1.11750| f1_score_test: 0.24706\n",
      "Epoch: 200| Train_Loss: -0.25735| Test loss: -0.31450| f1_score_test: 0.66116\n",
      "Early stopping at epoch 210 (best f1_score: 0.83934)\n"
     ]
    },
    {
     "name": "stderr",
     "output_type": "stream",
     "text": [
      "100%|██████████| 36/36 [00:36<00:00,  1.02s/it]\n"
     ]
    },
    {
     "name": "stdout",
     "output_type": "stream",
     "text": [
      "Mean L1 distance for negatively classified data using DiCE: 560.09\n",
      "Lambda = 0.480 | f1_score: 0.8393 | Mean Recourse Approximations: 560.0926\n",
      "\n",
      "Training for lambda = 0.490\n",
      "Initial f1_score: 0.84\n",
      "Epoch: 0| Train_Loss: 0.23440| Test loss: -0.20076| f1_score_test: 0.63478\n",
      "Epoch: 100| Train_Loss: -1.26676| Test loss: -1.04902| f1_score_test: 0.23030\n",
      "Early stopping at epoch 141 (best f1_score: 0.76868)\n"
     ]
    },
    {
     "name": "stderr",
     "output_type": "stream",
     "text": [
      "100%|██████████| 60/60 [01:03<00:00,  1.06s/it]\n"
     ]
    },
    {
     "name": "stdout",
     "output_type": "stream",
     "text": [
      "Mean L1 distance for negatively classified data using DiCE: 1618.51\n",
      "Lambda = 0.490 | f1_score: 0.7687 | Mean Recourse Approximations: 1618.5111\n",
      "\n",
      "Training for lambda = 0.500\n",
      "Initial f1_score: 0.84\n",
      "Epoch: 0| Train_Loss: 0.22871| Test loss: -0.21957| f1_score_test: 0.63478\n",
      "Epoch: 100| Train_Loss: -0.57102| Test loss: -0.48521| f1_score_test: 0.59821\n",
      "Epoch: 200| Train_Loss: -1.95234| Test loss: -1.69192| f1_score_test: 0.40212\n",
      "Early stopping at epoch 240 (best f1_score: 0.80952)\n"
     ]
    },
    {
     "name": "stderr",
     "output_type": "stream",
     "text": [
      "100%|██████████| 47/47 [00:51<00:00,  1.10s/it]\n"
     ]
    },
    {
     "name": "stdout",
     "output_type": "stream",
     "text": [
      "Mean L1 distance for negatively classified data using DiCE: 868.75\n",
      "Lambda = 0.500 | f1_score: 0.8095 | Mean Recourse Approximations: 868.7518\n",
      "\n",
      "Training for lambda = 0.510\n",
      "Initial f1_score: 0.84\n",
      "Epoch: 0| Train_Loss: 0.22301| Test loss: -0.23837| f1_score_test: 0.63478\n",
      "Epoch: 100| Train_Loss: 0.33316| Test loss: 0.49834| f1_score_test: 0.17500\n",
      "Early stopping at epoch 150 (best f1_score: 0.81757)\n"
     ]
    },
    {
     "name": "stderr",
     "output_type": "stream",
     "text": [
      "100%|██████████| 45/45 [00:46<00:00,  1.03s/it]\n"
     ]
    },
    {
     "name": "stdout",
     "output_type": "stream",
     "text": [
      "Mean L1 distance for negatively classified data using DiCE: 976.06\n",
      "Lambda = 0.510 | f1_score: 0.8176 | Mean Recourse Approximations: 976.0593\n",
      "\n",
      "Training for lambda = 0.520\n",
      "Initial f1_score: 0.84\n",
      "Epoch: 0| Train_Loss: 0.21731| Test loss: -0.25717| f1_score_test: 0.63478\n",
      "Epoch: 100| Train_Loss: 0.29981| Test loss: 0.44029| f1_score_test: 0.14194\n",
      "Early stopping at epoch 150 (best f1_score: 0.80952)\n"
     ]
    },
    {
     "name": "stderr",
     "output_type": "stream",
     "text": [
      "100%|██████████| 47/47 [01:50<00:00,  2.35s/it]\n"
     ]
    },
    {
     "name": "stdout",
     "output_type": "stream",
     "text": [
      "Mean L1 distance for negatively classified data using DiCE: 1086.69\n",
      "Lambda = 0.520 | f1_score: 0.8095 | Mean Recourse Approximations: 1086.6915\n",
      "\n",
      "Training for lambda = 0.530\n",
      "Initial f1_score: 0.84\n",
      "Epoch: 0| Train_Loss: 0.21161| Test loss: -0.27597| f1_score_test: 0.63478\n",
      "Epoch: 100| Train_Loss: 0.23284| Test loss: 0.38669| f1_score_test: 0.05442\n",
      "Early stopping at epoch 151 (best f1_score: 0.81481)\n"
     ]
    },
    {
     "name": "stderr",
     "output_type": "stream",
     "text": [
      "100%|██████████| 44/44 [01:45<00:00,  2.40s/it]\n"
     ]
    },
    {
     "name": "stdout",
     "output_type": "stream",
     "text": [
      "Mean L1 distance for negatively classified data using DiCE: 722.34\n",
      "Lambda = 0.530 | f1_score: 0.8148 | Mean Recourse Approximations: 722.3409\n",
      "\n",
      "Training for lambda = 0.540\n",
      "Initial f1_score: 0.84\n",
      "Epoch: 0| Train_Loss: 0.20592| Test loss: -0.29478| f1_score_test: 0.63478\n",
      "Epoch: 100| Train_Loss: 0.28539| Test loss: 0.43119| f1_score_test: 0.14103\n",
      "Early stopping at epoch 150 (best f1_score: 0.80420)\n"
     ]
    },
    {
     "name": "stderr",
     "output_type": "stream",
     "text": [
      "100%|██████████| 55/55 [02:59<00:00,  3.27s/it]\n"
     ]
    },
    {
     "name": "stdout",
     "output_type": "stream",
     "text": [
      "Mean L1 distance for negatively classified data using DiCE: 1034.30\n",
      "Lambda = 0.540 | f1_score: 0.8042 | Mean Recourse Approximations: 1034.3030\n",
      "\n",
      "Training for lambda = 0.550\n",
      "Initial f1_score: 0.84\n",
      "Epoch: 0| Train_Loss: 0.20022| Test loss: -0.31358| f1_score_test: 0.63478\n",
      "Epoch: 100| Train_Loss: 0.14991| Test loss: 0.34438| f1_score_test: 0.08054\n",
      "Early stopping at epoch 151 (best f1_score: 0.79152)\n"
     ]
    },
    {
     "name": "stderr",
     "output_type": "stream",
     "text": [
      "100%|██████████| 58/58 [01:00<00:00,  1.04s/it]\n"
     ]
    },
    {
     "name": "stdout",
     "output_type": "stream",
     "text": [
      "Mean L1 distance for negatively classified data using DiCE: 1379.67\n",
      "Lambda = 0.550 | f1_score: 0.7915 | Mean Recourse Approximations: 1379.6724\n",
      "\n",
      "Training for lambda = 0.560\n",
      "Initial f1_score: 0.84\n",
      "Epoch: 0| Train_Loss: 0.19452| Test loss: -0.33238| f1_score_test: 0.63478\n",
      "Epoch: 100| Train_Loss: 0.03147| Test loss: 0.21536| f1_score_test: 0.22892\n",
      "Early stopping at epoch 121 (best f1_score: 0.76364)\n"
     ]
    },
    {
     "name": "stderr",
     "output_type": "stream",
     "text": [
      "100%|██████████| 66/66 [01:08<00:00,  1.03s/it]\n"
     ]
    },
    {
     "name": "stdout",
     "output_type": "stream",
     "text": [
      "Mean L1 distance for negatively classified data using DiCE: 1776.19\n",
      "Lambda = 0.560 | f1_score: 0.7636 | Mean Recourse Approximations: 1776.1869\n",
      "\n",
      "Training for lambda = 0.570\n",
      "Initial f1_score: 0.84\n",
      "Epoch: 0| Train_Loss: 0.18882| Test loss: -0.35119| f1_score_test: 0.63478\n",
      "Epoch: 100| Train_Loss: -0.02326| Test loss: 0.19071| f1_score_test: 0.23171\n",
      "Early stopping at epoch 121 (best f1_score: 0.74074)\n"
     ]
    },
    {
     "name": "stderr",
     "output_type": "stream",
     "text": [
      "100%|██████████| 71/71 [01:13<00:00,  1.03s/it]\n"
     ]
    },
    {
     "name": "stdout",
     "output_type": "stream",
     "text": [
      "Mean L1 distance for negatively classified data using DiCE: 1678.82\n",
      "Lambda = 0.570 | f1_score: 0.7407 | Mean Recourse Approximations: 1678.8169\n",
      "\n",
      "Training for lambda = 0.580\n",
      "Initial f1_score: 0.84\n",
      "Epoch: 0| Train_Loss: 0.18313| Test loss: -0.36999| f1_score_test: 0.63478\n",
      "Epoch: 100| Train_Loss: -0.20765| Test loss: 0.01671| f1_score_test: 0.38043\n",
      "Early stopping at epoch 121 (best f1_score: 0.72868)\n"
     ]
    },
    {
     "name": "stderr",
     "output_type": "stream",
     "text": [
      "100%|██████████| 83/83 [03:29<00:00,  2.53s/it]\n"
     ]
    },
    {
     "name": "stdout",
     "output_type": "stream",
     "text": [
      "Mean L1 distance for negatively classified data using DiCE: 1610.66\n",
      "Lambda = 0.580 | f1_score: 0.7287 | Mean Recourse Approximations: 1610.6606\n",
      "\n",
      "Training for lambda = 0.590\n",
      "Initial f1_score: 0.84\n",
      "Epoch: 0| Train_Loss: 0.17743| Test loss: -0.38879| f1_score_test: 0.63478\n",
      "Epoch: 100| Train_Loss: -0.35985| Test loss: -0.11396| f1_score_test: 0.50000\n",
      "Early stopping at epoch 120 (best f1_score: 0.66116)\n"
     ]
    },
    {
     "name": "stderr",
     "output_type": "stream",
     "text": [
      "100%|██████████| 99/99 [04:40<00:00,  2.83s/it]\n"
     ]
    },
    {
     "name": "stdout",
     "output_type": "stream",
     "text": [
      "Mean L1 distance for negatively classified data using DiCE: 1618.83\n",
      "Lambda = 0.590 | f1_score: 0.6612 | Mean Recourse Approximations: 1618.8317\n",
      "\n",
      "Training for lambda = 0.600\n",
      "Initial f1_score: 0.84\n",
      "Epoch: 0| Train_Loss: 0.17173| Test loss: -0.40759| f1_score_test: 0.63478\n",
      "Epoch: 100| Train_Loss: -0.41759| Test loss: -0.21503| f1_score_test: 0.52941\n",
      "Early stopping at epoch 121 (best f1_score: 0.64655)\n"
     ]
    },
    {
     "name": "stderr",
     "output_type": "stream",
     "text": [
      "100%|██████████| 109/109 [03:29<00:00,  1.92s/it]\n"
     ]
    },
    {
     "name": "stdout",
     "output_type": "stream",
     "text": [
      "Mean L1 distance for negatively classified data using DiCE: 1598.02\n",
      "Lambda = 0.600 | f1_score: 0.6466 | Mean Recourse Approximations: 1598.0229\n",
      "\n",
      "Training for lambda = 0.610\n",
      "Initial f1_score: 0.84\n",
      "Epoch: 0| Train_Loss: 0.16603| Test loss: -0.42640| f1_score_test: 0.63478\n",
      "Early stopping at epoch 100 (best f1_score: 0.63478)\n"
     ]
    },
    {
     "name": "stderr",
     "output_type": "stream",
     "text": [
      "100%|██████████| 111/111 [10:20<00:00,  5.59s/it]\n"
     ]
    },
    {
     "name": "stdout",
     "output_type": "stream",
     "text": [
      "Mean L1 distance for negatively classified data using DiCE: 1688.05\n",
      "Lambda = 0.610 | f1_score: 0.6348 | Mean Recourse Approximations: 1688.0465\n",
      "\n",
      "Training for lambda = 0.620\n",
      "Initial f1_score: 0.84\n",
      "Epoch: 0| Train_Loss: 0.16034| Test loss: -0.44520| f1_score_test: 0.63478\n",
      "Early stopping at epoch 100 (best f1_score: 0.63478)\n"
     ]
    },
    {
     "name": "stderr",
     "output_type": "stream",
     "text": [
      "100%|██████████| 111/111 [08:07<00:00,  4.39s/it]\n"
     ]
    },
    {
     "name": "stdout",
     "output_type": "stream",
     "text": [
      "Mean L1 distance for negatively classified data using DiCE: 1594.73\n",
      "Lambda = 0.620 | f1_score: 0.6348 | Mean Recourse Approximations: 1594.7312\n",
      "\n",
      "Training for lambda = 0.630\n",
      "Initial f1_score: 0.84\n",
      "Epoch: 0| Train_Loss: 0.15464| Test loss: -0.46400| f1_score_test: 0.63478\n",
      "Early stopping at epoch 100 (best f1_score: 0.63478)\n"
     ]
    },
    {
     "name": "stderr",
     "output_type": "stream",
     "text": [
      "100%|██████████| 111/111 [08:09<00:00,  4.41s/it]\n"
     ]
    },
    {
     "name": "stdout",
     "output_type": "stream",
     "text": [
      "Mean L1 distance for negatively classified data using DiCE: 1596.05\n",
      "Lambda = 0.630 | f1_score: 0.6348 | Mean Recourse Approximations: 1596.0466\n",
      "\n",
      "Training for lambda = 0.640\n",
      "Initial f1_score: 0.84\n",
      "Epoch: 0| Train_Loss: 0.14894| Test loss: -0.48280| f1_score_test: 0.63478\n",
      "Early stopping at epoch 100 (best f1_score: 0.63478)\n"
     ]
    },
    {
     "name": "stderr",
     "output_type": "stream",
     "text": [
      "100%|██████████| 111/111 [09:07<00:00,  4.93s/it]\n"
     ]
    },
    {
     "name": "stdout",
     "output_type": "stream",
     "text": [
      "Mean L1 distance for negatively classified data using DiCE: 1592.55\n",
      "Lambda = 0.640 | f1_score: 0.6348 | Mean Recourse Approximations: 1592.5450\n",
      "\n",
      "Training for lambda = 0.650\n",
      "Initial f1_score: 0.84\n",
      "Epoch: 0| Train_Loss: 0.14324| Test loss: -0.50161| f1_score_test: 0.63478\n",
      "Early stopping at epoch 100 (best f1_score: 0.63478)\n"
     ]
    },
    {
     "name": "stderr",
     "output_type": "stream",
     "text": [
      "100%|██████████| 111/111 [07:05<00:00,  3.83s/it]\n"
     ]
    },
    {
     "name": "stdout",
     "output_type": "stream",
     "text": [
      "Mean L1 distance for negatively classified data using DiCE: 1581.55\n",
      "Lambda = 0.650 | f1_score: 0.6348 | Mean Recourse Approximations: 1581.5465\n",
      "\n",
      "Training for lambda = 0.660\n",
      "Initial f1_score: 0.84\n",
      "Epoch: 0| Train_Loss: 0.13755| Test loss: -0.52041| f1_score_test: 0.63478\n",
      "Early stopping at epoch 100 (best f1_score: 0.63478)\n"
     ]
    },
    {
     "name": "stderr",
     "output_type": "stream",
     "text": [
      "100%|██████████| 111/111 [09:10<00:00,  4.96s/it]\n"
     ]
    },
    {
     "name": "stdout",
     "output_type": "stream",
     "text": [
      "Mean L1 distance for negatively classified data using DiCE: 1584.27\n",
      "Lambda = 0.660 | f1_score: 0.6348 | Mean Recourse Approximations: 1584.2688\n",
      "\n",
      "Training for lambda = 0.670\n",
      "Initial f1_score: 0.84\n",
      "Epoch: 0| Train_Loss: 0.13185| Test loss: -0.53921| f1_score_test: 0.63478\n",
      "Early stopping at epoch 100 (best f1_score: 0.63478)\n"
     ]
    },
    {
     "name": "stderr",
     "output_type": "stream",
     "text": [
      "100%|██████████| 111/111 [07:04<00:00,  3.82s/it]\n"
     ]
    },
    {
     "name": "stdout",
     "output_type": "stream",
     "text": [
      "Mean L1 distance for negatively classified data using DiCE: 1627.36\n",
      "Lambda = 0.670 | f1_score: 0.6348 | Mean Recourse Approximations: 1627.3604\n",
      "\n",
      "Training for lambda = 0.680\n",
      "Initial f1_score: 0.84\n",
      "Epoch: 0| Train_Loss: 0.12615| Test loss: -0.55802| f1_score_test: 0.63478\n",
      "Early stopping at epoch 100 (best f1_score: 0.63478)\n"
     ]
    },
    {
     "name": "stderr",
     "output_type": "stream",
     "text": [
      "100%|██████████| 111/111 [07:06<00:00,  3.84s/it]\n"
     ]
    },
    {
     "name": "stdout",
     "output_type": "stream",
     "text": [
      "Mean L1 distance for negatively classified data using DiCE: 1696.01\n",
      "Lambda = 0.680 | f1_score: 0.6348 | Mean Recourse Approximations: 1696.0075\n",
      "\n",
      "Training for lambda = 0.690\n",
      "Initial f1_score: 0.84\n",
      "Epoch: 0| Train_Loss: 0.12045| Test loss: -0.57682| f1_score_test: 0.63478\n",
      "Early stopping at epoch 100 (best f1_score: 0.63478)\n"
     ]
    },
    {
     "name": "stderr",
     "output_type": "stream",
     "text": [
      "100%|██████████| 111/111 [07:08<00:00,  3.86s/it]\n"
     ]
    },
    {
     "name": "stdout",
     "output_type": "stream",
     "text": [
      "Mean L1 distance for negatively classified data using DiCE: 1624.39\n",
      "Lambda = 0.690 | f1_score: 0.6348 | Mean Recourse Approximations: 1624.3904\n",
      "\n",
      "Training for lambda = 0.700\n",
      "Initial f1_score: 0.84\n",
      "Epoch: 0| Train_Loss: 0.11476| Test loss: -0.59562| f1_score_test: 0.63478\n",
      "Early stopping at epoch 100 (best f1_score: 0.63478)\n"
     ]
    },
    {
     "name": "stderr",
     "output_type": "stream",
     "text": [
      "100%|██████████| 111/111 [06:59<00:00,  3.78s/it]\n"
     ]
    },
    {
     "name": "stdout",
     "output_type": "stream",
     "text": [
      "Mean L1 distance for negatively classified data using DiCE: 1700.64\n",
      "Lambda = 0.700 | f1_score: 0.6348 | Mean Recourse Approximations: 1700.6381\n",
      "\n",
      "Training for lambda = 0.710\n",
      "Initial f1_score: 0.84\n",
      "Epoch: 0| Train_Loss: 0.10906| Test loss: -0.61442| f1_score_test: 0.63478\n",
      "Early stopping at epoch 100 (best f1_score: 0.63478)\n"
     ]
    },
    {
     "name": "stderr",
     "output_type": "stream",
     "text": [
      "100%|██████████| 111/111 [06:17<00:00,  3.40s/it]\n"
     ]
    },
    {
     "name": "stdout",
     "output_type": "stream",
     "text": [
      "Mean L1 distance for negatively classified data using DiCE: 1598.59\n",
      "Lambda = 0.710 | f1_score: 0.6348 | Mean Recourse Approximations: 1598.5916\n",
      "\n",
      "Training for lambda = 0.720\n",
      "Initial f1_score: 0.84\n",
      "Epoch: 0| Train_Loss: 0.10336| Test loss: -0.63323| f1_score_test: 0.63478\n",
      "Early stopping at epoch 100 (best f1_score: 0.63478)\n"
     ]
    },
    {
     "name": "stderr",
     "output_type": "stream",
     "text": [
      "100%|██████████| 111/111 [07:11<00:00,  3.89s/it]\n"
     ]
    },
    {
     "name": "stdout",
     "output_type": "stream",
     "text": [
      "Mean L1 distance for negatively classified data using DiCE: 1661.37\n",
      "Lambda = 0.720 | f1_score: 0.6348 | Mean Recourse Approximations: 1661.3694\n",
      "\n",
      "Training for lambda = 0.730\n",
      "Initial f1_score: 0.84\n",
      "Epoch: 0| Train_Loss: 0.09766| Test loss: -0.65203| f1_score_test: 0.63478\n",
      "Early stopping at epoch 100 (best f1_score: 0.63478)\n"
     ]
    },
    {
     "name": "stderr",
     "output_type": "stream",
     "text": [
      "100%|██████████| 111/111 [06:15<00:00,  3.38s/it]\n"
     ]
    },
    {
     "name": "stdout",
     "output_type": "stream",
     "text": [
      "Mean L1 distance for negatively classified data using DiCE: 1591.84\n",
      "Lambda = 0.730 | f1_score: 0.6348 | Mean Recourse Approximations: 1591.8408\n",
      "\n",
      "Training for lambda = 0.740\n",
      "Initial f1_score: 0.84\n",
      "Epoch: 0| Train_Loss: 0.09197| Test loss: -0.67083| f1_score_test: 0.63478\n",
      "Early stopping at epoch 100 (best f1_score: 0.63478)\n"
     ]
    },
    {
     "name": "stderr",
     "output_type": "stream",
     "text": [
      "100%|██████████| 111/111 [07:11<00:00,  3.89s/it]\n"
     ]
    },
    {
     "name": "stdout",
     "output_type": "stream",
     "text": [
      "Mean L1 distance for negatively classified data using DiCE: 1617.28\n",
      "Lambda = 0.740 | f1_score: 0.6348 | Mean Recourse Approximations: 1617.2838\n",
      "\n",
      "Training for lambda = 0.750\n",
      "Initial f1_score: 0.84\n",
      "Epoch: 0| Train_Loss: 0.08627| Test loss: -0.68964| f1_score_test: 0.63478\n",
      "Early stopping at epoch 100 (best f1_score: 0.63478)\n"
     ]
    },
    {
     "name": "stderr",
     "output_type": "stream",
     "text": [
      "100%|██████████| 111/111 [07:08<00:00,  3.86s/it]\n"
     ]
    },
    {
     "name": "stdout",
     "output_type": "stream",
     "text": [
      "Mean L1 distance for negatively classified data using DiCE: 1548.55\n",
      "Lambda = 0.750 | f1_score: 0.6348 | Mean Recourse Approximations: 1548.5465\n",
      "\n",
      "Training for lambda = 0.760\n",
      "Initial f1_score: 0.84\n",
      "Epoch: 0| Train_Loss: 0.08057| Test loss: -0.70844| f1_score_test: 0.63478\n",
      "Early stopping at epoch 100 (best f1_score: 0.63478)\n"
     ]
    },
    {
     "name": "stderr",
     "output_type": "stream",
     "text": [
      "100%|██████████| 111/111 [06:18<00:00,  3.41s/it]\n"
     ]
    },
    {
     "name": "stdout",
     "output_type": "stream",
     "text": [
      "Mean L1 distance for negatively classified data using DiCE: 1681.93\n",
      "Lambda = 0.760 | f1_score: 0.6348 | Mean Recourse Approximations: 1681.9324\n",
      "\n",
      "Training for lambda = 0.770\n",
      "Initial f1_score: 0.84\n",
      "Epoch: 0| Train_Loss: 0.07487| Test loss: -0.72724| f1_score_test: 0.63478\n",
      "Early stopping at epoch 100 (best f1_score: 0.63478)\n"
     ]
    },
    {
     "name": "stderr",
     "output_type": "stream",
     "text": [
      "100%|██████████| 111/111 [09:00<00:00,  4.87s/it]\n"
     ]
    },
    {
     "name": "stdout",
     "output_type": "stream",
     "text": [
      "Mean L1 distance for negatively classified data using DiCE: 1577.58\n",
      "Lambda = 0.770 | f1_score: 0.6348 | Mean Recourse Approximations: 1577.5781\n",
      "\n",
      "Training for lambda = 0.780\n",
      "Initial f1_score: 0.84\n",
      "Epoch: 0| Train_Loss: 0.06918| Test loss: -0.74604| f1_score_test: 0.63478\n",
      "Early stopping at epoch 100 (best f1_score: 0.63478)\n"
     ]
    },
    {
     "name": "stderr",
     "output_type": "stream",
     "text": [
      "100%|██████████| 111/111 [09:03<00:00,  4.89s/it]\n"
     ]
    },
    {
     "name": "stdout",
     "output_type": "stream",
     "text": [
      "Mean L1 distance for negatively classified data using DiCE: 1569.99\n",
      "Lambda = 0.780 | f1_score: 0.6348 | Mean Recourse Approximations: 1569.9925\n",
      "\n",
      "Training for lambda = 0.790\n",
      "Initial f1_score: 0.84\n",
      "Epoch: 0| Train_Loss: 0.06348| Test loss: -0.76485| f1_score_test: 0.63478\n",
      "Early stopping at epoch 100 (best f1_score: 0.63478)\n"
     ]
    },
    {
     "name": "stderr",
     "output_type": "stream",
     "text": [
      "100%|██████████| 111/111 [08:05<00:00,  4.38s/it]\n"
     ]
    },
    {
     "name": "stdout",
     "output_type": "stream",
     "text": [
      "Mean L1 distance for negatively classified data using DiCE: 1578.09\n",
      "Lambda = 0.790 | f1_score: 0.6348 | Mean Recourse Approximations: 1578.0886\n",
      "\n",
      "Training for lambda = 0.800\n",
      "Initial f1_score: 0.84\n",
      "Epoch: 0| Train_Loss: 0.05778| Test loss: -0.78365| f1_score_test: 0.63478\n",
      "Early stopping at epoch 100 (best f1_score: 0.63478)\n"
     ]
    },
    {
     "name": "stderr",
     "output_type": "stream",
     "text": [
      "100%|██████████| 111/111 [05:37<00:00,  3.04s/it]\n"
     ]
    },
    {
     "name": "stdout",
     "output_type": "stream",
     "text": [
      "Mean L1 distance for negatively classified data using DiCE: 1652.46\n",
      "Lambda = 0.800 | f1_score: 0.6348 | Mean Recourse Approximations: 1652.4640\n",
      "\n",
      "Training for lambda = 0.810\n",
      "Initial f1_score: 0.84\n",
      "Epoch: 0| Train_Loss: 0.05208| Test loss: -0.80245| f1_score_test: 0.63478\n",
      "Early stopping at epoch 100 (best f1_score: 0.63478)\n"
     ]
    },
    {
     "name": "stderr",
     "output_type": "stream",
     "text": [
      "100%|██████████| 111/111 [07:42<00:00,  4.17s/it]\n"
     ]
    },
    {
     "name": "stdout",
     "output_type": "stream",
     "text": [
      "Mean L1 distance for negatively classified data using DiCE: 1551.56\n",
      "Lambda = 0.810 | f1_score: 0.6348 | Mean Recourse Approximations: 1551.5571\n",
      "\n",
      "Training for lambda = 0.820\n",
      "Initial f1_score: 0.84\n",
      "Epoch: 0| Train_Loss: 0.04639| Test loss: -0.82126| f1_score_test: 0.63478\n",
      "Early stopping at epoch 100 (best f1_score: 0.63478)\n"
     ]
    },
    {
     "name": "stderr",
     "output_type": "stream",
     "text": [
      "100%|██████████| 111/111 [07:12<00:00,  3.90s/it]\n"
     ]
    },
    {
     "name": "stdout",
     "output_type": "stream",
     "text": [
      "Mean L1 distance for negatively classified data using DiCE: 1654.31\n",
      "Lambda = 0.820 | f1_score: 0.6348 | Mean Recourse Approximations: 1654.3123\n",
      "\n",
      "Training for lambda = 0.830\n",
      "Initial f1_score: 0.84\n",
      "Epoch: 0| Train_Loss: 0.04069| Test loss: -0.84006| f1_score_test: 0.63478\n",
      "Early stopping at epoch 100 (best f1_score: 0.63478)\n"
     ]
    },
    {
     "name": "stderr",
     "output_type": "stream",
     "text": [
      "100%|██████████| 111/111 [04:31<00:00,  2.45s/it]\n"
     ]
    },
    {
     "name": "stdout",
     "output_type": "stream",
     "text": [
      "Mean L1 distance for negatively classified data using DiCE: 1595.66\n",
      "Lambda = 0.830 | f1_score: 0.6348 | Mean Recourse Approximations: 1595.6607\n",
      "\n",
      "Training for lambda = 0.840\n",
      "Initial f1_score: 0.84\n",
      "Epoch: 0| Train_Loss: 0.03499| Test loss: -0.85886| f1_score_test: 0.63478\n",
      "Early stopping at epoch 100 (best f1_score: 0.63478)\n"
     ]
    },
    {
     "name": "stderr",
     "output_type": "stream",
     "text": [
      "100%|██████████| 111/111 [06:16<00:00,  3.40s/it]\n"
     ]
    },
    {
     "name": "stdout",
     "output_type": "stream",
     "text": [
      "Mean L1 distance for negatively classified data using DiCE: 1467.68\n",
      "Lambda = 0.840 | f1_score: 0.6348 | Mean Recourse Approximations: 1467.6832\n",
      "\n",
      "Training for lambda = 0.850\n",
      "Initial f1_score: 0.84\n",
      "Epoch: 0| Train_Loss: 0.02929| Test loss: -0.87766| f1_score_test: 0.63478\n",
      "Early stopping at epoch 100 (best f1_score: 0.63478)\n"
     ]
    },
    {
     "name": "stderr",
     "output_type": "stream",
     "text": [
      "100%|██████████| 111/111 [05:49<00:00,  3.15s/it]\n"
     ]
    },
    {
     "name": "stdout",
     "output_type": "stream",
     "text": [
      "Mean L1 distance for negatively classified data using DiCE: 1743.65\n",
      "Lambda = 0.850 | f1_score: 0.6348 | Mean Recourse Approximations: 1743.6532\n",
      "\n",
      "Training for lambda = 0.860\n",
      "Initial f1_score: 0.84\n",
      "Epoch: 0| Train_Loss: 0.02360| Test loss: -0.89647| f1_score_test: 0.63478\n",
      "Early stopping at epoch 100 (best f1_score: 0.63478)\n"
     ]
    },
    {
     "name": "stderr",
     "output_type": "stream",
     "text": [
      "100%|██████████| 111/111 [05:20<00:00,  2.89s/it]\n"
     ]
    },
    {
     "name": "stdout",
     "output_type": "stream",
     "text": [
      "Mean L1 distance for negatively classified data using DiCE: 1639.37\n",
      "Lambda = 0.860 | f1_score: 0.6348 | Mean Recourse Approximations: 1639.3679\n",
      "\n",
      "Training for lambda = 0.870\n",
      "Initial f1_score: 0.84\n",
      "Epoch: 0| Train_Loss: 0.01790| Test loss: -0.91527| f1_score_test: 0.63478\n",
      "Early stopping at epoch 100 (best f1_score: 0.63478)\n"
     ]
    },
    {
     "name": "stderr",
     "output_type": "stream",
     "text": [
      "100%|██████████| 111/111 [06:19<00:00,  3.42s/it]\n"
     ]
    },
    {
     "name": "stdout",
     "output_type": "stream",
     "text": [
      "Mean L1 distance for negatively classified data using DiCE: 1599.89\n",
      "Lambda = 0.870 | f1_score: 0.6348 | Mean Recourse Approximations: 1599.8904\n",
      "\n",
      "Training for lambda = 0.880\n",
      "Initial f1_score: 0.84\n",
      "Epoch: 0| Train_Loss: 0.01220| Test loss: -0.93407| f1_score_test: 0.63478\n",
      "Early stopping at epoch 100 (best f1_score: 0.63478)\n"
     ]
    },
    {
     "name": "stderr",
     "output_type": "stream",
     "text": [
      "100%|██████████| 111/111 [07:14<00:00,  3.91s/it]\n"
     ]
    },
    {
     "name": "stdout",
     "output_type": "stream",
     "text": [
      "Mean L1 distance for negatively classified data using DiCE: 1583.74\n",
      "Lambda = 0.880 | f1_score: 0.6348 | Mean Recourse Approximations: 1583.7417\n",
      "\n",
      "Training for lambda = 0.890\n",
      "Initial f1_score: 0.84\n",
      "Epoch: 0| Train_Loss: 0.00650| Test loss: -0.95288| f1_score_test: 0.63478\n",
      "Early stopping at epoch 100 (best f1_score: 0.63478)\n"
     ]
    },
    {
     "name": "stderr",
     "output_type": "stream",
     "text": [
      "100%|██████████| 111/111 [05:26<00:00,  2.94s/it]\n"
     ]
    },
    {
     "name": "stdout",
     "output_type": "stream",
     "text": [
      "Mean L1 distance for negatively classified data using DiCE: 1559.08\n",
      "Lambda = 0.890 | f1_score: 0.6348 | Mean Recourse Approximations: 1559.0826\n",
      "\n",
      "Training for lambda = 0.900\n",
      "Initial f1_score: 0.84\n",
      "Epoch: 0| Train_Loss: 0.00081| Test loss: -0.97168| f1_score_test: 0.63478\n",
      "Early stopping at epoch 100 (best f1_score: 0.63478)\n"
     ]
    },
    {
     "name": "stderr",
     "output_type": "stream",
     "text": [
      "100%|██████████| 111/111 [08:15<00:00,  4.46s/it]\n"
     ]
    },
    {
     "name": "stdout",
     "output_type": "stream",
     "text": [
      "Mean L1 distance for negatively classified data using DiCE: 1568.59\n",
      "Lambda = 0.900 | f1_score: 0.6348 | Mean Recourse Approximations: 1568.5901\n",
      "\n",
      "Training for lambda = 0.910\n",
      "Initial f1_score: 0.84\n",
      "Epoch: 0| Train_Loss: -0.00489| Test loss: -0.99048| f1_score_test: 0.63478\n",
      "Early stopping at epoch 100 (best f1_score: 0.63478)\n"
     ]
    },
    {
     "name": "stderr",
     "output_type": "stream",
     "text": [
      "100%|██████████| 111/111 [07:12<00:00,  3.89s/it]\n"
     ]
    },
    {
     "name": "stdout",
     "output_type": "stream",
     "text": [
      "Mean L1 distance for negatively classified data using DiCE: 1634.23\n",
      "Lambda = 0.910 | f1_score: 0.6348 | Mean Recourse Approximations: 1634.2282\n",
      "\n",
      "Training for lambda = 0.920\n",
      "Initial f1_score: 0.84\n",
      "Epoch: 0| Train_Loss: -0.01059| Test loss: -1.00928| f1_score_test: 0.63478\n",
      "Early stopping at epoch 100 (best f1_score: 0.63478)\n"
     ]
    },
    {
     "name": "stderr",
     "output_type": "stream",
     "text": [
      "100%|██████████| 111/111 [05:23<00:00,  2.92s/it]\n"
     ]
    },
    {
     "name": "stdout",
     "output_type": "stream",
     "text": [
      "Mean L1 distance for negatively classified data using DiCE: 1609.96\n",
      "Lambda = 0.920 | f1_score: 0.6348 | Mean Recourse Approximations: 1609.9640\n",
      "\n",
      "Training for lambda = 0.930\n",
      "Initial f1_score: 0.84\n",
      "Epoch: 0| Train_Loss: -0.01629| Test loss: -1.02809| f1_score_test: 0.63478\n",
      "Early stopping at epoch 100 (best f1_score: 0.63478)\n"
     ]
    },
    {
     "name": "stderr",
     "output_type": "stream",
     "text": [
      "100%|██████████| 111/111 [06:17<00:00,  3.40s/it]\n"
     ]
    },
    {
     "name": "stdout",
     "output_type": "stream",
     "text": [
      "Mean L1 distance for negatively classified data using DiCE: 1591.56\n",
      "Lambda = 0.930 | f1_score: 0.6348 | Mean Recourse Approximations: 1591.5586\n",
      "\n",
      "Training for lambda = 0.940\n",
      "Initial f1_score: 0.84\n",
      "Epoch: 0| Train_Loss: -0.02198| Test loss: -1.04689| f1_score_test: 0.63478\n",
      "Early stopping at epoch 100 (best f1_score: 0.63478)\n"
     ]
    },
    {
     "name": "stderr",
     "output_type": "stream",
     "text": [
      "100%|██████████| 111/111 [05:23<00:00,  2.92s/it]\n"
     ]
    },
    {
     "name": "stdout",
     "output_type": "stream",
     "text": [
      "Mean L1 distance for negatively classified data using DiCE: 1666.97\n",
      "Lambda = 0.940 | f1_score: 0.6348 | Mean Recourse Approximations: 1666.9715\n",
      "\n",
      "Training for lambda = 0.950\n",
      "Initial f1_score: 0.84\n",
      "Epoch: 0| Train_Loss: -0.02768| Test loss: -1.06569| f1_score_test: 0.63478\n",
      "Early stopping at epoch 100 (best f1_score: 0.63478)\n"
     ]
    },
    {
     "name": "stderr",
     "output_type": "stream",
     "text": [
      "100%|██████████| 111/111 [05:32<00:00,  3.00s/it]\n"
     ]
    },
    {
     "name": "stdout",
     "output_type": "stream",
     "text": [
      "Mean L1 distance for negatively classified data using DiCE: 1631.14\n",
      "Lambda = 0.950 | f1_score: 0.6348 | Mean Recourse Approximations: 1631.1381\n",
      "\n",
      "Training for lambda = 0.960\n",
      "Initial f1_score: 0.84\n",
      "Epoch: 0| Train_Loss: -0.03338| Test loss: -1.08449| f1_score_test: 0.63478\n",
      "Early stopping at epoch 100 (best f1_score: 0.63478)\n"
     ]
    },
    {
     "name": "stderr",
     "output_type": "stream",
     "text": [
      "100%|██████████| 111/111 [08:04<00:00,  4.36s/it]\n"
     ]
    },
    {
     "name": "stdout",
     "output_type": "stream",
     "text": [
      "Mean L1 distance for negatively classified data using DiCE: 1610.29\n",
      "Lambda = 0.960 | f1_score: 0.6348 | Mean Recourse Approximations: 1610.2898\n",
      "\n",
      "Training for lambda = 0.970\n",
      "Initial f1_score: 0.84\n",
      "Epoch: 0| Train_Loss: -0.03908| Test loss: -1.10330| f1_score_test: 0.63478\n",
      "Early stopping at epoch 100 (best f1_score: 0.63478)\n"
     ]
    },
    {
     "name": "stderr",
     "output_type": "stream",
     "text": [
      "100%|██████████| 111/111 [06:16<00:00,  3.39s/it]\n"
     ]
    },
    {
     "name": "stdout",
     "output_type": "stream",
     "text": [
      "Mean L1 distance for negatively classified data using DiCE: 1681.09\n",
      "Lambda = 0.970 | f1_score: 0.6348 | Mean Recourse Approximations: 1681.0886\n",
      "\n",
      "Training for lambda = 0.980\n",
      "Initial f1_score: 0.84\n",
      "Epoch: 0| Train_Loss: -0.04477| Test loss: -1.12210| f1_score_test: 0.63478\n",
      "Early stopping at epoch 100 (best f1_score: 0.63478)\n"
     ]
    },
    {
     "name": "stderr",
     "output_type": "stream",
     "text": [
      "100%|██████████| 111/111 [06:17<00:00,  3.40s/it]\n"
     ]
    },
    {
     "name": "stdout",
     "output_type": "stream",
     "text": [
      "Mean L1 distance for negatively classified data using DiCE: 1667.46\n",
      "Lambda = 0.980 | f1_score: 0.6348 | Mean Recourse Approximations: 1667.4640\n",
      "\n",
      "Training for lambda = 0.990\n",
      "Initial f1_score: 0.84\n",
      "Epoch: 0| Train_Loss: -0.05047| Test loss: -1.14090| f1_score_test: 0.63478\n",
      "Early stopping at epoch 100 (best f1_score: 0.63478)\n"
     ]
    },
    {
     "name": "stderr",
     "output_type": "stream",
     "text": [
      "100%|██████████| 111/111 [06:17<00:00,  3.40s/it]\n"
     ]
    },
    {
     "name": "stdout",
     "output_type": "stream",
     "text": [
      "Mean L1 distance for negatively classified data using DiCE: 1573.55\n",
      "Lambda = 0.990 | f1_score: 0.6348 | Mean Recourse Approximations: 1573.5481\n",
      "\n",
      "Training for lambda = 1.000\n",
      "Initial f1_score: 0.84\n",
      "Epoch: 0| Train_Loss: -0.05617| Test loss: -1.15971| f1_score_test: 0.63478\n",
      "Early stopping at epoch 100 (best f1_score: 0.63478)\n"
     ]
    },
    {
     "name": "stderr",
     "output_type": "stream",
     "text": [
      "100%|██████████| 111/111 [08:05<00:00,  4.38s/it]"
     ]
    },
    {
     "name": "stdout",
     "output_type": "stream",
     "text": [
      "Mean L1 distance for negatively classified data using DiCE: 1645.14\n",
      "Lambda = 1.000 | f1_score: 0.6348 | Mean Recourse Approximations: 1645.1351\n"
     ]
    },
    {
     "name": "stderr",
     "output_type": "stream",
     "text": [
      "\n"
     ]
    }
   ],
   "execution_count": 123
  },
  {
   "metadata": {
    "ExecuteTime": {
     "end_time": "2025-06-18T07:32:30.954701Z",
     "start_time": "2025-06-18T07:32:30.650122Z"
    }
   },
   "cell_type": "code",
   "source": [
    "plt.figure(figsize=(10, 5))\n",
    "# Accuracy plot\n",
    "plt.subplot(1, 2, 1)\n",
    "plt.plot(lambdas, f1_scores, marker='o', color='blue')\n",
    "plt.title(\"f1_scores vs Lambda\")\n",
    "plt.xlabel(\"Lambda\")\n",
    "plt.ylabel(\"f1_score\")\n",
    "plt.grid(True)\n",
    "\n",
    "# Recourse loss plot\n",
    "plt.subplot(1, 2, 2)\n",
    "plt.plot(lambdas, recourse_Approximations, marker='o', color='green')\n",
    "plt.title(\"Mean Recourse Approximation vs Lambda\")\n",
    "plt.xlabel(\"Lambda\")\n",
    "plt.ylabel(\"Mean Recourse (test_loss_2)\")\n",
    "plt.grid(True)\n",
    "\n",
    "plt.tight_layout()\n",
    "plt.show()\n"
   ],
   "id": "b03241712c175311",
   "outputs": [
    {
     "data": {
      "text/plain": [
       "<Figure size 1000x500 with 2 Axes>"
      ],
      "image/png": "[encoded data removed]"
     },
     "metadata": {},
     "output_type": "display_data"
    }
   ],
   "execution_count": 124
  },
  {
   "metadata": {
    "ExecuteTime": {
     "end_time": "2025-06-18T07:32:31.199694Z",
     "start_time": "2025-06-18T07:32:31.067715Z"
    }
   },
   "cell_type": "code",
   "source": [
    "## Plotting of the mean of Recourse genereated by dice After the Training with different Lambdas\n",
    "plt.figure(figsize=(5, 5))\n",
    "plt.plot(lambdas, actual_Recourse_Means, marker='o', color='red')\n",
    "plt.title(\"Mean Recourse calculated by DiCE vs Lambda\")\n",
    "plt.xlabel(\"Lambda\")\n",
    "plt.ylabel(\"Mean Recourse \")\n",
    "plt.grid(True)"
   ],
   "id": "bf6fd570c521b9a3",
   "outputs": [
    {
     "data": {
      "text/plain": [
       "<Figure size 500x500 with 1 Axes>"
      ],
      "image/png": "[encoded data removed]"
     },
     "metadata": {},
     "output_type": "display_data"
    }
   ],
   "execution_count": 125
  },
  {
   "metadata": {},
   "cell_type": "markdown",
   "source": "i think for lambda = 0.1 the results are ideal . for this lambda the mean recourse loss is 4.0515. here the recouse has doubled around 2.7 times which is a high improvement. But the accuracy took a hard hit sitting around which is not ideal Mean Accuracy: 0.7007",
   "id": "fd42a7e86c800465"
  },
  {
   "metadata": {},
   "cell_type": "markdown",
   "source": [
    "Why cant we use the actual recourse in the training .\n",
    "Because the recourse given by dice is not differentiable."
   ],
   "id": "1012c35d937f4d1f"
  }
 ],
 "metadata": {
  "kernelspec": {
   "display_name": "Python 3",
   "language": "python",
   "name": "python3"
  },
  "language_info": {
   "codemirror_mode": {
    "name": "ipython",
    "version": 2
   },
   "file_extension": ".py",
   "mimetype": "text/x-python",
   "name": "python",
   "nbconvert_exporter": "python",
   "pygments_lexer": "ipython2",
   "version": "2.7.6"
  }
 },
 "nbformat": 4,
 "nbformat_minor": 5
}
